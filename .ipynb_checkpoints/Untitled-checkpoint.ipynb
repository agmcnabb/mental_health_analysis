{
 "cells": [
  {
   "cell_type": "code",
   "execution_count": null,
   "id": "62a087c1-2980-4fc7-a337-51734bf5b5fe",
   "metadata": {},
   "outputs": [],
   "source": []
  }
 ],
 "metadata": {
  "kernelspec": {
   "display_name": "",
   "name": ""
  },
  "language_info": {
   "name": ""
  }
 },
 "nbformat": 4,
 "nbformat_minor": 5
}
