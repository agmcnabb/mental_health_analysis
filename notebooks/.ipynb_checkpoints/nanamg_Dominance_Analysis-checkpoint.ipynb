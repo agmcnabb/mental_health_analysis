{
 "cells": [
  {
   "cell_type": "markdown",
   "id": "464ca712-e1ce-43b1-b214-2b175e5ac3d5",
   "metadata": {},
   "source": [
    "# Dominance Analysis - Pseudo R-Square"
   ]
  },
  {
   "cell_type": "markdown",
   "id": "9fd0506f-3528-48b0-b0b1-9a68e30a7be6",
   "metadata": {},
   "source": [
    "Git repository : https://github.com/dominance-analysis/dominance-analysis\n"
   ]
  },
  {
   "cell_type": "code",
   "execution_count": 1,
   "id": "d8d26f5c-f6b9-4fb2-933b-78fe9eb27018",
   "metadata": {},
   "outputs": [
    {
     "name": "stdout",
     "output_type": "stream",
     "text": [
      "Collecting dominance-analysis\n",
      "  Downloading dominance_analysis-1.1.9-py3-none-any.whl.metadata (1.9 kB)\n",
      "Requirement already satisfied: pandas in /home/nana/.pyenv/versions/3.10.6/envs/mental_health_analysis/lib/python3.10/site-packages (from dominance-analysis) (2.2.1)\n",
      "Requirement already satisfied: numpy in /home/nana/.pyenv/versions/3.10.6/envs/mental_health_analysis/lib/python3.10/site-packages (from dominance-analysis) (1.25.2)\n",
      "Requirement already satisfied: seaborn in /home/nana/.pyenv/versions/3.10.6/envs/mental_health_analysis/lib/python3.10/site-packages (from dominance-analysis) (0.12.2)\n",
      "Requirement already satisfied: matplotlib in /home/nana/.pyenv/versions/3.10.6/envs/mental_health_analysis/lib/python3.10/site-packages (from dominance-analysis) (3.8.3)\n",
      "Requirement already satisfied: scikit-learn in /home/nana/.pyenv/versions/3.10.6/envs/mental_health_analysis/lib/python3.10/site-packages (from dominance-analysis) (1.4.1.post1)\n",
      "Requirement already satisfied: tqdm in /home/nana/.pyenv/versions/3.10.6/envs/mental_health_analysis/lib/python3.10/site-packages (from dominance-analysis) (4.66.2)\n",
      "Collecting plotly (from dominance-analysis)\n",
      "  Downloading plotly-5.20.0-py3-none-any.whl.metadata (7.0 kB)\n",
      "Collecting cufflinks (from dominance-analysis)\n",
      "  Downloading cufflinks-0.17.3.tar.gz (81 kB)\n",
      "\u001b[2K     \u001b[90m━━━━━━━━━━━━━━━━━━━━━━━━━━━━━━━━━━━━━━━━\u001b[0m \u001b[32m81.7/81.7 kB\u001b[0m \u001b[31m1.0 MB/s\u001b[0m eta \u001b[36m0:00:00\u001b[0m\n",
      "\u001b[?25h  Installing build dependencies ... \u001b[?25ldone\n",
      "\u001b[?25h  Getting requirements to build wheel ... \u001b[?25ldone\n",
      "\u001b[?25h  Installing backend dependencies ... \u001b[?25ldone\n",
      "\u001b[?25h  Preparing metadata (pyproject.toml) ... \u001b[?25ldone\n",
      "\u001b[?25hRequirement already satisfied: statsmodels in /home/nana/.pyenv/versions/3.10.6/envs/mental_health_analysis/lib/python3.10/site-packages (from dominance-analysis) (0.14.1)\n",
      "Requirement already satisfied: ipywidgets in /home/nana/.pyenv/versions/3.10.6/envs/mental_health_analysis/lib/python3.10/site-packages (from dominance-analysis) (8.1.2)\n",
      "Collecting bokeh==2.4.3 (from dominance-analysis)\n",
      "  Downloading bokeh-2.4.3-py3-none-any.whl.metadata (14 kB)\n",
      "Requirement already satisfied: scipy in /home/nana/.pyenv/versions/3.10.6/envs/mental_health_analysis/lib/python3.10/site-packages (from dominance-analysis) (1.11.4)\n",
      "Requirement already satisfied: nbformat in /home/nana/.pyenv/versions/3.10.6/envs/mental_health_analysis/lib/python3.10/site-packages (from dominance-analysis) (5.9.2)\n",
      "Requirement already satisfied: Jinja2>=2.9 in /home/nana/.pyenv/versions/3.10.6/envs/mental_health_analysis/lib/python3.10/site-packages (from bokeh==2.4.3->dominance-analysis) (3.1.3)\n",
      "Requirement already satisfied: packaging>=16.8 in /home/nana/.pyenv/versions/3.10.6/envs/mental_health_analysis/lib/python3.10/site-packages (from bokeh==2.4.3->dominance-analysis) (23.2)\n",
      "Requirement already satisfied: pillow>=7.1.0 in /home/nana/.pyenv/versions/3.10.6/envs/mental_health_analysis/lib/python3.10/site-packages (from bokeh==2.4.3->dominance-analysis) (10.2.0)\n",
      "Requirement already satisfied: PyYAML>=3.10 in /home/nana/.pyenv/versions/3.10.6/envs/mental_health_analysis/lib/python3.10/site-packages (from bokeh==2.4.3->dominance-analysis) (6.0.1)\n",
      "Requirement already satisfied: tornado>=5.1 in /home/nana/.pyenv/versions/3.10.6/envs/mental_health_analysis/lib/python3.10/site-packages (from bokeh==2.4.3->dominance-analysis) (6.4)\n",
      "Requirement already satisfied: typing-extensions>=3.10.0 in /home/nana/.pyenv/versions/3.10.6/envs/mental_health_analysis/lib/python3.10/site-packages (from bokeh==2.4.3->dominance-analysis) (4.10.0)\n",
      "Requirement already satisfied: six>=1.9.0 in /home/nana/.pyenv/versions/3.10.6/envs/mental_health_analysis/lib/python3.10/site-packages (from cufflinks->dominance-analysis) (1.16.0)\n",
      "Collecting colorlover>=0.2.1 (from cufflinks->dominance-analysis)\n",
      "  Downloading colorlover-0.3.0-py3-none-any.whl.metadata (421 bytes)\n",
      "Requirement already satisfied: setuptools>=34.4.1 in /home/nana/.pyenv/versions/3.10.6/envs/mental_health_analysis/lib/python3.10/site-packages (from cufflinks->dominance-analysis) (63.2.0)\n",
      "Requirement already satisfied: ipython>=5.3.0 in /home/nana/.pyenv/versions/3.10.6/envs/mental_health_analysis/lib/python3.10/site-packages (from cufflinks->dominance-analysis) (8.22.1)\n",
      "Requirement already satisfied: comm>=0.1.3 in /home/nana/.pyenv/versions/3.10.6/envs/mental_health_analysis/lib/python3.10/site-packages (from ipywidgets->dominance-analysis) (0.2.1)\n",
      "Requirement already satisfied: traitlets>=4.3.1 in /home/nana/.pyenv/versions/3.10.6/envs/mental_health_analysis/lib/python3.10/site-packages (from ipywidgets->dominance-analysis) (5.14.1)\n",
      "Requirement already satisfied: widgetsnbextension~=4.0.10 in /home/nana/.pyenv/versions/3.10.6/envs/mental_health_analysis/lib/python3.10/site-packages (from ipywidgets->dominance-analysis) (4.0.10)\n",
      "Requirement already satisfied: jupyterlab-widgets~=3.0.10 in /home/nana/.pyenv/versions/3.10.6/envs/mental_health_analysis/lib/python3.10/site-packages (from ipywidgets->dominance-analysis) (3.0.10)\n",
      "Requirement already satisfied: python-dateutil>=2.8.2 in /home/nana/.pyenv/versions/3.10.6/envs/mental_health_analysis/lib/python3.10/site-packages (from pandas->dominance-analysis) (2.9.0.post0)\n",
      "Requirement already satisfied: pytz>=2020.1 in /home/nana/.pyenv/versions/3.10.6/envs/mental_health_analysis/lib/python3.10/site-packages (from pandas->dominance-analysis) (2024.1)\n",
      "Requirement already satisfied: tzdata>=2022.7 in /home/nana/.pyenv/versions/3.10.6/envs/mental_health_analysis/lib/python3.10/site-packages (from pandas->dominance-analysis) (2024.1)\n",
      "Collecting tenacity>=6.2.0 (from plotly->dominance-analysis)\n",
      "  Downloading tenacity-8.2.3-py3-none-any.whl.metadata (1.0 kB)\n",
      "Requirement already satisfied: contourpy>=1.0.1 in /home/nana/.pyenv/versions/3.10.6/envs/mental_health_analysis/lib/python3.10/site-packages (from matplotlib->dominance-analysis) (1.2.0)\n",
      "Requirement already satisfied: cycler>=0.10 in /home/nana/.pyenv/versions/3.10.6/envs/mental_health_analysis/lib/python3.10/site-packages (from matplotlib->dominance-analysis) (0.12.1)\n",
      "Requirement already satisfied: fonttools>=4.22.0 in /home/nana/.pyenv/versions/3.10.6/envs/mental_health_analysis/lib/python3.10/site-packages (from matplotlib->dominance-analysis) (4.49.0)\n",
      "Requirement already satisfied: kiwisolver>=1.3.1 in /home/nana/.pyenv/versions/3.10.6/envs/mental_health_analysis/lib/python3.10/site-packages (from matplotlib->dominance-analysis) (1.4.5)\n",
      "Requirement already satisfied: pyparsing>=2.3.1 in /home/nana/.pyenv/versions/3.10.6/envs/mental_health_analysis/lib/python3.10/site-packages (from matplotlib->dominance-analysis) (3.1.1)\n",
      "Requirement already satisfied: fastjsonschema in /home/nana/.pyenv/versions/3.10.6/envs/mental_health_analysis/lib/python3.10/site-packages (from nbformat->dominance-analysis) (2.19.1)\n",
      "Requirement already satisfied: jsonschema>=2.6 in /home/nana/.pyenv/versions/3.10.6/envs/mental_health_analysis/lib/python3.10/site-packages (from nbformat->dominance-analysis) (4.21.1)\n",
      "Requirement already satisfied: jupyter-core in /home/nana/.pyenv/versions/3.10.6/envs/mental_health_analysis/lib/python3.10/site-packages (from nbformat->dominance-analysis) (5.7.1)\n",
      "Requirement already satisfied: joblib>=1.2.0 in /home/nana/.pyenv/versions/3.10.6/envs/mental_health_analysis/lib/python3.10/site-packages (from scikit-learn->dominance-analysis) (1.3.2)\n",
      "Requirement already satisfied: threadpoolctl>=2.0.0 in /home/nana/.pyenv/versions/3.10.6/envs/mental_health_analysis/lib/python3.10/site-packages (from scikit-learn->dominance-analysis) (3.3.0)\n",
      "Requirement already satisfied: patsy>=0.5.4 in /home/nana/.pyenv/versions/3.10.6/envs/mental_health_analysis/lib/python3.10/site-packages (from statsmodels->dominance-analysis) (0.5.6)\n",
      "Requirement already satisfied: decorator in /home/nana/.pyenv/versions/3.10.6/envs/mental_health_analysis/lib/python3.10/site-packages (from ipython>=5.3.0->cufflinks->dominance-analysis) (5.1.1)\n",
      "Requirement already satisfied: jedi>=0.16 in /home/nana/.pyenv/versions/3.10.6/envs/mental_health_analysis/lib/python3.10/site-packages (from ipython>=5.3.0->cufflinks->dominance-analysis) (0.19.1)\n",
      "Requirement already satisfied: matplotlib-inline in /home/nana/.pyenv/versions/3.10.6/envs/mental_health_analysis/lib/python3.10/site-packages (from ipython>=5.3.0->cufflinks->dominance-analysis) (0.1.6)\n",
      "Requirement already satisfied: prompt-toolkit<3.1.0,>=3.0.41 in /home/nana/.pyenv/versions/3.10.6/envs/mental_health_analysis/lib/python3.10/site-packages (from ipython>=5.3.0->cufflinks->dominance-analysis) (3.0.43)\n",
      "Requirement already satisfied: pygments>=2.4.0 in /home/nana/.pyenv/versions/3.10.6/envs/mental_health_analysis/lib/python3.10/site-packages (from ipython>=5.3.0->cufflinks->dominance-analysis) (2.17.2)\n",
      "Requirement already satisfied: stack-data in /home/nana/.pyenv/versions/3.10.6/envs/mental_health_analysis/lib/python3.10/site-packages (from ipython>=5.3.0->cufflinks->dominance-analysis) (0.6.3)\n",
      "Requirement already satisfied: exceptiongroup in /home/nana/.pyenv/versions/3.10.6/envs/mental_health_analysis/lib/python3.10/site-packages (from ipython>=5.3.0->cufflinks->dominance-analysis) (1.2.0)\n",
      "Requirement already satisfied: pexpect>4.3 in /home/nana/.pyenv/versions/3.10.6/envs/mental_health_analysis/lib/python3.10/site-packages (from ipython>=5.3.0->cufflinks->dominance-analysis) (4.9.0)\n",
      "Requirement already satisfied: MarkupSafe>=2.0 in /home/nana/.pyenv/versions/3.10.6/envs/mental_health_analysis/lib/python3.10/site-packages (from Jinja2>=2.9->bokeh==2.4.3->dominance-analysis) (2.1.5)\n",
      "Requirement already satisfied: attrs>=22.2.0 in /home/nana/.pyenv/versions/3.10.6/envs/mental_health_analysis/lib/python3.10/site-packages (from jsonschema>=2.6->nbformat->dominance-analysis) (23.2.0)\n",
      "Requirement already satisfied: jsonschema-specifications>=2023.03.6 in /home/nana/.pyenv/versions/3.10.6/envs/mental_health_analysis/lib/python3.10/site-packages (from jsonschema>=2.6->nbformat->dominance-analysis) (2023.12.1)\n",
      "Requirement already satisfied: referencing>=0.28.4 in /home/nana/.pyenv/versions/3.10.6/envs/mental_health_analysis/lib/python3.10/site-packages (from jsonschema>=2.6->nbformat->dominance-analysis) (0.33.0)\n",
      "Requirement already satisfied: rpds-py>=0.7.1 in /home/nana/.pyenv/versions/3.10.6/envs/mental_health_analysis/lib/python3.10/site-packages (from jsonschema>=2.6->nbformat->dominance-analysis) (0.18.0)\n",
      "Requirement already satisfied: platformdirs>=2.5 in /home/nana/.pyenv/versions/3.10.6/envs/mental_health_analysis/lib/python3.10/site-packages (from jupyter-core->nbformat->dominance-analysis) (4.2.0)\n",
      "Requirement already satisfied: parso<0.9.0,>=0.8.3 in /home/nana/.pyenv/versions/3.10.6/envs/mental_health_analysis/lib/python3.10/site-packages (from jedi>=0.16->ipython>=5.3.0->cufflinks->dominance-analysis) (0.8.3)\n",
      "Requirement already satisfied: ptyprocess>=0.5 in /home/nana/.pyenv/versions/3.10.6/envs/mental_health_analysis/lib/python3.10/site-packages (from pexpect>4.3->ipython>=5.3.0->cufflinks->dominance-analysis) (0.7.0)\n",
      "Requirement already satisfied: wcwidth in /home/nana/.pyenv/versions/3.10.6/envs/mental_health_analysis/lib/python3.10/site-packages (from prompt-toolkit<3.1.0,>=3.0.41->ipython>=5.3.0->cufflinks->dominance-analysis) (0.2.13)\n",
      "Requirement already satisfied: executing>=1.2.0 in /home/nana/.pyenv/versions/3.10.6/envs/mental_health_analysis/lib/python3.10/site-packages (from stack-data->ipython>=5.3.0->cufflinks->dominance-analysis) (2.0.1)\n",
      "Requirement already satisfied: asttokens>=2.1.0 in /home/nana/.pyenv/versions/3.10.6/envs/mental_health_analysis/lib/python3.10/site-packages (from stack-data->ipython>=5.3.0->cufflinks->dominance-analysis) (2.4.1)\n",
      "Requirement already satisfied: pure-eval in /home/nana/.pyenv/versions/3.10.6/envs/mental_health_analysis/lib/python3.10/site-packages (from stack-data->ipython>=5.3.0->cufflinks->dominance-analysis) (0.2.2)\n",
      "Downloading dominance_analysis-1.1.9-py3-none-any.whl (13 kB)\n",
      "Downloading bokeh-2.4.3-py3-none-any.whl (18.5 MB)\n",
      "\u001b[2K   \u001b[90m━━━━━━━━━━━━━━━━━━━━━━━━━━━━━━━━━━━━━━━━\u001b[0m \u001b[32m18.5/18.5 MB\u001b[0m \u001b[31m3.5 MB/s\u001b[0m eta \u001b[36m0:00:00\u001b[0ma \u001b[36m0:00:01\u001b[0m\n",
      "\u001b[?25hDownloading plotly-5.20.0-py3-none-any.whl (15.7 MB)\n",
      "\u001b[2K   \u001b[90m━━━━━━━━━━━━━━━━━━━━━━━━━━━━━━━━━━━━━━━━\u001b[0m \u001b[32m15.7/15.7 MB\u001b[0m \u001b[31m4.6 MB/s\u001b[0m eta \u001b[36m0:00:00\u001b[0m00:01\u001b[0m00:01\u001b[0m\n",
      "\u001b[?25hDownloading colorlover-0.3.0-py3-none-any.whl (8.9 kB)\n",
      "Downloading tenacity-8.2.3-py3-none-any.whl (24 kB)\n",
      "Building wheels for collected packages: cufflinks\n",
      "  Building wheel for cufflinks (pyproject.toml) ... \u001b[?25ldone\n",
      "\u001b[?25h  Created wheel for cufflinks: filename=cufflinks-0.17.3-py3-none-any.whl size=67899 sha256=481db86738a2405ea2b36d1c4aa4e6010e9c39000aced70abdc5302c3a8aac64\n",
      "  Stored in directory: /home/nana/.cache/pip/wheels/09/8a/6b/cbe3e87b2e59bb5f90b49b034ce36b80b46a4d6e38444c34de\n",
      "Successfully built cufflinks\n",
      "Installing collected packages: colorlover, tenacity, plotly, bokeh, cufflinks, dominance-analysis\n",
      "Successfully installed bokeh-2.4.3 colorlover-0.3.0 cufflinks-0.17.3 dominance-analysis-1.1.9 plotly-5.20.0 tenacity-8.2.3\n"
     ]
    }
   ],
   "source": [
    "!pip install dominance-analysis"
   ]
  },
  {
   "cell_type": "code",
   "execution_count": null,
   "id": "8f481573-8b61-4672-80ec-87676d1e1a20",
   "metadata": {},
   "outputs": [],
   "source": [
    "import numpy as np \n",
    "import pandas as pd \n",
    "\n",
    "from dominance_analysis import Dominance"
   ]
  },
  {
   "cell_type": "code",
   "execution_count": null,
   "id": "4b172c9a-787f-49a6-8fb6-3fb73fda2070",
   "metadata": {},
   "outputs": [],
   "source": []
  },
  {
   "cell_type": "code",
   "execution_count": null,
   "id": "14f44f46-f7d9-4dd6-ad65-99af4f80ff89",
   "metadata": {},
   "outputs": [],
   "source": [
    "#dominance_classification=Dominance(data=breast_cancer_data,target='target',objective=0,pseudo_r2=\"mcfadden\")"
   ]
  },
  {
   "cell_type": "code",
   "execution_count": null,
   "id": "fc1d9892-43c8-4843-9625-5a7c8f1a6cb9",
   "metadata": {},
   "outputs": [],
   "source": []
  },
  {
   "cell_type": "code",
   "execution_count": null,
   "id": "e247fd7e-0526-4868-a9fe-b04f678c0244",
   "metadata": {},
   "outputs": [],
   "source": []
  },
  {
   "cell_type": "code",
   "execution_count": null,
   "id": "fb2d14da-1540-4d4b-a551-61e1d731da69",
   "metadata": {},
   "outputs": [],
   "source": []
  }
 ],
 "metadata": {
  "kernelspec": {
   "display_name": "Python 3 (ipykernel)",
   "language": "python",
   "name": "python3"
  },
  "language_info": {
   "codemirror_mode": {
    "name": "ipython",
    "version": 3
   },
   "file_extension": ".py",
   "mimetype": "text/x-python",
   "name": "python",
   "nbconvert_exporter": "python",
   "pygments_lexer": "ipython3",
   "version": "3.10.6"
  }
 },
 "nbformat": 4,
 "nbformat_minor": 5
}
