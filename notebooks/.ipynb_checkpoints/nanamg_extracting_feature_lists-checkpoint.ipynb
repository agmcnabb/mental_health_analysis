{
 "cells": [
  {
   "cell_type": "code",
   "execution_count": 1,
   "id": "a54e11f6-795d-41f0-b8d5-9d8aedc89095",
   "metadata": {},
   "outputs": [],
   "source": [
    "import os\n",
    "import pathlib\n",
    "import json\n",
    "\n",
    "import re"
   ]
  },
  {
   "cell_type": "code",
   "execution_count": 3,
   "id": "4024ae30-ccaf-4a38-a7f2-0ad54215cca3",
   "metadata": {},
   "outputs": [],
   "source": [
    "# Extracting JSON file\n",
    "notebook_dir = pathlib.Path().resolve()\n",
    "filepath_json = os.path.join(notebook_dir,'../raw_data/feature_lists_dict.json')\n",
    "\n",
    "with open(filepath_json, 'r') as file:\n",
    "    data_list = json.load(file)"
   ]
  },
  {
   "cell_type": "code",
   "execution_count": 4,
   "id": "b44b94c6-37ee-4345-876f-4f6d34ea0724",
   "metadata": {},
   "outputs": [],
   "source": [
    "DS_numerical = []\n",
    "DS_cat_nominal = []\n",
    "DS_cat_ordinal_lowest_num_is_highest_value = []\n",
    "DS_cat_ordinal_highest_num_is_highest_value = []\n",
    "DS_cat_nominal_binary_Y1_N2 = []\n",
    "DS_cat_nominal_binary_Y1_N0 = []\n",
    "\n",
    "for key, value in data_list.items():\n",
    "    if key == 'DS_numerical':\n",
    "        DS_numerical.extend(value)\n",
    "    elif key == 'DS_cat_nominal':\n",
    "        DS_cat_nominal.extend(value)\n",
    "    elif key == 'DS_cat_ordinal_lowest_num_is_highest_value':\n",
    "        DS_cat_ordinal_lowest_num_is_highest_value.extend(value)\n",
    "    elif key == 'DS_cat_ordinal_highest_num_is_highest_value':\n",
    "        DS_cat_ordinal_highest_num_is_highest_value.extend(value)\n",
    "    elif key == 'DS_cat_nominal_binary_Y1_N2':\n",
    "        DS_cat_nominal_binary_Y1_N2.extend(value)\n",
    "    elif key == 'DS_cat_nominal_binary_Y1_N0':\n",
    "        DS_cat_nominal_binary_Y1_N0.extend(value)"
   ]
  },
  {
   "cell_type": "code",
   "execution_count": null,
   "id": "6dbff4f9-7609-413a-a655-4fb054022a93",
   "metadata": {},
   "outputs": [],
   "source": []
  },
  {
   "cell_type": "code",
   "execution_count": null,
   "id": "328ea6ad-61f5-4267-83da-25e422fdeb10",
   "metadata": {},
   "outputs": [],
   "source": []
  },
  {
   "cell_type": "code",
   "execution_count": null,
   "id": "e45b42dc-2c6a-457d-98ee-de39e6970323",
   "metadata": {},
   "outputs": [],
   "source": []
  },
  {
   "cell_type": "code",
   "execution_count": null,
   "id": "2e773ff8-07de-4b65-a27c-b96562a64175",
   "metadata": {},
   "outputs": [],
   "source": []
  },
  {
   "cell_type": "code",
   "execution_count": null,
   "id": "c9d002c5-21cb-4d79-9385-e0f5b4c54419",
   "metadata": {},
   "outputs": [],
   "source": []
  }
 ],
 "metadata": {
  "kernelspec": {
   "display_name": "Python 3 (ipykernel)",
   "language": "python",
   "name": "python3"
  },
  "language_info": {
   "codemirror_mode": {
    "name": "ipython",
    "version": 3
   },
   "file_extension": ".py",
   "mimetype": "text/x-python",
   "name": "python",
   "nbconvert_exporter": "python",
   "pygments_lexer": "ipython3",
   "version": "3.10.6"
  }
 },
 "nbformat": 4,
 "nbformat_minor": 5
}
