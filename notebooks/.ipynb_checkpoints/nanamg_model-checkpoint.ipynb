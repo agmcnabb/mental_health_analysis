{
 "cells": [
  {
   "cell_type": "markdown",
   "id": "6f2d1856-7911-4968-a163-de337c939adf",
   "metadata": {},
   "source": [
    "## MVP"
   ]
  },
  {
   "cell_type": "code",
   "execution_count": null,
   "id": "f86beb32-77ee-4e0c-b343-e5b6128c3a41",
   "metadata": {},
   "outputs": [],
   "source": [
    "import pandas as pd\n",
    "import numpy as np\n",
    "import seaborn as sns\n",
    "import matplotlib.pyplot as plt"
   ]
  },
  {
   "cell_type": "code",
   "execution_count": null,
   "id": "bf50e197-25cd-4c59-896c-a333dbf4b970",
   "metadata": {},
   "outputs": [],
   "source": [
    "from sklearn.pipeline import make_pipeline\n",
    "#from sklearn.pipeline import make_union\n",
    "\n",
    "from sklearn.impute import SimpleImputer\n",
    "from sklearn.preprocessing import StandardScaler\n",
    "from sklearn.preprocessing import OneHotEncoder\n",
    "from sklearn.preprocessing import OrdinalEncoder\n",
    "\n",
    "from sklearn.compose import make_column_transformer\n",
    "from sklearn.linear_model import LogisticRegression\n",
    "\n",
    "from sklearn.model_selection import cross_val_score"
   ]
  },
  {
   "cell_type": "code",
   "execution_count": null,
   "id": "bf157d9f-cedb-470f-8a78-a0aeff281b48",
   "metadata": {},
   "outputs": [],
   "source": [
    "list_numerical = []\n",
    "list_cat_OHE = []  # ???\n",
    "list_cat_ordinal = []\n",
    " "
   ]
  },
  {
   "cell_type": "code",
   "execution_count": null,
   "id": "1812a2c4-8921-4341-a85c-171fb984e49d",
   "metadata": {},
   "outputs": [],
   "source": [
    "# Preprocessor\n",
    "num_transformer = make_pipeline(SimpleImputer(strategy=\"mean\"), StandardScaler())\n",
    "cat_transformer = OneHotEncoder()  # ??\n",
    "cat_ordinal_transformer = make_pipeline(SimpleImputer(strategy='most_frequent'), OrdinalEncoder(categories = [[???]])"
   ]
  },
  {
   "cell_type": "code",
   "execution_count": null,
   "id": "02df1037-df92-4485-8e0b-ea7537a627c1",
   "metadata": {},
   "outputs": [],
   "source": [
    "# estimator\n",
    "log_reg = LogisticRegression (penalty=None,max_iter=1000) #, scoring = ['accuracy', 'precision']) "
   ]
  },
  {
   "cell_type": "code",
   "execution_count": null,
   "id": "73c7c81e-c6e6-44bc-95f6-14e9e7012a03",
   "metadata": {},
   "outputs": [],
   "source": [
    "preproc = make_column_transformer(\n",
    "    (num_transformer, list_numerical),\n",
    "    (cat_transformer, list_cat_OHE),\n",
    "    (cat_ordinal_transformer. list_cat_ordinal )\n",
    "    )"
   ]
  },
  {
   "cell_type": "code",
   "execution_count": null,
   "id": "bb650808-5439-4d56-bd6d-3d6468e29a95",
   "metadata": {},
   "outputs": [],
   "source": [
    "# pipeline\n",
    "pipeline = make_pipeline(preproc, log_reg)\n",
    "pipeline"
   ]
  },
  {
   "cell_type": "code",
   "execution_count": null,
   "id": "278194b1-5e7d-4a1e-93a3-7d0ea7db2012",
   "metadata": {},
   "outputs": [],
   "source": [
    "# Train Pipeline\n",
    "pipeline.fit(X_train,y_train)\n",
    "\n",
    "# Make predictions\n",
    "pipeline.predict(X_test.iloc[0:1])\n",
    "\n",
    "# Score model\n",
    "pipeline.score(X_test,y_test)"
   ]
  },
  {
   "cell_type": "markdown",
   "id": "a76dab35-f685-4457-ae75-ae48892cad5b",
   "metadata": {},
   "source": [
    "### Cross Validate"
   ]
  },
  {
   "cell_type": "code",
   "execution_count": null,
   "id": "0b0293da-2050-459c-a340-725fdec9e170",
   "metadata": {},
   "outputs": [],
   "source": [
    "# Cross-validate Pipeline\n",
    "cross_val_score(\n",
    "\t\t\t\tpipeline, \n",
    "\t\t\t\tX_train, \n",
    "\t\t\t\ty_train, \n",
    "\t\t\t\tcv=5, \n",
    "\t\t\t\tscoring=['accuracy', 'precision']).mean()\n",
    "\t\t\t\t)"
   ]
  },
  {
   "cell_type": "code",
   "execution_count": null,
   "id": "ff1c7b77-4bda-4742-b267-ba881a0ba889",
   "metadata": {},
   "outputs": [],
   "source": []
  },
  {
   "cell_type": "markdown",
   "id": "e9626ce3-282e-4852-92ac-d2637c25fee9",
   "metadata": {},
   "source": [
    "## After MVP"
   ]
  },
  {
   "cell_type": "markdown",
   "id": "abfe461c-6d52-4756-9c37-ad5f7bb0025f",
   "metadata": {},
   "source": [
    "#### multicolinearity"
   ]
  },
  {
   "cell_type": "code",
   "execution_count": null,
   "id": "7c259dee-eb5b-4c8f-befd-c16471b2d29f",
   "metadata": {},
   "outputs": [],
   "source": [
    "## VIF as regression of one feature as function of all other features\n",
    "## VIF >= 10 could be a problem\n",
    "\n",
    "#from statsmodels.stats.outliers_influence import variance_inflation_factor as vif\n",
    "# compute VIF factor for feature index 0\n",
    "#vif(data.values, 0)\n"
   ]
  },
  {
   "cell_type": "code",
   "execution_count": null,
   "id": "e8974050-d15d-438e-90f6-6129f1e86b9f",
   "metadata": {},
   "outputs": [],
   "source": []
  },
  {
   "cell_type": "markdown",
   "id": "ae0d1518-11ec-4274-a86c-3e872a404dca",
   "metadata": {},
   "source": [
    "#### Logistic Regression"
   ]
  },
  {
   "cell_type": "code",
   "execution_count": null,
   "id": "c47fc6b4-e36e-40df-83dd-e6e6a33a5bd7",
   "metadata": {},
   "outputs": [],
   "source": [
    "#from sklearn.linear_model import LogisticRegression\n",
    "\n",
    "## for advanced model:\n",
    "## penalty=L1 \n",
    "## solver='newton-cg’,'saga' we could try more than one, depending on the penalty\n",
    "\n",
    "#log_reg = LogisticRegression(penalty=None,max_iter=1000)"
   ]
  },
  {
   "cell_type": "code",
   "execution_count": null,
   "id": "b91cdb91-0e09-41b3-ba31-4256a96e00d2",
   "metadata": {},
   "outputs": [],
   "source": [
    "# SGDClassifier as solver or as loss function "
   ]
  },
  {
   "cell_type": "markdown",
   "id": "30f88f3f-952e-4097-aed4-da543467e709",
   "metadata": {},
   "source": [
    "#### Lasso L1  Regularization"
   ]
  },
  {
   "cell_type": "code",
   "execution_count": null,
   "id": "6774e030-c8e5-4ba4-93c4-4d9ad97499cc",
   "metadata": {},
   "outputs": [],
   "source": [
    "## from sklearn.linear_model import Lasso\n",
    "##lasso = Lasso(alpha=0.2).fit(X, y)\n",
    "##\"coef_lasso\": pd.Series(lasso.coef_, index= X.columns)})"
   ]
  },
  {
   "cell_type": "code",
   "execution_count": null,
   "id": "9ee881d7-bd35-48e0-bd9f-bc0a52c57c50",
   "metadata": {},
   "outputs": [],
   "source": []
  },
  {
   "cell_type": "code",
   "execution_count": null,
   "id": "aefd17d8-8a28-4a00-a0b9-ed9ec7226932",
   "metadata": {},
   "outputs": [],
   "source": []
  },
  {
   "cell_type": "code",
   "execution_count": null,
   "id": "c58c3cee-2447-46df-8c5b-1329ca7d776f",
   "metadata": {},
   "outputs": [],
   "source": []
  }
 ],
 "metadata": {
  "kernelspec": {
   "display_name": "Python 3 (ipykernel)",
   "language": "python",
   "name": "python3"
  },
  "language_info": {
   "codemirror_mode": {
    "name": "ipython",
    "version": 3
   },
   "file_extension": ".py",
   "mimetype": "text/x-python",
   "name": "python",
   "nbconvert_exporter": "python",
   "pygments_lexer": "ipython3",
   "version": "3.10.6"
  }
 },
 "nbformat": 4,
 "nbformat_minor": 5
}
