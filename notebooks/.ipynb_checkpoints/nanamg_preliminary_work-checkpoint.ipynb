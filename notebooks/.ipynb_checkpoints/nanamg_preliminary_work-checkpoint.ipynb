{
 "cells": [
  {
   "cell_type": "code",
   "execution_count": 62,
   "id": "fe7c1d0f-1d19-4f1d-8640-e85d80fe5082",
   "metadata": {},
   "outputs": [],
   "source": [
    "import pandas as pd\n",
    "import os\n",
    "import pathlib\n",
    "import matplotlib.pyplot as plt\n",
    "\n",
    "import re"
   ]
  },
  {
   "cell_type": "code",
   "execution_count": 2,
   "id": "c25cb2b5-ac1a-4201-96b2-de6fc18b56cd",
   "metadata": {},
   "outputs": [],
   "source": [
    "# relative path to data_raw\n",
    "notebook_dir = pathlib.Path().resolve()\n",
    "raw_features_path = os.path.join(notebook_dir,'../raw_data/accepted_features.csv')\n",
    "features = pd.read_csv(raw_features_path)"
   ]
  },
  {
   "cell_type": "code",
   "execution_count": null,
   "id": "12567c2d-1ff5-4a90-8dec-c0a6f12e8f97",
   "metadata": {},
   "outputs": [],
   "source": [
    "features"
   ]
  },
  {
   "cell_type": "code",
   "execution_count": 3,
   "id": "1ba6ba71-80d1-4f57-b3cc-2dbb18b092b4",
   "metadata": {},
   "outputs": [],
   "source": [
    "t = features['Variable name']\n",
    "z = features['Variable label']"
   ]
  },
  {
   "cell_type": "code",
   "execution_count": 4,
   "id": "5da7f976-c39f-4f8a-b50b-abd53d2dccda",
   "metadata": {},
   "outputs": [],
   "source": [
    "z = [gap.strip() for gap in z]"
   ]
  },
  {
   "cell_type": "code",
   "execution_count": 5,
   "id": "218efb9b-1581-4fdb-9de7-b8c4208342ad",
   "metadata": {},
   "outputs": [],
   "source": [
    "t.loc[383] = 'MCSID'"
   ]
  },
  {
   "cell_type": "code",
   "execution_count": 6,
   "id": "fe2677d1-6533-43fb-9d08-9b3c8f729776",
   "metadata": {},
   "outputs": [
    {
     "data": {
      "text/plain": [
       "384"
      ]
     },
     "execution_count": 6,
     "metadata": {},
     "output_type": "execute_result"
    }
   ],
   "source": [
    "t.size"
   ]
  },
  {
   "cell_type": "code",
   "execution_count": 24,
   "id": "e6051802-1cfc-4fc6-a2e1-45ddee3f886a",
   "metadata": {},
   "outputs": [
    {
     "data": {
      "text/plain": [
       "0      FCCSEX00\n",
       "1      FCCDBM00\n",
       "2      FCCDBY00\n",
       "3      FCCAGE00\n",
       "4      FCHTCM00\n",
       "         ...   \n",
       "379    FCCAGE00\n",
       "380    FCWHRD00\n",
       "381    FCBRED00\n",
       "382    FCWMON0O\n",
       "383       MCSID\n",
       "Name: Variable name, Length: 384, dtype: object"
      ]
     },
     "execution_count": 24,
     "metadata": {},
     "output_type": "execute_result"
    }
   ],
   "source": [
    "t"
   ]
  },
  {
   "cell_type": "code",
   "execution_count": 7,
   "id": "464096b5-b9d7-49b1-9575-220a41048a2b",
   "metadata": {},
   "outputs": [],
   "source": [
    "raw_data_path = os.path.join(notebook_dir,'../raw_data/sweep_6/UKDA-8156-tab/tab/mcs6_cm_interview.tab')\n",
    "data = pd.read_csv(raw_data_path , sep='\\t', index_col = 'MCSID',usecols=t)"
   ]
  },
  {
   "cell_type": "code",
   "execution_count": 8,
   "id": "3a417280-a5d1-4a38-b285-16114bd3504b",
   "metadata": {},
   "outputs": [],
   "source": [
    "new_names = dict(zip(t,z))\n",
    "data = data.rename(columns=new_names)"
   ]
  },
  {
   "cell_type": "code",
   "execution_count": 68,
   "id": "c3353aa4-d364-4c43-80b5-eab1e0a62a85",
   "metadata": {},
   "outputs": [
    {
     "data": {
      "text/plain": [
       "(11859, 187)"
      ]
     },
     "execution_count": 68,
     "metadata": {},
     "output_type": "execute_result"
    }
   ],
   "source": [
    "data.shape"
   ]
  },
  {
   "cell_type": "code",
   "execution_count": 67,
   "id": "3ff20f15-2184-4454-8c05-fdd48d413f6f",
   "metadata": {},
   "outputs": [
    {
     "data": {
      "text/html": [
       "<div>\n",
       "<style scoped>\n",
       "    .dataframe tbody tr th:only-of-type {\n",
       "        vertical-align: middle;\n",
       "    }\n",
       "\n",
       "    .dataframe tbody tr th {\n",
       "        vertical-align: top;\n",
       "    }\n",
       "\n",
       "    .dataframe thead th {\n",
       "        text-align: right;\n",
       "    }\n",
       "</style>\n",
       "<table border=\"1\" class=\"dataframe\">\n",
       "  <thead>\n",
       "    <tr style=\"text-align: right;\">\n",
       "      <th></th>\n",
       "      <th>CM Sex</th>\n",
       "      <th>CM DOB (month)</th>\n",
       "      <th>CM DOB (year)</th>\n",
       "      <th>CM Age last birthday</th>\n",
       "      <th>Height in centimeters</th>\n",
       "      <th>Weight in kilos</th>\n",
       "      <th>Body fat percentage</th>\n",
       "      <th>IWR: Weight measurement circumstances MC (A) [Unable to stand still]</th>\n",
       "      <th>ActivGrid: Go to the cinema?</th>\n",
       "      <th>ActivGrid: Go to watch live sport?</th>\n",
       "      <th>...</th>\n",
       "      <th>FeelingsGrid: I hated myself</th>\n",
       "      <th>FeelingsGrid: I was a bad person</th>\n",
       "      <th>FeelingsGrid: I felt lonely</th>\n",
       "      <th>FeelingsGrid: I thought nobody really loved me</th>\n",
       "      <th>FeelingsGrid: I thought I could never be as good as other kids</th>\n",
       "      <th>FeelingsGrid: I did everything wrong</th>\n",
       "      <th>In the past year has CM self-harmed</th>\n",
       "      <th>How willing is CM to take risks</th>\n",
       "      <th>How patient is CM</th>\n",
       "      <th>How much does CM trust others</th>\n",
       "    </tr>\n",
       "    <tr>\n",
       "      <th>MCSID</th>\n",
       "      <th></th>\n",
       "      <th></th>\n",
       "      <th></th>\n",
       "      <th></th>\n",
       "      <th></th>\n",
       "      <th></th>\n",
       "      <th></th>\n",
       "      <th></th>\n",
       "      <th></th>\n",
       "      <th></th>\n",
       "      <th></th>\n",
       "      <th></th>\n",
       "      <th></th>\n",
       "      <th></th>\n",
       "      <th></th>\n",
       "      <th></th>\n",
       "      <th></th>\n",
       "      <th></th>\n",
       "      <th></th>\n",
       "      <th></th>\n",
       "      <th></th>\n",
       "    </tr>\n",
       "  </thead>\n",
       "  <tbody>\n",
       "    <tr>\n",
       "      <th>M10002P</th>\n",
       "      <td>1</td>\n",
       "      <td>3</td>\n",
       "      <td>2001</td>\n",
       "      <td>13</td>\n",
       "      <td>163.2</td>\n",
       "      <td>52.3</td>\n",
       "      <td>16.5</td>\n",
       "      <td>0</td>\n",
       "      <td>4</td>\n",
       "      <td>4</td>\n",
       "      <td>...</td>\n",
       "      <td>1</td>\n",
       "      <td>1</td>\n",
       "      <td>1</td>\n",
       "      <td>1</td>\n",
       "      <td>1</td>\n",
       "      <td>1</td>\n",
       "      <td>2</td>\n",
       "      <td>9</td>\n",
       "      <td>8</td>\n",
       "      <td>8</td>\n",
       "    </tr>\n",
       "    <tr>\n",
       "      <th>M10007U</th>\n",
       "      <td>1</td>\n",
       "      <td>10</td>\n",
       "      <td>2000</td>\n",
       "      <td>14</td>\n",
       "      <td>173.6</td>\n",
       "      <td>57.1</td>\n",
       "      <td>14.4</td>\n",
       "      <td>0</td>\n",
       "      <td>5</td>\n",
       "      <td>3</td>\n",
       "      <td>...</td>\n",
       "      <td>1</td>\n",
       "      <td>1</td>\n",
       "      <td>1</td>\n",
       "      <td>1</td>\n",
       "      <td>1</td>\n",
       "      <td>1</td>\n",
       "      <td>2</td>\n",
       "      <td>7</td>\n",
       "      <td>5</td>\n",
       "      <td>7</td>\n",
       "    </tr>\n",
       "    <tr>\n",
       "      <th>M10015U</th>\n",
       "      <td>2</td>\n",
       "      <td>5</td>\n",
       "      <td>2001</td>\n",
       "      <td>13</td>\n",
       "      <td>163.9</td>\n",
       "      <td>56.2</td>\n",
       "      <td>26.7</td>\n",
       "      <td>0</td>\n",
       "      <td>4</td>\n",
       "      <td>3</td>\n",
       "      <td>...</td>\n",
       "      <td>1</td>\n",
       "      <td>1</td>\n",
       "      <td>1</td>\n",
       "      <td>1</td>\n",
       "      <td>1</td>\n",
       "      <td>1</td>\n",
       "      <td>2</td>\n",
       "      <td>6</td>\n",
       "      <td>9</td>\n",
       "      <td>8</td>\n",
       "    </tr>\n",
       "    <tr>\n",
       "      <th>M10016V</th>\n",
       "      <td>1</td>\n",
       "      <td>11</td>\n",
       "      <td>2000</td>\n",
       "      <td>14</td>\n",
       "      <td>167.0</td>\n",
       "      <td>51.5</td>\n",
       "      <td>18.8</td>\n",
       "      <td>0</td>\n",
       "      <td>4</td>\n",
       "      <td>4</td>\n",
       "      <td>...</td>\n",
       "      <td>1</td>\n",
       "      <td>1</td>\n",
       "      <td>1</td>\n",
       "      <td>1</td>\n",
       "      <td>1</td>\n",
       "      <td>1</td>\n",
       "      <td>2</td>\n",
       "      <td>6</td>\n",
       "      <td>4</td>\n",
       "      <td>7</td>\n",
       "    </tr>\n",
       "    <tr>\n",
       "      <th>M10018X</th>\n",
       "      <td>2</td>\n",
       "      <td>7</td>\n",
       "      <td>2001</td>\n",
       "      <td>13</td>\n",
       "      <td>163.8</td>\n",
       "      <td>56.9</td>\n",
       "      <td>26.7</td>\n",
       "      <td>0</td>\n",
       "      <td>3</td>\n",
       "      <td>4</td>\n",
       "      <td>...</td>\n",
       "      <td>2</td>\n",
       "      <td>2</td>\n",
       "      <td>1</td>\n",
       "      <td>1</td>\n",
       "      <td>2</td>\n",
       "      <td>1</td>\n",
       "      <td>2</td>\n",
       "      <td>8</td>\n",
       "      <td>8</td>\n",
       "      <td>7</td>\n",
       "    </tr>\n",
       "    <tr>\n",
       "      <th>...</th>\n",
       "      <td>...</td>\n",
       "      <td>...</td>\n",
       "      <td>...</td>\n",
       "      <td>...</td>\n",
       "      <td>...</td>\n",
       "      <td>...</td>\n",
       "      <td>...</td>\n",
       "      <td>...</td>\n",
       "      <td>...</td>\n",
       "      <td>...</td>\n",
       "      <td>...</td>\n",
       "      <td>...</td>\n",
       "      <td>...</td>\n",
       "      <td>...</td>\n",
       "      <td>...</td>\n",
       "      <td>...</td>\n",
       "      <td>...</td>\n",
       "      <td>...</td>\n",
       "      <td>...</td>\n",
       "      <td>...</td>\n",
       "      <td>...</td>\n",
       "    </tr>\n",
       "    <tr>\n",
       "      <th>M35868P</th>\n",
       "      <td>1</td>\n",
       "      <td>11</td>\n",
       "      <td>2000</td>\n",
       "      <td>14</td>\n",
       "      <td>182.3</td>\n",
       "      <td>71.3</td>\n",
       "      <td>13.3</td>\n",
       "      <td>0</td>\n",
       "      <td>5</td>\n",
       "      <td>4</td>\n",
       "      <td>...</td>\n",
       "      <td>1</td>\n",
       "      <td>1</td>\n",
       "      <td>1</td>\n",
       "      <td>1</td>\n",
       "      <td>1</td>\n",
       "      <td>1</td>\n",
       "      <td>2</td>\n",
       "      <td>8</td>\n",
       "      <td>4</td>\n",
       "      <td>3</td>\n",
       "    </tr>\n",
       "    <tr>\n",
       "      <th>M35869Q</th>\n",
       "      <td>2</td>\n",
       "      <td>10</td>\n",
       "      <td>2001</td>\n",
       "      <td>14</td>\n",
       "      <td>157.6</td>\n",
       "      <td>53.3</td>\n",
       "      <td>27.0</td>\n",
       "      <td>0</td>\n",
       "      <td>5</td>\n",
       "      <td>3</td>\n",
       "      <td>...</td>\n",
       "      <td>2</td>\n",
       "      <td>1</td>\n",
       "      <td>2</td>\n",
       "      <td>2</td>\n",
       "      <td>2</td>\n",
       "      <td>1</td>\n",
       "      <td>2</td>\n",
       "      <td>5</td>\n",
       "      <td>5</td>\n",
       "      <td>8</td>\n",
       "    </tr>\n",
       "    <tr>\n",
       "      <th>M35872K</th>\n",
       "      <td>2</td>\n",
       "      <td>12</td>\n",
       "      <td>2000</td>\n",
       "      <td>14</td>\n",
       "      <td>162.7</td>\n",
       "      <td>48.5</td>\n",
       "      <td>19.5</td>\n",
       "      <td>0</td>\n",
       "      <td>4</td>\n",
       "      <td>4</td>\n",
       "      <td>...</td>\n",
       "      <td>1</td>\n",
       "      <td>1</td>\n",
       "      <td>1</td>\n",
       "      <td>1</td>\n",
       "      <td>1</td>\n",
       "      <td>1</td>\n",
       "      <td>2</td>\n",
       "      <td>2</td>\n",
       "      <td>6</td>\n",
       "      <td>9</td>\n",
       "    </tr>\n",
       "    <tr>\n",
       "      <th>M35873L</th>\n",
       "      <td>2</td>\n",
       "      <td>10</td>\n",
       "      <td>2000</td>\n",
       "      <td>14</td>\n",
       "      <td>170.4</td>\n",
       "      <td>61.2</td>\n",
       "      <td>30.1</td>\n",
       "      <td>0</td>\n",
       "      <td>5</td>\n",
       "      <td>6</td>\n",
       "      <td>...</td>\n",
       "      <td>2</td>\n",
       "      <td>1</td>\n",
       "      <td>3</td>\n",
       "      <td>2</td>\n",
       "      <td>2</td>\n",
       "      <td>2</td>\n",
       "      <td>1</td>\n",
       "      <td>4</td>\n",
       "      <td>6</td>\n",
       "      <td>2</td>\n",
       "    </tr>\n",
       "    <tr>\n",
       "      <th>M35874M</th>\n",
       "      <td>1</td>\n",
       "      <td>2</td>\n",
       "      <td>2001</td>\n",
       "      <td>14</td>\n",
       "      <td>151.7</td>\n",
       "      <td>45.9</td>\n",
       "      <td>19.5</td>\n",
       "      <td>0</td>\n",
       "      <td>4</td>\n",
       "      <td>5</td>\n",
       "      <td>...</td>\n",
       "      <td>1</td>\n",
       "      <td>1</td>\n",
       "      <td>1</td>\n",
       "      <td>1</td>\n",
       "      <td>1</td>\n",
       "      <td>1</td>\n",
       "      <td>2</td>\n",
       "      <td>4</td>\n",
       "      <td>7</td>\n",
       "      <td>5</td>\n",
       "    </tr>\n",
       "  </tbody>\n",
       "</table>\n",
       "<p>11859 rows × 187 columns</p>\n",
       "</div>"
      ],
      "text/plain": [
       "         CM Sex  CM DOB (month)  CM DOB (year)  CM Age last birthday  \\\n",
       "MCSID                                                                  \n",
       "M10002P       1               3           2001                    13   \n",
       "M10007U       1              10           2000                    14   \n",
       "M10015U       2               5           2001                    13   \n",
       "M10016V       1              11           2000                    14   \n",
       "M10018X       2               7           2001                    13   \n",
       "...         ...             ...            ...                   ...   \n",
       "M35868P       1              11           2000                    14   \n",
       "M35869Q       2              10           2001                    14   \n",
       "M35872K       2              12           2000                    14   \n",
       "M35873L       2              10           2000                    14   \n",
       "M35874M       1               2           2001                    14   \n",
       "\n",
       "         Height in centimeters  Weight in kilos  Body fat percentage  \\\n",
       "MCSID                                                                  \n",
       "M10002P                  163.2             52.3                 16.5   \n",
       "M10007U                  173.6             57.1                 14.4   \n",
       "M10015U                  163.9             56.2                 26.7   \n",
       "M10016V                  167.0             51.5                 18.8   \n",
       "M10018X                  163.8             56.9                 26.7   \n",
       "...                        ...              ...                  ...   \n",
       "M35868P                  182.3             71.3                 13.3   \n",
       "M35869Q                  157.6             53.3                 27.0   \n",
       "M35872K                  162.7             48.5                 19.5   \n",
       "M35873L                  170.4             61.2                 30.1   \n",
       "M35874M                  151.7             45.9                 19.5   \n",
       "\n",
       "         IWR: Weight measurement circumstances MC (A) [Unable to stand still]  \\\n",
       "MCSID                                                                           \n",
       "M10002P                                                  0                      \n",
       "M10007U                                                  0                      \n",
       "M10015U                                                  0                      \n",
       "M10016V                                                  0                      \n",
       "M10018X                                                  0                      \n",
       "...                                                    ...                      \n",
       "M35868P                                                  0                      \n",
       "M35869Q                                                  0                      \n",
       "M35872K                                                  0                      \n",
       "M35873L                                                  0                      \n",
       "M35874M                                                  0                      \n",
       "\n",
       "         ActivGrid: Go to the cinema?  ActivGrid: Go to watch live sport?  \\\n",
       "MCSID                                                                       \n",
       "M10002P                             4                                   4   \n",
       "M10007U                             5                                   3   \n",
       "M10015U                             4                                   3   \n",
       "M10016V                             4                                   4   \n",
       "M10018X                             3                                   4   \n",
       "...                               ...                                 ...   \n",
       "M35868P                             5                                   4   \n",
       "M35869Q                             5                                   3   \n",
       "M35872K                             4                                   4   \n",
       "M35873L                             5                                   6   \n",
       "M35874M                             4                                   5   \n",
       "\n",
       "         ...  FeelingsGrid: I hated myself  FeelingsGrid: I was a bad person  \\\n",
       "MCSID    ...                                                                   \n",
       "M10002P  ...                             1                                 1   \n",
       "M10007U  ...                             1                                 1   \n",
       "M10015U  ...                             1                                 1   \n",
       "M10016V  ...                             1                                 1   \n",
       "M10018X  ...                             2                                 2   \n",
       "...      ...                           ...                               ...   \n",
       "M35868P  ...                             1                                 1   \n",
       "M35869Q  ...                             2                                 1   \n",
       "M35872K  ...                             1                                 1   \n",
       "M35873L  ...                             2                                 1   \n",
       "M35874M  ...                             1                                 1   \n",
       "\n",
       "         FeelingsGrid: I felt lonely  \\\n",
       "MCSID                                  \n",
       "M10002P                            1   \n",
       "M10007U                            1   \n",
       "M10015U                            1   \n",
       "M10016V                            1   \n",
       "M10018X                            1   \n",
       "...                              ...   \n",
       "M35868P                            1   \n",
       "M35869Q                            2   \n",
       "M35872K                            1   \n",
       "M35873L                            3   \n",
       "M35874M                            1   \n",
       "\n",
       "         FeelingsGrid: I thought nobody really loved me  \\\n",
       "MCSID                                                     \n",
       "M10002P                                               1   \n",
       "M10007U                                               1   \n",
       "M10015U                                               1   \n",
       "M10016V                                               1   \n",
       "M10018X                                               1   \n",
       "...                                                 ...   \n",
       "M35868P                                               1   \n",
       "M35869Q                                               2   \n",
       "M35872K                                               1   \n",
       "M35873L                                               2   \n",
       "M35874M                                               1   \n",
       "\n",
       "         FeelingsGrid: I thought I could never be as good as other kids  \\\n",
       "MCSID                                                                     \n",
       "M10002P                                                  1                \n",
       "M10007U                                                  1                \n",
       "M10015U                                                  1                \n",
       "M10016V                                                  1                \n",
       "M10018X                                                  2                \n",
       "...                                                    ...                \n",
       "M35868P                                                  1                \n",
       "M35869Q                                                  2                \n",
       "M35872K                                                  1                \n",
       "M35873L                                                  2                \n",
       "M35874M                                                  1                \n",
       "\n",
       "         FeelingsGrid: I did everything wrong  \\\n",
       "MCSID                                           \n",
       "M10002P                                     1   \n",
       "M10007U                                     1   \n",
       "M10015U                                     1   \n",
       "M10016V                                     1   \n",
       "M10018X                                     1   \n",
       "...                                       ...   \n",
       "M35868P                                     1   \n",
       "M35869Q                                     1   \n",
       "M35872K                                     1   \n",
       "M35873L                                     2   \n",
       "M35874M                                     1   \n",
       "\n",
       "         In the past year has CM self-harmed  How willing is CM to take risks  \\\n",
       "MCSID                                                                           \n",
       "M10002P                                    2                                9   \n",
       "M10007U                                    2                                7   \n",
       "M10015U                                    2                                6   \n",
       "M10016V                                    2                                6   \n",
       "M10018X                                    2                                8   \n",
       "...                                      ...                              ...   \n",
       "M35868P                                    2                                8   \n",
       "M35869Q                                    2                                5   \n",
       "M35872K                                    2                                2   \n",
       "M35873L                                    1                                4   \n",
       "M35874M                                    2                                4   \n",
       "\n",
       "         How patient is CM  How much does CM trust others  \n",
       "MCSID                                                      \n",
       "M10002P                  8                              8  \n",
       "M10007U                  5                              7  \n",
       "M10015U                  9                              8  \n",
       "M10016V                  4                              7  \n",
       "M10018X                  8                              7  \n",
       "...                    ...                            ...  \n",
       "M35868P                  4                              3  \n",
       "M35869Q                  5                              8  \n",
       "M35872K                  6                              9  \n",
       "M35873L                  6                              2  \n",
       "M35874M                  7                              5  \n",
       "\n",
       "[11859 rows x 187 columns]"
      ]
     },
     "execution_count": 67,
     "metadata": {},
     "output_type": "execute_result"
    }
   ],
   "source": [
    "data"
   ]
  },
  {
   "cell_type": "code",
   "execution_count": 58,
   "id": "ff7231b1-9f76-4451-93d6-19d6f4c35a7f",
   "metadata": {},
   "outputs": [
    {
     "data": {
      "text/html": [
       "<div>\n",
       "<style scoped>\n",
       "    .dataframe tbody tr th:only-of-type {\n",
       "        vertical-align: middle;\n",
       "    }\n",
       "\n",
       "    .dataframe tbody tr th {\n",
       "        vertical-align: top;\n",
       "    }\n",
       "\n",
       "    .dataframe thead th {\n",
       "        text-align: right;\n",
       "    }\n",
       "</style>\n",
       "<table border=\"1\" class=\"dataframe\">\n",
       "  <thead>\n",
       "    <tr style=\"text-align: right;\">\n",
       "      <th></th>\n",
       "      <th>FeelingsGrid: I thought I could never be as good as other kids</th>\n",
       "      <th>FeelingsGrid: I did everything wrong</th>\n",
       "      <th>In the past year has CM self-harmed</th>\n",
       "      <th>How willing is CM to take risks</th>\n",
       "      <th>How patient is CM</th>\n",
       "      <th>How much does CM trust others</th>\n",
       "      <th>Aspirations: what CM would like to be when grow up [SOC code] R5 [truncated at 3 chars]</th>\n",
       "      <th>Aspirations: what CM would like to be when grow up [SOC code] R7 [truncated at 3 chars]</th>\n",
       "    </tr>\n",
       "    <tr>\n",
       "      <th>MCSID</th>\n",
       "      <th></th>\n",
       "      <th></th>\n",
       "      <th></th>\n",
       "      <th></th>\n",
       "      <th></th>\n",
       "      <th></th>\n",
       "      <th></th>\n",
       "      <th></th>\n",
       "    </tr>\n",
       "  </thead>\n",
       "  <tbody>\n",
       "    <tr>\n",
       "      <th>M10002P</th>\n",
       "      <td>1</td>\n",
       "      <td>1</td>\n",
       "      <td>2</td>\n",
       "      <td>9</td>\n",
       "      <td>8</td>\n",
       "      <td>8</td>\n",
       "      <td>-1</td>\n",
       "      <td>-1</td>\n",
       "    </tr>\n",
       "    <tr>\n",
       "      <th>M10007U</th>\n",
       "      <td>1</td>\n",
       "      <td>1</td>\n",
       "      <td>2</td>\n",
       "      <td>7</td>\n",
       "      <td>5</td>\n",
       "      <td>7</td>\n",
       "      <td>-1</td>\n",
       "      <td>-1</td>\n",
       "    </tr>\n",
       "    <tr>\n",
       "      <th>M10015U</th>\n",
       "      <td>1</td>\n",
       "      <td>1</td>\n",
       "      <td>2</td>\n",
       "      <td>6</td>\n",
       "      <td>9</td>\n",
       "      <td>8</td>\n",
       "      <td>-1</td>\n",
       "      <td>-1</td>\n",
       "    </tr>\n",
       "    <tr>\n",
       "      <th>M10016V</th>\n",
       "      <td>1</td>\n",
       "      <td>1</td>\n",
       "      <td>2</td>\n",
       "      <td>6</td>\n",
       "      <td>4</td>\n",
       "      <td>7</td>\n",
       "      <td>-1</td>\n",
       "      <td>-1</td>\n",
       "    </tr>\n",
       "    <tr>\n",
       "      <th>M10018X</th>\n",
       "      <td>2</td>\n",
       "      <td>1</td>\n",
       "      <td>2</td>\n",
       "      <td>8</td>\n",
       "      <td>8</td>\n",
       "      <td>7</td>\n",
       "      <td>-1</td>\n",
       "      <td>-1</td>\n",
       "    </tr>\n",
       "    <tr>\n",
       "      <th>M10020R</th>\n",
       "      <td>2</td>\n",
       "      <td>2</td>\n",
       "      <td>2</td>\n",
       "      <td>8</td>\n",
       "      <td>8</td>\n",
       "      <td>7</td>\n",
       "      <td>-1</td>\n",
       "      <td>-1</td>\n",
       "    </tr>\n",
       "    <tr>\n",
       "      <th>M10021S</th>\n",
       "      <td>2</td>\n",
       "      <td>1</td>\n",
       "      <td>2</td>\n",
       "      <td>6</td>\n",
       "      <td>3</td>\n",
       "      <td>2</td>\n",
       "      <td>-1</td>\n",
       "      <td>-1</td>\n",
       "    </tr>\n",
       "    <tr>\n",
       "      <th>M10022T</th>\n",
       "      <td>1</td>\n",
       "      <td>1</td>\n",
       "      <td>2</td>\n",
       "      <td>5</td>\n",
       "      <td>5</td>\n",
       "      <td>5</td>\n",
       "      <td>-1</td>\n",
       "      <td>-1</td>\n",
       "    </tr>\n",
       "    <tr>\n",
       "      <th>M10029A</th>\n",
       "      <td>-1</td>\n",
       "      <td>-1</td>\n",
       "      <td>-1</td>\n",
       "      <td>-1</td>\n",
       "      <td>-1</td>\n",
       "      <td>-1</td>\n",
       "      <td>-1</td>\n",
       "      <td>-1</td>\n",
       "    </tr>\n",
       "    <tr>\n",
       "      <th>M10034X</th>\n",
       "      <td>3</td>\n",
       "      <td>3</td>\n",
       "      <td>2</td>\n",
       "      <td>6</td>\n",
       "      <td>6</td>\n",
       "      <td>7</td>\n",
       "      <td>-1</td>\n",
       "      <td>-1</td>\n",
       "    </tr>\n",
       "  </tbody>\n",
       "</table>\n",
       "</div>"
      ],
      "text/plain": [
       "         FeelingsGrid: I thought I could never be as good as other kids  \\\n",
       "MCSID                                                                     \n",
       "M10002P                                                  1                \n",
       "M10007U                                                  1                \n",
       "M10015U                                                  1                \n",
       "M10016V                                                  1                \n",
       "M10018X                                                  2                \n",
       "M10020R                                                  2                \n",
       "M10021S                                                  2                \n",
       "M10022T                                                  1                \n",
       "M10029A                                                 -1                \n",
       "M10034X                                                  3                \n",
       "\n",
       "         FeelingsGrid: I did everything wrong  \\\n",
       "MCSID                                           \n",
       "M10002P                                     1   \n",
       "M10007U                                     1   \n",
       "M10015U                                     1   \n",
       "M10016V                                     1   \n",
       "M10018X                                     1   \n",
       "M10020R                                     2   \n",
       "M10021S                                     1   \n",
       "M10022T                                     1   \n",
       "M10029A                                    -1   \n",
       "M10034X                                     3   \n",
       "\n",
       "         In the past year has CM self-harmed  How willing is CM to take risks  \\\n",
       "MCSID                                                                           \n",
       "M10002P                                    2                                9   \n",
       "M10007U                                    2                                7   \n",
       "M10015U                                    2                                6   \n",
       "M10016V                                    2                                6   \n",
       "M10018X                                    2                                8   \n",
       "M10020R                                    2                                8   \n",
       "M10021S                                    2                                6   \n",
       "M10022T                                    2                                5   \n",
       "M10029A                                   -1                               -1   \n",
       "M10034X                                    2                                6   \n",
       "\n",
       "         How patient is CM  How much does CM trust others  \\\n",
       "MCSID                                                       \n",
       "M10002P                  8                              8   \n",
       "M10007U                  5                              7   \n",
       "M10015U                  9                              8   \n",
       "M10016V                  4                              7   \n",
       "M10018X                  8                              7   \n",
       "M10020R                  8                              7   \n",
       "M10021S                  3                              2   \n",
       "M10022T                  5                              5   \n",
       "M10029A                 -1                             -1   \n",
       "M10034X                  6                              7   \n",
       "\n",
       "         Aspirations: what CM would like to be when grow up [SOC code] R5 [truncated at 3 chars]  \\\n",
       "MCSID                                                                                              \n",
       "M10002P                                                 -1                                         \n",
       "M10007U                                                 -1                                         \n",
       "M10015U                                                 -1                                         \n",
       "M10016V                                                 -1                                         \n",
       "M10018X                                                 -1                                         \n",
       "M10020R                                                 -1                                         \n",
       "M10021S                                                 -1                                         \n",
       "M10022T                                                 -1                                         \n",
       "M10029A                                                 -1                                         \n",
       "M10034X                                                 -1                                         \n",
       "\n",
       "         Aspirations: what CM would like to be when grow up [SOC code] R7 [truncated at 3 chars]  \n",
       "MCSID                                                                                             \n",
       "M10002P                                                 -1                                        \n",
       "M10007U                                                 -1                                        \n",
       "M10015U                                                 -1                                        \n",
       "M10016V                                                 -1                                        \n",
       "M10018X                                                 -1                                        \n",
       "M10020R                                                 -1                                        \n",
       "M10021S                                                 -1                                        \n",
       "M10022T                                                 -1                                        \n",
       "M10029A                                                 -1                                        \n",
       "M10034X                                                 -1                                        "
      ]
     },
     "execution_count": 58,
     "metadata": {},
     "output_type": "execute_result"
    }
   ],
   "source": [
    "data.iloc[0:10,194:202]"
   ]
  },
  {
   "cell_type": "code",
   "execution_count": 63,
   "id": "463c6d52-fba1-4dfb-a9d8-8f84459de165",
   "metadata": {},
   "outputs": [],
   "source": [
    "pattern = re.compile(rf\"RosenbergGrid\", flags=re.IGNORECASE)\n",
    "matching_columns = [col for col in data.columns if pattern.search(col)]"
   ]
  },
  {
   "cell_type": "code",
   "execution_count": 64,
   "id": "9fb9f447-a97c-4582-ac53-6bfe52131055",
   "metadata": {},
   "outputs": [
    {
     "data": {
      "text/plain": [
       "['RosenbergGrid: On the whole, I am satisfied with myself',\n",
       " 'RosenbergGrid: I feel I have a number of good qualities',\n",
       " 'RosenbergGrid: I am able to do things as well as most other people',\n",
       " 'RosenbergGrid: I am a person of value',\n",
       " 'RosenbergGrid: I feel good about myself']"
      ]
     },
     "execution_count": 64,
     "metadata": {},
     "output_type": "execute_result"
    }
   ],
   "source": [
    "matching_columns"
   ]
  },
  {
   "cell_type": "markdown",
   "id": "193b96e6-1f5f-43ef-9327-2a6d3a9a3b36",
   "metadata": {},
   "source": [
    "##### pacemaker needs to be removed"
   ]
  },
  {
   "cell_type": "code",
   "execution_count": 14,
   "id": "740b66cc-e84d-4123-99ee-dfaf5a16591b",
   "metadata": {},
   "outputs": [
    {
     "data": {
      "text/plain": [
       "Check CM has pacemaker\n",
       "-1    11792\n",
       " 2       59\n",
       " 1        8\n",
       "Name: count, dtype: int64"
      ]
     },
     "execution_count": 14,
     "metadata": {},
     "output_type": "execute_result"
    }
   ],
   "source": [
    "data['Check CM has pacemaker'].value_counts()"
   ]
  },
  {
   "cell_type": "markdown",
   "id": "b381b721-0ed2-499f-94be-9c24de07d01a",
   "metadata": {},
   "source": [
    "##### IWR: Check Body Fat measurement needs to be removed"
   ]
  },
  {
   "cell_type": "code",
   "execution_count": 15,
   "id": "bc277391-92ca-43e1-8182-031127f875ea",
   "metadata": {},
   "outputs": [
    {
     "data": {
      "text/plain": [
       "IWR: Check Body Fat measurement\n",
       "-1    11403\n",
       " 1      446\n",
       " 2       10\n",
       "Name: count, dtype: int64"
      ]
     },
     "execution_count": 15,
     "metadata": {},
     "output_type": "execute_result"
    }
   ],
   "source": [
    "data['IWR: Check Body Fat measurement'].value_counts()"
   ]
  },
  {
   "cell_type": "markdown",
   "id": "3e0ea3a2-2783-479e-bd1c-52301b6a220c",
   "metadata": {},
   "source": [
    "##### AcademicSelfConceptGrid: I am good at Welsh needs to be removed"
   ]
  },
  {
   "cell_type": "code",
   "execution_count": 23,
   "id": "7aa98d06-6dea-49f6-b187-cb2f2e362e69",
   "metadata": {},
   "outputs": [
    {
     "data": {
      "text/plain": [
       "AcademicSelfConceptGrid: I am good at Welsh\n",
       "-1    10273\n",
       " 3      679\n",
       " 2      433\n",
       " 4      253\n",
       " 1      211\n",
       "-8        7\n",
       "-9        3\n",
       "Name: count, dtype: int64"
      ]
     },
     "execution_count": 23,
     "metadata": {},
     "output_type": "execute_result"
    }
   ],
   "source": [
    "data['AcademicSelfConceptGrid: I am good at Welsh'].value_counts()"
   ]
  },
  {
   "cell_type": "markdown",
   "id": "73bf1225-8ec5-4d0a-a01f-4eb219f0953e",
   "metadata": {},
   "source": [
    "##### (last 12 months) has another YP put his/her hands under CM's clothing? consider removing"
   ]
  },
  {
   "cell_type": "code",
   "execution_count": 40,
   "id": "2f17d06d-2195-4df1-bd81-266be4b0d01a",
   "metadata": {},
   "outputs": [
    {
     "data": {
      "text/plain": [
       "(last 12 months) has another YP put his/her hands under CM's clothing?\n",
       "-1    5477\n",
       " 2    5344\n",
       " 1     980\n",
       "-9      50\n",
       "-8       8\n",
       "Name: count, dtype: int64"
      ]
     },
     "execution_count": 40,
     "metadata": {},
     "output_type": "execute_result"
    }
   ],
   "source": [
    "data[\"(last 12 months) has another YP put his/her hands under CM's clothing?\"].value_counts()"
   ]
  },
  {
   "cell_type": "markdown",
   "id": "9f6d7290-db78-405e-a972-04682ffa10f9",
   "metadata": {},
   "source": [
    "##### (last 12 months) has CM touched another YP's private parts? needs to be removed"
   ]
  },
  {
   "cell_type": "code",
   "execution_count": 41,
   "id": "b34a8814-9535-4b69-bd27-e461c16c9e17",
   "metadata": {},
   "outputs": [
    {
     "data": {
      "text/plain": [
       "(last 12 months) has CM touched another YP's private parts?\n",
       "-1    10776\n",
       " 2      560\n",
       " 1      511\n",
       "-9       12\n",
       "Name: count, dtype: int64"
      ]
     },
     "execution_count": 41,
     "metadata": {},
     "output_type": "execute_result"
    }
   ],
   "source": [
    "data[\"(last 12 months) has CM touched another YP's private parts?\"].value_counts()"
   ]
  },
  {
   "cell_type": "markdown",
   "id": "969e0fcd-57cd-4e53-a26e-82bf781eda64",
   "metadata": {},
   "source": [
    "##### (last 12 months) has CM performed oral sex on another young person? needs to be removed"
   ]
  },
  {
   "cell_type": "code",
   "execution_count": 42,
   "id": "4cd74dc9-1f9d-4397-85d7-2bfa8ca52545",
   "metadata": {
    "scrolled": true
   },
   "outputs": [
    {
     "data": {
      "text/plain": [
       "(last 12 months) has CM performed oral sex on another young person?\n",
       "-1    11243\n",
       " 2      377\n",
       " 1      234\n",
       "-9        5\n",
       "Name: count, dtype: int64"
      ]
     },
     "execution_count": 42,
     "metadata": {},
     "output_type": "execute_result"
    }
   ],
   "source": [
    "data[\"(last 12 months) has CM performed oral sex on another young person?\"].value_counts()"
   ]
  },
  {
   "cell_type": "markdown",
   "id": "838238a6-7baf-45c3-914a-2349864b2f0c",
   "metadata": {},
   "source": [
    "##### Age CM first started drinking alcohol consider removing\n"
   ]
  },
  {
   "cell_type": "code",
   "execution_count": 45,
   "id": "fa07e066-53c8-4530-92d3-1608be983a58",
   "metadata": {
    "scrolled": true
   },
   "outputs": [
    {
     "data": {
      "text/plain": [
       "Age CM first started drinking alcohol\n",
       "-1     6869\n",
       " 13    1943\n",
       " 14    1099\n",
       " 12     889\n",
       " 11     331\n",
       " 10     237\n",
       "-8      210\n",
       " 9       81\n",
       " 8       51\n",
       "-9       50\n",
       " 7       23\n",
       " 6       20\n",
       " 5       14\n",
       " 4       10\n",
       " 15       9\n",
       " 1        8\n",
       " 2        8\n",
       " 0        4\n",
       " 3        3\n",
       "Name: count, dtype: int64"
      ]
     },
     "execution_count": 45,
     "metadata": {},
     "output_type": "execute_result"
    }
   ],
   "source": [
    "data[\"Age CM first started drinking alcohol\"].value_counts()"
   ]
  },
  {
   "cell_type": "markdown",
   "id": "7dab08a3-f426-4d64-ab97-1cff17edec96",
   "metadata": {},
   "source": [
    "##### Age CM first had 5 or more alcoholic drinks at a time needs to be removed"
   ]
  },
  {
   "cell_type": "code",
   "execution_count": 46,
   "id": "ae4e242b-be75-43c8-9620-418bc29c84ad",
   "metadata": {
    "scrolled": true
   },
   "outputs": [
    {
     "data": {
      "text/plain": [
       "Age CM first had 5 or more alcoholic drinks at a time\n",
       "-1     10791\n",
       " 14      516\n",
       " 13      416\n",
       " 12       54\n",
       "-8        39\n",
       "-9        14\n",
       " 11       10\n",
       " 15        7\n",
       " 10        4\n",
       " 0         2\n",
       " 8         2\n",
       " 7         2\n",
       " 5         1\n",
       " 4         1\n",
       "Name: count, dtype: int64"
      ]
     },
     "execution_count": 46,
     "metadata": {},
     "output_type": "execute_result"
    }
   ],
   "source": [
    "data[\"Age CM first had 5 or more alcoholic drinks at a time\"].value_counts()"
   ]
  },
  {
   "cell_type": "markdown",
   "id": "3a26e4b7-ce5f-413f-ba38-799d87d48da3",
   "metadata": {},
   "source": [
    "##### Past 12 months: freq of CM wrote/spray painted somewhere they shouldn't needs to be removed"
   ]
  },
  {
   "cell_type": "code",
   "execution_count": 48,
   "id": "c11ed288-2f31-4837-a6c3-4d41e0fd4346",
   "metadata": {
    "scrolled": true
   },
   "outputs": [
    {
     "data": {
      "text/plain": [
       "Past 12 months: freq of CM wrote/spray painted somewhere they shouldn't\n",
       "-1      11551\n",
       " 1         90\n",
       " 2         78\n",
       "-8         31\n",
       " 3         28\n",
       " 5         25\n",
       "-9         10\n",
       " 4          7\n",
       " 10         6\n",
       " 20         5\n",
       " 6          4\n",
       " 8          3\n",
       " 15         3\n",
       " 12         2\n",
       " 16         2\n",
       " 50         2\n",
       " 30         2\n",
       " 60         2\n",
       " 7          1\n",
       " 111        1\n",
       " 260        1\n",
       " 17         1\n",
       " 13         1\n",
       " 300        1\n",
       " 57         1\n",
       " 65         1\n",
       "Name: count, dtype: int64"
      ]
     },
     "execution_count": 48,
     "metadata": {},
     "output_type": "execute_result"
    }
   ],
   "source": [
    "data[\"Past 12 months: freq of CM wrote/spray painted somewhere they shouldn't\"].value_counts()"
   ]
  },
  {
   "cell_type": "markdown",
   "id": "bbdd7778-2202-442f-8aa9-2f6fb6ac563a",
   "metadata": {},
   "source": [
    "##### Past 12 months: freq of CM damaged something that didn't belong to them needs to be removed"
   ]
  },
  {
   "cell_type": "code",
   "execution_count": 49,
   "id": "f24cfd61-6876-41de-bdeb-1a26a63f3a36",
   "metadata": {
    "scrolled": true
   },
   "outputs": [
    {
     "data": {
      "text/plain": [
       "Past 12 months: freq of CM damaged something that didn't belong to them\n",
       "-1      11510\n",
       " 1         98\n",
       " 2         76\n",
       "-8         43\n",
       " 3         32\n",
       " 5         28\n",
       " 4         15\n",
       " 10        12\n",
       "-9          8\n",
       " 6          7\n",
       " 8          5\n",
       " 15         4\n",
       " 7          3\n",
       " 30         3\n",
       " 20         3\n",
       " 50         2\n",
       " 300        2\n",
       " 14         1\n",
       " 12         1\n",
       " 25         1\n",
       " 40         1\n",
       " 70         1\n",
       " 9          1\n",
       " 11         1\n",
       " 23         1\n",
       "Name: count, dtype: int64"
      ]
     },
     "execution_count": 49,
     "metadata": {},
     "output_type": "execute_result"
    }
   ],
   "source": [
    "data[\"Past 12 months: freq of CM damaged something that didn't belong to them\"].value_counts()"
   ]
  },
  {
   "cell_type": "markdown",
   "id": "d2d53473-cb41-4290-a7e2-4c222ef5ecd9",
   "metadata": {},
   "source": [
    "##### How severe is CM's hearing problem needs to be removed"
   ]
  },
  {
   "cell_type": "code",
   "execution_count": 51,
   "id": "a5b4aefd-02e8-4417-bd5c-9067649bbb50",
   "metadata": {
    "scrolled": true
   },
   "outputs": [
    {
     "data": {
      "text/plain": [
       "How severe is CM's hearing problem\n",
       "-1    11444\n",
       " 2      276\n",
       " 3       87\n",
       " 1       30\n",
       " 4       15\n",
       " 5        4\n",
       "-8        3\n",
       "Name: count, dtype: int64"
      ]
     },
     "execution_count": 51,
     "metadata": {},
     "output_type": "execute_result"
    }
   ],
   "source": [
    "data[\"How severe is CM's hearing problem\"].value_counts()"
   ]
  },
  {
   "cell_type": "markdown",
   "id": "2648541b-1db4-41ce-8b5f-e557d6fcee15",
   "metadata": {},
   "source": [
    "##### CM voice change maybe considering removing"
   ]
  },
  {
   "cell_type": "code",
   "execution_count": 53,
   "id": "ef74a1f6-1362-4506-9ba1-4b4404e3cefc",
   "metadata": {
    "scrolled": true
   },
   "outputs": [
    {
     "data": {
      "text/plain": [
       "CM voice change\n",
       "-1    6237\n",
       " 3    2862\n",
       " 2    1489\n",
       " 4     637\n",
       " 1     542\n",
       "-9      51\n",
       "-8      41\n",
       "Name: count, dtype: int64"
      ]
     },
     "execution_count": 53,
     "metadata": {},
     "output_type": "execute_result"
    }
   ],
   "source": [
    "data[\"CM voice change\"].value_counts()"
   ]
  },
  {
   "cell_type": "markdown",
   "id": "05a05262-06df-4305-9df0-2cf3cc7db940",
   "metadata": {},
   "source": [
    "##### Age started to menstruate maybe consider removing"
   ]
  },
  {
   "cell_type": "code",
   "execution_count": 55,
   "id": "5eea7d98-551b-4404-a548-af19e62a6436",
   "metadata": {
    "scrolled": true
   },
   "outputs": [
    {
     "data": {
      "text/plain": [
       "Age started to menstruate\n",
       "-1     6751\n",
       " 12    1804\n",
       " 13    1692\n",
       " 11     919\n",
       " 14     302\n",
       " 10     202\n",
       "-8       65\n",
       " 9       62\n",
       "-9       47\n",
       " 8       12\n",
       " 15       2\n",
       " 7        1\n",
       "Name: count, dtype: int64"
      ]
     },
     "execution_count": 55,
     "metadata": {},
     "output_type": "execute_result"
    }
   ],
   "source": [
    "data[\"Age started to menstruate\"].value_counts()"
   ]
  },
  {
   "cell_type": "markdown",
   "id": "33636ca4-336d-420b-bdcd-f9a01f6ce8b5",
   "metadata": {},
   "source": [
    "##### Aspirations: what CM would like to be when grow up [SOC code] R5 [truncated at 3 chars] needs to be removed"
   ]
  },
  {
   "cell_type": "code",
   "execution_count": 59,
   "id": "3bd9b3f2-2fc1-494e-b0fc-cedf6a060c1b",
   "metadata": {
    "scrolled": true
   },
   "outputs": [
    {
     "data": {
      "text/plain": [
       "Aspirations: what CM would like to be when grow up [SOC code] R5 [truncated at 3 chars]\n",
       "-1      11773\n",
       " 341       19\n",
       "-2         18\n",
       " 221        7\n",
       " 342        5\n",
       " 344        5\n",
       " 211        5\n",
       " 241        4\n",
       " 331        3\n",
       " 213        3\n",
       " 231        3\n",
       " 223        2\n",
       " 622        2\n",
       " 311        1\n",
       " 712        1\n",
       " 614        1\n",
       " 523        1\n",
       " 323        1\n",
       " 621        1\n",
       " 111        1\n",
       " 222        1\n",
       " 242        1\n",
       " 119        1\n",
       "Name: count, dtype: int64"
      ]
     },
     "execution_count": 59,
     "metadata": {},
     "output_type": "execute_result"
    }
   ],
   "source": [
    "data[\"Aspirations: what CM would like to be when grow up [SOC code] R5 [truncated at 3 chars]\"].value_counts()"
   ]
  },
  {
   "cell_type": "markdown",
   "id": "fb34ad9e-3477-40d9-90cc-a1a5ddf36ef8",
   "metadata": {},
   "source": [
    "##### Aspirations: what CM would like to be when grow up [SOC code] R7 [truncated at 3 chars] needs to be removed"
   ]
  },
  {
   "cell_type": "code",
   "execution_count": 60,
   "id": "ff226951-755f-40f4-96fd-8455e08db3f8",
   "metadata": {},
   "outputs": [
    {
     "data": {
      "text/plain": [
       "Aspirations: what CM would like to be when grow up [SOC code] R7 [truncated at 3 chars]\n",
       "-1      11841\n",
       " 341        6\n",
       "-2          3\n",
       " 221        2\n",
       " 321        1\n",
       " 244        1\n",
       " 823        1\n",
       " 111        1\n",
       " 211        1\n",
       " 511        1\n",
       " 356        1\n",
       "Name: count, dtype: int64"
      ]
     },
     "execution_count": 60,
     "metadata": {},
     "output_type": "execute_result"
    }
   ],
   "source": [
    "data[\"Aspirations: what CM would like to be when grow up [SOC code] R7 [truncated at 3 chars]\"].value_counts()"
   ]
  },
  {
   "cell_type": "code",
   "execution_count": 65,
   "id": "157c3815-b86b-43a5-a79e-890bbc277e3c",
   "metadata": {},
   "outputs": [],
   "source": [
    "remove_columns = [\"Aspirations: what CM would like to be when grow up [SOC code] R7 [truncated at 3 chars]\",\n",
    "                  \"Aspirations: what CM would like to be when grow up [SOC code] R5 [truncated at 3 chars]\",\n",
    "                  \"Age started to menstruate\",\n",
    "                  \"CM voice change\",\n",
    "                  \"How severe is CM's hearing problem\",\n",
    "                  \"Past 12 months: freq of CM damaged something that didn't belong to them\",\n",
    "                  \"Past 12 months: freq of CM wrote/spray painted somewhere they shouldn't\",\n",
    "                  \"Age CM first had 5 or more alcoholic drinks at a time\",\n",
    "                  \"Age CM first started drinking alcohol\",\n",
    "                  \"(last 12 months) has CM performed oral sex on another young person?\",\n",
    "                  \"(last 12 months) has CM touched another YP's private parts?\",\n",
    "                  \"(last 12 months) has another YP put his/her hands under CM's clothing?\",\n",
    "                  'AcademicSelfConceptGrid: I am good at Welsh',\n",
    "                  'IWR: Check Body Fat measurement',\n",
    "                  'Check CM has pacemaker'\n",
    "                 ]"
   ]
  },
  {
   "cell_type": "code",
   "execution_count": 66,
   "id": "ea9f24dd-ca78-4ef9-8e1d-4750e4425387",
   "metadata": {},
   "outputs": [],
   "source": [
    "data_small = data.drop(remove_columns, axis=1, inplace=True)"
   ]
  },
  {
   "cell_type": "code",
   "execution_count": null,
   "id": "9af25864-296e-4dd7-a950-b76388b8fbc8",
   "metadata": {},
   "outputs": [],
   "source": []
  }
 ],
 "metadata": {
  "kernelspec": {
   "display_name": "Python 3 (ipykernel)",
   "language": "python",
   "name": "python3"
  },
  "language_info": {
   "codemirror_mode": {
    "name": "ipython",
    "version": 3
   },
   "file_extension": ".py",
   "mimetype": "text/x-python",
   "name": "python",
   "nbconvert_exporter": "python",
   "pygments_lexer": "ipython3",
   "version": "3.10.6"
  }
 },
 "nbformat": 4,
 "nbformat_minor": 5
}
