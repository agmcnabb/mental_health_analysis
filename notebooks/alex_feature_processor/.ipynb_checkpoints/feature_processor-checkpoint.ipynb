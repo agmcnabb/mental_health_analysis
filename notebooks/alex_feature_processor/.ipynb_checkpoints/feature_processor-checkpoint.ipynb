{
 "cells": [
  {
   "cell_type": "code",
   "execution_count": null,
   "metadata": {},
   "outputs": [],
   "source": [
    "'''\n",
    "This notebook contains functions to convert features from raw values to model-compatible features\n",
    "'''"
   ]
  },
  {
   "cell_type": "code",
   "execution_count": 18,
   "metadata": {},
   "outputs": [],
   "source": [
    "import pandas as pd\n",
    "import numpy as np\n",
    "from sklearn.preprocessing import MinMaxScaler\n",
    "from sklearn.preprocessing import FunctionTransformer"
   ]
  },
  {
   "cell_type": "code",
   "execution_count": null,
   "metadata": {
    "tags": []
   },
   "outputs": [],
   "source": [
    "'''\n",
    "Feature categories:\n",
    "[x] categorical_list_highest_num_not_true\n",
    "[x] categorical_list_binary_1\n",
    "[x] categorical_list_binary_0\n",
    "[] categorical_no_idea\n",
    "[x] numerical_list_highest_num_is_highest_value\n",
    "[x] numerical_list_highest_num_is_lowest_value\n",
    "'''"
   ]
  },
  {
   "cell_type": "code",
   "execution_count": 51,
   "metadata": {},
   "outputs": [],
   "source": [
    "raw_data = pd.read_csv('../../raw_data/sweep_6/UKDA-8156-tab/tab/mcs6_cm_interview.tab', sep='\\t')"
   ]
  },
  {
   "cell_type": "code",
   "execution_count": 6,
   "metadata": {},
   "outputs": [],
   "source": [
    "# function to get code when only name is available\n",
    "def get_variable_code(variable_label):\n",
    "\n",
    "    # get raw data\n",
    "    data = pd.read_csv('../alex_tracking_system/dict_csv.csv')\n",
    "\n",
    "    data_filtered = data[data['Variable label'].str.contains(variable_label)]\n",
    "\n",
    "    try:\n",
    "        data_filtered_s = data_filtered.iloc[0]\n",
    "    except:\n",
    "        return 'VARIABLE NOT FOUND'\n",
    "\n",
    "    return data_filtered_s['Variable name']"
   ]
  },
  {
   "cell_type": "code",
   "execution_count": 7,
   "metadata": {},
   "outputs": [],
   "source": [
    "# function to replace negative values with modal\n",
    "def replace_missing_values(data, variable_code):\n",
    "    '''\n",
    "    EXPECTS:\n",
    "        data: a cm interview dataframe with variable codes for columns and unprocessed values.\n",
    "        variable_code: a string containing the variable code to replace.\n",
    "\n",
    "    RETURNS:\n",
    "        data: a cm interview where the specified column has had missing values replaced.\n",
    "    '''\n",
    "    # get modal value\n",
    "    modal_value = data[variable_code].value_counts().index[0]\n",
    "\n",
    "    # replace negative values with modal\n",
    "    data.loc[data[variable_code] < 0, variable_code] = modal_value\n",
    "\n",
    "    return data\n"
   ]
  },
  {
   "cell_type": "code",
   "execution_count": 67,
   "metadata": {},
   "outputs": [],
   "source": [
    "# categorical_list_highest_num_not_true\n",
    "def categorical_list_highest_num_not_true(data, cols):\n",
    "    '''\n",
    "    EXPECTS:\n",
    "        data: a cm interview dataframe with variable codes for columns and unprocessed values.\n",
    "        cols: a list of variable codes to be processed.\n",
    "    RETURNS:\n",
    "        output: a cm interview where the specified columns have be transformed.\n",
    "    '''\n",
    "    output = data.copy()\n",
    "\n",
    "    for col in cols:\n",
    "        # define scaler\n",
    "        scaler = MinMaxScaler(feature_range=(0, 1))\n",
    "\n",
    "        # replace missing values\n",
    "        output = replace_missing_values(output, col)\n",
    "\n",
    "        # turn values negative so that order is reversed\n",
    "        output.loc[:, col] = output[col] * -1\n",
    "\n",
    "        # apply minmax scaler\n",
    "        scaler.fit(output[[col]])\n",
    "        output.loc[:, col] = scaler.transform(output[[col]])\n",
    "\n",
    "    return output\n"
   ]
  },
  {
   "cell_type": "code",
   "execution_count": null,
   "metadata": {},
   "outputs": [],
   "source": [
    "# categorical_list_binary_0\n",
    "def categorical_list_binary_0(data, cols):\n",
    "    '''\n",
    "    EXPECTS:\n",
    "        data: a cm interview dataframe with variable codes for columns and unprocessed values.\n",
    "        cols: a list of variable codes to be processed.\n",
    "    RETURNS:\n",
    "        output: a cm interview where the specified columns have be transformed.\n",
    "    '''\n",
    "    output = data.copy()\n",
    "\n",
    "    for col in cols:\n",
    "        # replace missing values\n",
    "        output = replace_missing_values(output, col)\n",
    "\n",
    "    return output"
   ]
  },
  {
   "cell_type": "code",
   "execution_count": 68,
   "metadata": {},
   "outputs": [],
   "source": [
    "# categorical_list_binary_1\n",
    "def categorical_list_binary_1(data, cols):\n",
    "    '''\n",
    "    EXPECTS:\n",
    "        data: a cm interview dataframe with variable codes for columns and unprocessed values.\n",
    "        cols: a list of variable codes to be processed.\n",
    "    RETURNS:\n",
    "        output: a cm interview where the specified columns have be transformed.\n",
    "    '''\n",
    "    output = data.copy()\n",
    "\n",
    "    for col in cols:\n",
    "        # replace missing values\n",
    "        output = replace_missing_values(output, col)\n",
    "\n",
    "        # replace any remaing values that aren't 1\n",
    "        output.loc[output[col] != 1, col] = 0\n",
    "\n",
    "    return output"
   ]
  },
  {
   "cell_type": "code",
   "execution_count": null,
   "metadata": {},
   "outputs": [],
   "source": [
    "# numerical_list_highest_num_is_highest_value\n",
    "def numerical_list_highest_num_is_highest_value(data, cols):\n",
    "    '''\n",
    "    EXPECTS:\n",
    "        data: a cm interview dataframe with variable codes for columns and unprocessed values.\n",
    "        cols: a list of variable codes to be processed.\n",
    "    RETURNS:\n",
    "        output: a cm interview where the specified columns have be transformed.\n",
    "    '''\n",
    "    output = data.copy()\n",
    "\n",
    "    for col in cols:\n",
    "        # define scaler\n",
    "        scaler = MinMaxScaler(feature_range=(0, 1))\n",
    "\n",
    "        # replace missing values\n",
    "        output = replace_missing_values(output, col)\n",
    "\n",
    "        # apply minmax scaler\n",
    "        scaler.fit(output[[col]])\n",
    "        output.loc[:, col] = scaler.transform(output[[col]])\n",
    "\n",
    "\n",
    "    return output"
   ]
  },
  {
   "cell_type": "code",
   "execution_count": null,
   "metadata": {},
   "outputs": [],
   "source": [
    "# numerical_list_highest_num_is_lowest_value\n",
    "def numerical_list_highest_num_is_lowest_value(data, cols):\n",
    "    '''\n",
    "    EXPECTS:\n",
    "        data: a cm interview dataframe with variable codes for columns and unprocessed values.\n",
    "        cols: a list of variable codes to be processed.\n",
    "    RETURNS:\n",
    "        output: a cm interview where the specified columns have be transformed.\n",
    "    '''\n",
    "    output = data.copy()\n",
    "\n",
    "    for col in cols:\n",
    "        # define scaler\n",
    "        scaler = MinMaxScaler(feature_range=(0, 1))\n",
    "\n",
    "        # replace missing values\n",
    "        output = replace_missing_values(output, col)\n",
    "\n",
    "        # turn values negative so that order is reversed\n",
    "        output.loc[:, col] = output[col] * -1\n",
    "\n",
    "        # apply minmax scaler\n",
    "        scaler.fit(output[[col]])\n",
    "        output.loc[:, col] = scaler.transform(output[[col]])\n",
    "\n",
    "    return output"
   ]
  },
  {
   "cell_type": "code",
   "execution_count": null,
   "metadata": {},
   "outputs": [],
   "source": [
    "function_dict = {\n",
    "    \"categorical_list_highest_num_not_true\": categorical_list_highest_num_not_true,\n",
    "    \"categorical_list_binary_1\": categorical_list_binary_1,\n",
    "    \"categorical_list_binary_0\": categorical_list_binary_0,\n",
    "    \"numerical_list_highest_num_is_highest_value\": numerical_list_highest_num_is_highest_value,\n",
    "    \"numerical_list_highest_num_is_lowest_value\": numerical_list_highest_num_is_lowest_value\n",
    "}"
   ]
  },
  {
   "cell_type": "code",
   "execution_count": 77,
   "metadata": {},
   "outputs": [],
   "source": [
    "'''\n",
    "For the processor to work, it needs a dict where the keys are the feature\n",
    "categories, and the values are lists of features within that category.\n",
    "'''\n",
    "def feature_processor(data, var_cats):\n",
    "    '''\n",
    "    EXPECTS:\n",
    "        data: a cm interview dataframe with variable codes for columns and unprocessed values.\n",
    "        var_cats: a dict whose keys are the feature categories and values are\n",
    "            lists of feature names within each category.\n",
    "    RETURNS:\n",
    "        output: a cm interview where the features have be transformed.\n",
    "    '''\n",
    "    output = data.copy()\n",
    "\n",
    "    # for each feature category\n",
    "    for cat in var_cats:\n",
    "        # select all features in that category\n",
    "        features = var_cats[cat]\n",
    "\n",
    "        # convert variable labels into codes\n",
    "        var_codes = [get_variable_code(feature) for feature in features]\n",
    "\n",
    "        # and pass those codes into the appropriate function\n",
    "        output = function_dict[cat](output, var_codes)\n",
    "\n",
    "    return output"
   ]
  },
  {
   "cell_type": "markdown",
   "metadata": {},
   "source": [
    "### Turn into a pipeline object"
   ]
  },
  {
   "cell_type": "code",
   "execution_count": null,
   "metadata": {},
   "outputs": [],
   "source": [
    "# FeatureProcessor = FunctionTransformer()"
   ]
  },
  {
   "cell_type": "markdown",
   "metadata": {},
   "source": [
    "### TESTING"
   ]
  },
  {
   "cell_type": "code",
   "execution_count": null,
   "metadata": {},
   "outputs": [],
   "source": [
    "# categorical_list_binary_1_list = [\n",
    "#     'Has CM ever been attracted to a male'\n",
    "# ]\n",
    "\n",
    "# cols = [get_variable_code(var) for var in categorical_list_binary_1_list]\n",
    "\n",
    "# data_test = categorical_list_binary_1(raw_data, cols)\n",
    "\n",
    "# print(f\"BEFORE: {raw_data[cols[0]].value_counts()}\")\n",
    "# print(f\"AFTER: {data_test[cols[0]].value_counts()}\")\n"
   ]
  },
  {
   "cell_type": "code",
   "execution_count": null,
   "metadata": {},
   "outputs": [],
   "source": [
    "# categorical_list_highest_num_not_true_list = [\n",
    "#     'SocSupGrid: I have family and friends who help me feel safe, secure and happy.',\n",
    "#     'SocSupGrid: There is someone I trust whom I would turn to if I had problems'\n",
    "# ]\n",
    "\n",
    "# cols = [get_variable_code(var) for var in categorical_list_highest_num_not_true_list]\n",
    "\n",
    "# data_test = categorical_list_highest_num_not_true(raw_data, cols)"
   ]
  },
  {
   "cell_type": "code",
   "execution_count": null,
   "metadata": {},
   "outputs": [],
   "source": [
    "# print(f\"starting values: {raw_data[get_variable_code('SocSupGrid: I have family and friends who help me feel safe, secure and happy.')].value_counts()}\")\n",
    "# print(f\"processed values: {data_test[get_variable_code('SocSupGrid: I have family and friends who help me feel safe, secure and happy.')].value_counts()}\")"
   ]
  },
  {
   "cell_type": "code",
   "execution_count": 10,
   "metadata": {},
   "outputs": [],
   "source": [
    "## this is for binary features where 0 = true and 1 = false (done accidentally)\n",
    "# categorical_list_highest_num_not_true\n",
    "# def categorical_list_highest_num_not_true(data, cols):\n",
    "#     '''\n",
    "#     EXPECTS:\n",
    "#         data: a cm interview dataframe with variable codes for columns and unprocessed values.\n",
    "#         cols: a list of variable codes to be processed.\n",
    "#     RETURNS:\n",
    "#         output: a cm interview where the specified columns have be transformed.\n",
    "#     '''\n",
    "\n",
    "#     for col in cols:\n",
    "#         # replace missing values\n",
    "#         data = replace_missing_values(data, col)\n",
    "\n",
    "#         data_s = data[col]\n",
    "\n",
    "#         print(data_s.value_counts())\n",
    "\n",
    "#         # check that there are only two values\n",
    "#         assert len(data_s.value_counts()) == 2\n",
    "\n",
    "#         # define max and min values to replace\n",
    "#         max_value = max(data_s.values)\n",
    "#         min_value = min(data_s.values)\n",
    "\n",
    "#         # first 'reserve' values so they aren't overridden in the next step\n",
    "#         data.loc[data[col] == max_value, col] = 1000000\n",
    "\n",
    "#         # then replace min values with 1\n",
    "#         data.loc[data[col] == min_value, col] = 1\n",
    "\n",
    "#         # finally replace reserved values with 0\n",
    "#         data.loc[data[col] == 1000000, col] = 0\n",
    "\n",
    "#     return data"
   ]
  },
  {
   "cell_type": "code",
   "execution_count": null,
   "metadata": {},
   "outputs": [],
   "source": [
    "# data_dict = pd.read_csv('../alex_tracking_system/dict_csv.csv')\n",
    "# data_dict.columns"
   ]
  }
 ],
 "metadata": {
  "kernelspec": {
   "display_name": "Python 3",
   "language": "python",
   "name": "python3"
  },
  "language_info": {
   "codemirror_mode": {
    "name": "ipython",
    "version": 3
   },
   "file_extension": ".py",
   "mimetype": "text/x-python",
   "name": "python",
   "nbconvert_exporter": "python",
   "pygments_lexer": "ipython3",
   "version": "3.10.6"
  }
 },
 "nbformat": 4,
 "nbformat_minor": 2
}
