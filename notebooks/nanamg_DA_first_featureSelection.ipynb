{
 "cells": [
  {
   "cell_type": "markdown",
   "id": "b3e7eb99-d526-45b2-88bf-d00462d15d3d",
   "metadata": {},
   "source": [
    "### First sweep to remove features out of the first DA analysis"
   ]
  },
  {
   "cell_type": "markdown",
   "id": "7bb3e491-20ca-4588-8d81-d4ed0d0e3865",
   "metadata": {},
   "source": [
    "#### Data_1 rows 0:15"
   ]
  },
  {
   "cell_type": "code",
   "execution_count": null,
   "id": "8b7b15ba-8557-43ad-87ed-253b6ee9eb8d",
   "metadata": {},
   "outputs": [],
   "source": [
    "Incremental_classification \n",
    "\n",
    "Selecting 15 Best Predictors for the Model\n",
    "Selected Predictors :  ['CM Age last birthday', 'Height in centimeters', 'Weight in kilos', 'Body fat percentage', 'ActivGrid: Go to the cinema?', 'ActivGrid: Go to watch live sport?', 'ActivGrid: Sing in a choir or play in a band or orchestra?', 'ActivGrid: Read for enjoyment (not for school)?', 'ActivGrid: Go to youth clubs/scouts/girlguides or oth organised activities?', 'ActivGrid: Go to museums/galleries, visit historic place/stately home?', 'ActivGrid: Attend a religious service?', 'Days last week spent doing moderate to vigorous physical activity', 'Hours per WEEKDAY spent watching TV or videos on computer', 'Hours per WEEKDAY spent playing electronic games', 'Does CM have computer of their own']\n",
    "\n",
    "********************  Pseudo R-Squared of Complete Model :  ********************\n",
    "\n",
    "MacFadden's R-Squared : 0.0534855190442427 "
   ]
  },
  {
   "cell_type": "code",
   "execution_count": 1,
   "id": "309a79d8-4bac-45d8-96e7-d918fae6aedc",
   "metadata": {
    "scrolled": true
   },
   "outputs": [
    {
     "ename": "NameError",
     "evalue": "name 'dominance_1' is not defined",
     "output_type": "error",
     "traceback": [
      "\u001b[0;31m---------------------------------------------------------------------------\u001b[0m",
      "\u001b[0;31mNameError\u001b[0m                                 Traceback (most recent call last)",
      "Cell \u001b[0;32mIn[1], line 1\u001b[0m\n\u001b[0;32m----> 1\u001b[0m \u001b[43mdominance_1\u001b[49m\n",
      "\u001b[0;31mNameError\u001b[0m: name 'dominance_1' is not defined"
     ]
    }
   ],
   "source": [
    "dominance_1 # incremental_rsquare\n",
    "{'CM Age last birthday': 0.001205384712425299,\n",
    " 'Height in centimeters': 0.0014903773627565756,\n",
    " 'Weight in kilos': 0.004814949341634368,\n",
    " 'Body fat percentage': 0.02153845787353355,\n",
    " 'ActivGrid: Go to the cinema?': 0.00015304444102366704,\n",
    " 'ActivGrid: Go to watch live sport?': 0.0064544818234816325,\n",
    " 'ActivGrid: Sing in a choir or play in a band or orchestra?': 0.0015410368234947869,\n",
    " 'ActivGrid: Read for enjoyment (not for school)?': 0.00035093828105400935,\n",
    " 'ActivGrid: Go to youth clubs/scouts/girlguides or oth organised activities?': 0.00011462961439180885,\n",
    " 'ActivGrid: Go to museums/galleries, visit historic place/stately home?': 6.258195441227549e-05,\n",
    " 'ActivGrid: Attend a religious service?': 0.003601096558550483,\n",
    " 'Days last week spent doing moderate to vigorous physical activity': 0.0041725407054772476,\n",
    " 'Hours per WEEKDAY spent watching TV or videos on computer': 0.007046795986095111,\n",
    " 'Hours per WEEKDAY spent playing electronic games': 0.0005916297452406831,\n",
    " 'Does CM have computer of their own': 0.00034757382067120065}"
   ]
  },
  {
   "cell_type": "code",
   "execution_count": null,
   "id": "e1a6f09a-264f-459f-ac5a-19a77aed56c7",
   "metadata": {},
   "outputs": [],
   "source": []
  },
  {
   "cell_type": "markdown",
   "id": "5f83b3a8-0452-40d9-b41d-ba08880b4240",
   "metadata": {},
   "source": [
    "#### Data_2 rows 16:31"
   ]
  },
  {
   "cell_type": "code",
   "execution_count": null,
   "id": "9f165263-03d4-4fc7-86ea-56980ebb05cc",
   "metadata": {},
   "outputs": [],
   "source": [
    "Dominance_classification\n",
    "\n",
    "Selecting 15 Best Predictors for the Model\n",
    "Selected Predictors :  ['Hours per week spent on social networking sites', 'Has CM has any formal cycle training', 'Area safety: safe for CM to walk/play etc within a mile/20 min from home', 'Do you allow unsupervised time outside home with frds (on weekends)', 'Do you allow unsupervised time outside home with frds (afternoon after school)', 'Where CM gets spending money from MC (A) [Regular pocket money/allowance]', 'Where CM gets spending money from MC (A) [Chores/babysitting]', 'Where CM gets spending money from MC (A) [Working in the family business]', 'Where CM gets spending money from MC (A) [Paid job]', 'Where CM gets spending money from MC (A) [Parents given when CM needs]', 'Where CM gets spending money from MC (A) [Never get any money to spend]', 'Where CM gets spending money from MC (A) [Money from friends/relatives]', 'Where CM gets spending money from MC (A) [Money frm spcl occasins BirthD/Xmas]', 'Where CM gets spending money from MC (A) [Reward for good behaviour/grades]', 'Where CM gets spending money from MC (A) [Money for school]']\n",
    "\n",
    "********************  Pseudo R-Squared of Complete Model :  ********************\n",
    "\n",
    "MacFadden's R-Squared : 0.05848579386796604"
   ]
  },
  {
   "cell_type": "code",
   "execution_count": null,
   "id": "bc2b13ad-4948-48a9-9138-d069e2b760d9",
   "metadata": {},
   "outputs": [],
   "source": [
    "{'Hours per week spent on social networking sites': 0.045510849264257296,\n",
    " 'Has CM has any formal cycle training': 0.0008952242575334454,\n",
    " 'Area safety: safe for CM to walk/play etc within a mile/20 min from home': 0.00743494000117922,\n",
    " 'Do you allow unsupervised time outside home with frds (on weekends)': 0.001075881795358324,\n",
    " 'Do you allow unsupervised time outside home with frds (afternoon after school)': 0.0008499426613952559,\n",
    " 'Where CM gets spending money from MC (A) [Regular pocket money/allowance]': 5.350350247402411e-05,\n",
    " 'Where CM gets spending money from MC (A) [Chores/babysitting]': 0.00031317225601142,\n",
    " 'Where CM gets spending money from MC (A) [Working in the family business]': 2.466766937776684e-05,\n",
    " 'Where CM gets spending money from MC (A) [Paid job]': 2.7501968225659732e-05,\n",
    " 'Where CM gets spending money from MC (A) [Parents given when CM needs]': 0.00021192615200160648,\n",
    " 'Where CM gets spending money from MC (A) [Never get any money to spend]': 0.00025311139208237144,\n",
    " 'Where CM gets spending money from MC (A) [Money from friends/relatives]': 0.0009366708648375967,\n",
    " 'Where CM gets spending money from MC (A) [Money frm spcl occasins BirthD/Xmas]': 0.0007710504943097413,\n",
    " 'Where CM gets spending money from MC (A) [Reward for good behaviour/grades]': 4.0894588169751705e-05,\n",
    " 'Where CM gets spending money from MC (A) [Money for school]': 8.645700075255877e-05}"
   ]
  },
  {
   "cell_type": "code",
   "execution_count": null,
   "id": "e36407e3-1286-4fd1-af8f-33e5bdaf6c91",
   "metadata": {},
   "outputs": [],
   "source": []
  },
  {
   "cell_type": "markdown",
   "id": "f4574dd2-346e-4659-abd5-3e0074f7aca2",
   "metadata": {},
   "source": [
    "#### Data_3 rows 32:47"
   ]
  },
  {
   "cell_type": "code",
   "execution_count": null,
   "id": "27243ebe-5d72-4644-8fe2-11909dadd529",
   "metadata": {},
   "outputs": [],
   "source": [
    "Selecting 15 Best Predictors for the Model\n",
    "Selected Predictors :  ['Where CM gets spending money from MC (A) [Saving]', 'Where CM gets spending money from MC (A) [Other earnings]', \"ConsumAttGrid: It bothers me if my friends have things I don't\", 'MoralAttGrid: How important is it to you to be well liked?', 'MoralAttGrid: How important is it to you to work hard?', 'Wrong to start a fight', 'Wrong to write or spray paint on building/fence etc', 'Wrong to take things without paying', 'Wrong to download music/films/games without paying', 'AcademicSelfConceptGrid: I am good at English', 'AcademicSelfConceptGrid: I am good at Maths', 'AcademicSelfConceptGrid: I am good at Science', 'AcademicSelfConceptGrid: I am good at PE', 'Who decided next year subjects (Parents)', 'Who decided next year subjects (School/teachers)']\n",
    "\n",
    "********************  Pseudo R-Squared of Complete Model :  ********************\n",
    "\n",
    "MacFadden's R-Squared : 0.06714403792885726 "
   ]
  },
  {
   "cell_type": "code",
   "execution_count": null,
   "id": "f32ce8bb-3ccb-4072-8f5c-d27809a77bfb",
   "metadata": {},
   "outputs": [],
   "source": [
    "{'Where CM gets spending money from MC (A) [Saving]': 3.5264988283118483e-06,\n",
    " 'Where CM gets spending money from MC (A) [Other earnings]': 0.00017349054802335995,\n",
    " \"ConsumAttGrid: It bothers me if my friends have things I don't\": 0.0070229233497709565,\n",
    " 'MoralAttGrid: How important is it to you to be well liked?': 0.00013544564231843852,\n",
    " 'MoralAttGrid: How important is it to you to work hard?': 0.0026049542878815502,\n",
    " 'Wrong to start a fight': 0.0031011726719135427,\n",
    " 'Wrong to write or spray paint on building/fence etc': 0.00893225540017057,\n",
    " 'Wrong to take things without paying': 0.004326914565196382,\n",
    " 'Wrong to download music/films/games without paying': 0.005829420857040384,\n",
    " 'AcademicSelfConceptGrid: I am good at English': 0.001764080723450327,\n",
    " 'AcademicSelfConceptGrid: I am good at Maths': 0.011544344570341147,\n",
    " 'AcademicSelfConceptGrid: I am good at Science': 0.004084858456676022,\n",
    " 'AcademicSelfConceptGrid: I am good at PE': 0.01688924433199039,\n",
    " 'Who decided next year subjects (Parents)': 0.00042896789543949717,\n",
    " 'Who decided next year subjects (School/teachers)': 0.0003024381298163774}"
   ]
  },
  {
   "cell_type": "code",
   "execution_count": null,
   "id": "52863d7e-ac7c-420c-8b71-2ab492b46eb5",
   "metadata": {},
   "outputs": [],
   "source": []
  },
  {
   "cell_type": "markdown",
   "id": "4d4d1c77-7fdb-4e30-a66c-e157d73c4160",
   "metadata": {},
   "source": [
    "#### Data_4 rows 48:63"
   ]
  },
  {
   "cell_type": "code",
   "execution_count": null,
   "id": "c239e3f6-a7e0-455c-95bf-6633d0c70e95",
   "metadata": {},
   "outputs": [],
   "source": [
    "Selecting 15 Best Predictors for the Model\n",
    "Selected Predictors :  ['Who decided next year subjects (Someone else)', 'typical week term-time, how long cm spends doing homework?', \"How often does anyone at home help with CM's homework\", 'Quiet area where CM is able to do homework', 'EducMotGrid: How often do you try your best at school?', 'EducMotGrid: How often do you find school interesting?', 'EducMotGrid: How often do you feel unhappy at school?', 'EducMotGrid: How often do you get tired at school?', 'EducMotGrid: How often do you feel school is a waste of time?', 'EducMotGrid: How often difficult to keep mind on work at school? [NCDS, BCS]', 'How often does CM misbehave in lessons', \"Has CM missed school without parents' permission\", 'Needs qualifications to get a job worth having', 'How likely is it CM will remain in education at the end of year 11?', 'How likely is it CM will go to university? (Scale 0-100%)']\n",
    "\n",
    "********************  Pseudo R-Squared of Complete Model :  ********************\n",
    "\n",
    "MacFadden's R-Squared : 0.2083359479001783 "
   ]
  },
  {
   "cell_type": "code",
   "execution_count": null,
   "id": "ba192b36-f790-4044-bc4b-63ce6de7dc53",
   "metadata": {},
   "outputs": [],
   "source": [
    "{'Who decided next year subjects (Someone else)': 0.0002546804538344879,\n",
    " 'typical week term-time, how long cm spends doing homework?': 0.0028959958499545414,\n",
    " \"How often does anyone at home help with CM's homework\": 0.007958678534867389,\n",
    " 'Quiet area where CM is able to do homework': 0.0032093751392608745,\n",
    " 'EducMotGrid: How often do you try your best at school?': 0.0021420523416381862,\n",
    " 'EducMotGrid: How often do you find school interesting?': 0.003619833814910657,\n",
    " 'EducMotGrid: How often do you feel unhappy at school?': 0.09897768138030379,\n",
    " 'EducMotGrid: How often do you get tired at school?': 0.03461638641432299,\n",
    " 'EducMotGrid: How often do you feel school is a waste of time?': 0.009657454973471155,\n",
    " 'EducMotGrid: How often difficult to keep mind on work at school? [NCDS, BCS]': 0.031099930349151907,\n",
    " 'How often does CM misbehave in lessons': 0.0048008687851414916,\n",
    " \"Has CM missed school without parents' permission\": 0.007184831912396662,\n",
    " 'Needs qualifications to get a job worth having': 0.000782325418224866,\n",
    " 'How likely is it CM will remain in education at the end of year 11?': 0.0006090697243239546,\n",
    " 'How likely is it CM will go to university? (Scale 0-100%)': 0.0005267828083753533}"
   ]
  },
  {
   "cell_type": "code",
   "execution_count": null,
   "id": "31e26087-fb2c-4ab4-993d-1f56b5105747",
   "metadata": {},
   "outputs": [],
   "source": []
  },
  {
   "cell_type": "markdown",
   "id": "ded28c96-fdc2-496e-b914-01e026e23209",
   "metadata": {},
   "source": [
    "#### Data_5 rows 64:79  ** the log likelihood failed to converge..considering removing this batch entirely**"
   ]
  },
  {
   "cell_type": "code",
   "execution_count": null,
   "id": "b8b1b039-ca5b-4a08-96d2-d268d077a3d9",
   "metadata": {},
   "outputs": [],
   "source": [
    "Maximum Likelihood optimization failed to converge. Check mle_retvals\n",
    "\n",
    "Selecting 15 Best Predictors for the Model\n",
    "Selected Predictors :  ['Languages used speaking with friends MC (A) [Gaelic]', 'Languages used speaking with friends MC (A) [Urdu]', 'Languages used speaking with friends MC (A) [Punjabi]', 'Languages used speaking with friends MC (A) [Hindi]', 'Languages used speaking with friends MC (A) [Bengali]', 'Languages used speaking with friends MC (A) [Sylheti]', 'Languages used speaking with friends MC (A) [Tamil]', 'Languages used speaking with friends MC (A) [Turkish]', 'Languages used speaking with friends MC (A) [Arabic]', 'Languages used speaking with friends MC (A) [Other]', 'Languages used speaking with friends MC (A) [Other European language]', 'Languages used speaking with friends MC (A) [Other African language]', 'Languages used speaking with friends MC (A) [Other Asian language]', 'How close is CM with mother', 'How close is CM with father']\n",
    "\n",
    "********************  Pseudo R-Squared of Complete Model :  ********************\n",
    "\n",
    "MacFadden's R-Squared : 0.06251871876518045 \n",
    "\n"
   ]
  },
  {
   "cell_type": "code",
   "execution_count": null,
   "id": "073a0e0a-e166-4582-9063-d5987e795219",
   "metadata": {},
   "outputs": [],
   "source": [
    "{'Languages used speaking with friends MC (A) [Gaelic]': -1.3297555657736867e-06,\n",
    " 'Languages used speaking with friends MC (A) [Urdu]': 0.0004437697266528006,\n",
    " 'Languages used speaking with friends MC (A) [Punjabi]': 5.165371660908308e-05,\n",
    " 'Languages used speaking with friends MC (A) [Hindi]': 2.852511933544866e-05,\n",
    " 'Languages used speaking with friends MC (A) [Bengali]': 0.0005549951751589832,\n",
    " 'Languages used speaking with friends MC (A) [Sylheti]': 8.665048140238568e-05,\n",
    " 'Languages used speaking with friends MC (A) [Tamil]': 9.153670285485221e-06,\n",
    " 'Languages used speaking with friends MC (A) [Turkish]': 0.00010980070888544162,\n",
    " 'Languages used speaking with friends MC (A) [Arabic]': 2.421950930293842e-05,\n",
    " 'Languages used speaking with friends MC (A) [Other]': 8.048003403046619e-05,\n",
    " 'Languages used speaking with friends MC (A) [Other European language]': 0.002299017777215084,\n",
    " 'Languages used speaking with friends MC (A) [Other African language]': 0.0006185970524618964,\n",
    " 'Languages used speaking with friends MC (A) [Other Asian language]': 0.0011165827768624922,\n",
    " 'How close is CM with mother': 0.045128639324142544,\n",
    " 'How close is CM with father': 0.011967963448401174}"
   ]
  },
  {
   "cell_type": "code",
   "execution_count": null,
   "id": "f95ff2c1-052f-4a2d-84b2-295a5d7de4ae",
   "metadata": {},
   "outputs": [],
   "source": []
  },
  {
   "cell_type": "markdown",
   "id": "5d37255a-033b-41b9-9a93-7d53146703c2",
   "metadata": {},
   "source": [
    "#### Data_6 rows 80:95"
   ]
  },
  {
   "cell_type": "code",
   "execution_count": null,
   "id": "de1d6847-f30f-425b-bab6-3012bb0a9f24",
   "metadata": {},
   "outputs": [],
   "source": [
    "Selecting 15 Best Predictors for the Model\n",
    "Selected Predictors :  ['How often does CM argue with father', 'When CM goes out, how often do parents know where?', 'When CM goes out, how often do parents know who with?', 'When CM goes out, how often do parents know what CM does?', 'DisciplineGrid: Tell you off or shout at you?', 'DisciplineGrid: Ground you, stop you going out or from seeing your friends?', 'DisciplineGrid: Punish you in some other way?', 'Does your natural father live with you?', 'How often do you see any of your grandparents?', 'Do you have any close friends? (friends = other young people)', 'How many of your close friends go to the same school as you?', 'How many of your close friends are boys?', 'How many of your close friends are girls?', 'How many of your close friends are from the same ethnic group as you?', 'How many of your close friends work hard at school?']\n",
    "\n",
    "********************  Pseudo R-Squared of Complete Model :  ********************\n",
    "\n",
    "MacFadden's R-Squared : 0.09691313625547193"
   ]
  },
  {
   "cell_type": "code",
   "execution_count": null,
   "id": "143c04c1-dc9f-4460-b747-37a8adf2bb8b",
   "metadata": {},
   "outputs": [],
   "source": [
    "{'How often does CM argue with father': 0.018804876015789847,\n",
    " 'When CM goes out, how often do parents know where?': 0.006705457842149525,\n",
    " 'When CM goes out, how often do parents know who with?': 0.006734757295013245,\n",
    " 'When CM goes out, how often do parents know what CM does?': 0.015554523789484387,\n",
    " 'DisciplineGrid: Tell you off or shout at you?': 0.0011184300853435763,\n",
    " 'DisciplineGrid: Ground you, stop you going out or from seeing your friends?': 0.005595252476668941,\n",
    " 'DisciplineGrid: Punish you in some other way?': 0.005803785316659226,\n",
    " 'Does your natural father live with you?': 0.004825295589145431,\n",
    " 'How often do you see any of your grandparents?': 0.0009539245711375929,\n",
    " 'Do you have any close friends? (friends = other young people)': 0.004943648998316228,\n",
    " 'How many of your close friends go to the same school as you?': 0.0011378564446588258,\n",
    " 'How many of your close friends are boys?': 0.0076882464743019165,\n",
    " 'How many of your close friends are girls?': 0.012261956547144468,\n",
    " 'How many of your close friends are from the same ethnic group as you?': 0.00018071264711599247,\n",
    " 'How many of your close friends work hard at school?': 0.004604412162542732}"
   ]
  },
  {
   "cell_type": "code",
   "execution_count": null,
   "id": "2806b366-46a2-46ad-804d-7dc9f8e752ac",
   "metadata": {},
   "outputs": [],
   "source": []
  },
  {
   "cell_type": "markdown",
   "id": "f7503e45-a799-4268-a75f-f5f1e3c98c56",
   "metadata": {},
   "source": [
    "#### Data_7 rows 96:111"
   ]
  },
  {
   "cell_type": "code",
   "execution_count": null,
   "id": "aea1f297-949f-4768-b7c2-c7aca19697b4",
   "metadata": {},
   "outputs": [],
   "source": [
    "Selecting 15 Best Predictors for the Model\n",
    "Selected Predictors :  ['What do you do if you are worried about something? (Keep it to myself)', 'What do you do if you are worried about smthng? (Tell a (boy/girl) friend)', 'What do you do if you are worried about something? (Tell another relative)', 'What do you do if you are worried about something? (Tell a teacher)', 'What do you do if you are worried about something? (Tell another adult)', 'SocSupGrid: I have family and friends who help me feel safe, secure and happy.', 'SocSupGrid: There is someone I trust whom I would turn to if I had problems', 'Has CM ever been attracted to a male', '(last 12 months) has CM held hands with another young person?', '(last 12 months) has CM kissed another young person?', '(last 12 months) has CM cuddled with another young person?', '(last 12 months) has CM had sexual intercourse with another YP?', 'How often CM smokes e-cigarettes', \"How often CM's friends smoke cigarettes\", 'Has CM ever had an alcoholic drink']\n",
    "\n",
    "********************  Pseudo R-Squared of Complete Model :  ********************\n",
    "\n",
    "MacFadden's R-Squared : 0.2101271181299711 "
   ]
  },
  {
   "cell_type": "code",
   "execution_count": null,
   "id": "8ed98df8-2aae-460e-ac8e-0cd905a49b39",
   "metadata": {},
   "outputs": [],
   "source": [
    "{'What do you do if you are worried about something? (Keep it to myself)': 0.033787712728468935,\n",
    " 'What do you do if you are worried about smthng? (Tell a (boy/girl) friend)': 0.004016006681064701,\n",
    " 'What do you do if you are worried about something? (Tell another relative)': 0.0004402553742208357,\n",
    " 'What do you do if you are worried about something? (Tell a teacher)': 0.0003736285009304543,\n",
    " 'What do you do if you are worried about something? (Tell another adult)': 0.00010204604725811174,\n",
    " 'SocSupGrid: I have family and friends who help me feel safe, secure and happy.': 0.0415437947815045,\n",
    " 'SocSupGrid: There is someone I trust whom I would turn to if I had problems': 0.018695649738933763,\n",
    " 'Has CM ever been attracted to a male': 0.06389820423942105,\n",
    " '(last 12 months) has CM held hands with another young person?': 0.0037997556359382974,\n",
    " '(last 12 months) has CM kissed another young person?': 0.005211590949336593,\n",
    " '(last 12 months) has CM cuddled with another young person?': 0.0037382990607761697,\n",
    " '(last 12 months) has CM had sexual intercourse with another YP?': 0.0034108953193093977,\n",
    " 'How often CM smokes e-cigarettes': 0.004669736064789213,\n",
    " \"How often CM's friends smoke cigarettes\": 0.015391696911251059,\n",
    " 'Has CM ever had an alcoholic drink': 0.01104784609676801}"
   ]
  },
  {
   "cell_type": "code",
   "execution_count": null,
   "id": "57294412-0fa2-43fe-867e-52b9ed3247ce",
   "metadata": {},
   "outputs": [],
   "source": []
  },
  {
   "cell_type": "markdown",
   "id": "5db81bdc-31c2-4708-93ae-c22a9b419267",
   "metadata": {},
   "source": [
    "#### Data_8 rows 112:127"
   ]
  },
  {
   "cell_type": "code",
   "execution_count": null,
   "id": "17b429b8-75a0-4042-b070-fbbaed6ddecc",
   "metadata": {},
   "outputs": [],
   "source": [
    "Selecting 15 Best Predictors for the Model\n",
    "Selected Predictors :  ['DruGrid: Cannabis (also known as weed, marijuana, dope, hash or skunk)?', \"Do CM's friends take any illegal drugs\", 'GamblinGrid: Placing a private bet for money (e.g. with friends)?', 'GamblinGrid: Placing a bet @ betting shop, eg football or horseracing?', 'How often brothers or sisters hurt or pick on CM', 'How often CM hurts or picks on brothers or sisters', 'How often other children hurt or pick on CM', 'How often CM hurts or picks on other children', 'How often other children bullied CM online', 'How often CM bullied other children online', 'VictimisGrid: CM insulted, threatened, shouted at', 'VictimisGrid: been physically violent towards CM', 'VictimisGrid: hit or used a weapon against CM', 'VictimisGrid: stolen something from CM', 'VictimisGrid: sexually assaulted CM']\n",
    "\n",
    "********************  Pseudo R-Squared of Complete Model :  ********************\n",
    "\n",
    "MacFadden's R-Squared : 0.18253659701533254 "
   ]
  },
  {
   "cell_type": "code",
   "execution_count": null,
   "id": "63bf2a1c-5e6b-4f95-8bea-616fa5311dbf",
   "metadata": {},
   "outputs": [],
   "source": [
    "{'DruGrid: Cannabis (also known as weed, marijuana, dope, hash or skunk)?': 0.004709411713575776,\n",
    " \"Do CM's friends take any illegal drugs\": 0.00893220280926427,\n",
    " 'GamblinGrid: Placing a private bet for money (e.g. with friends)?': 0.0009942046532991904,\n",
    " 'GamblinGrid: Placing a bet @ betting shop, eg football or horseracing?': 4.9829867771217744e-05,\n",
    " 'How often brothers or sisters hurt or pick on CM': 0.00860697667329332,\n",
    " 'How often CM hurts or picks on brothers or sisters': 0.003507641308014716,\n",
    " 'How often other children hurt or pick on CM': 0.03876222555063233,\n",
    " 'How often CM hurts or picks on other children': 0.004986833674477597,\n",
    " 'How often other children bullied CM online': 0.04517790265598864,\n",
    " 'How often CM bullied other children online': 0.007417021537048601,\n",
    " 'VictimisGrid: CM insulted, threatened, shouted at': 0.028093207486908352,\n",
    " 'VictimisGrid: been physically violent towards CM': 0.009949063453323886,\n",
    " 'VictimisGrid: hit or used a weapon against CM': 0.004082745067256386,\n",
    " 'VictimisGrid: stolen something from CM': 0.004369744421312131,\n",
    " 'VictimisGrid: sexually assaulted CM': 0.012897586143166143}"
   ]
  },
  {
   "cell_type": "code",
   "execution_count": null,
   "id": "f68abada-12c5-44c1-992b-6ad5d3b66bc0",
   "metadata": {},
   "outputs": [],
   "source": []
  },
  {
   "cell_type": "markdown",
   "id": "e0a23ecd-1b80-4a49-9a3c-b2bdc4d0f777",
   "metadata": {},
   "source": [
    "#### Data_9 rows 128:143"
   ]
  },
  {
   "cell_type": "code",
   "execution_count": null,
   "id": "533aa9f8-231e-42f4-873d-febfe4ce73a8",
   "metadata": {},
   "outputs": [],
   "source": [
    "Selecting 15 Best Predictors for the Model\n",
    "Selected Predictors :  ['Has CM ever entered someones home to steal or damage something', 'ASBOgrid: CM Pushed or shoved/hit/slapped/punched someone?', 'ASBOgrid: CM Used or hit someone with a weapon?', 'ASBOgrid: CM stolen something from someone eg mobile phone, money', 'Has CM been stopped or questioned by police', 'Has CM ever been given a formal warning or caution from police', 'Has CM ever been arrested', 'Past 12 months: has CM sent viruses to damage/infect other computers', 'How often CM eats at least 2 portions of fruit', 'How often does CM drink artifically sweetened drinks', 'How often does CM eat fast food', \"CM's general level of health\", 'Does CM wear glasses or contact lenses', 'Does CM have difficulty seeing', 'Does CM have difficulty hearing']\n",
    "\n",
    "********************  Pseudo R-Squared of Complete Model :  ********************\n",
    "\n",
    "MacFadden's R-Squared : 0.08085711646753546 "
   ]
  },
  {
   "cell_type": "code",
   "execution_count": null,
   "id": "4c517219-a52f-4ae7-83c2-c68c2682a5d2",
   "metadata": {},
   "outputs": [],
   "source": [
    "{'Has CM ever entered someones home to steal or damage something': 9.992362590805793e-05,\n",
    " 'ASBOgrid: CM Pushed or shoved/hit/slapped/punched someone?': 0.00979077247100019,\n",
    " 'ASBOgrid: CM Used or hit someone with a weapon?': 0.0005168389252186183,\n",
    " 'ASBOgrid: CM stolen something from someone eg mobile phone, money': 0.0025424691754958235,\n",
    " 'Has CM been stopped or questioned by police': 0.0029390071802734654,\n",
    " 'Has CM ever been given a formal warning or caution from police': 0.0026309690285567814,\n",
    " 'Has CM ever been arrested': 0.00018169598951672255,\n",
    " 'Past 12 months: has CM sent viruses to damage/infect other computers': 0.00011826107317918114,\n",
    " 'How often CM eats at least 2 portions of fruit': 0.002745087616323785,\n",
    " 'How often does CM drink artifically sweetened drinks': 0.0009597664668624396,\n",
    " 'How often does CM eat fast food': 0.00037646659826627343,\n",
    " \"CM's general level of health\": 0.03778332827898019,\n",
    " 'Does CM wear glasses or contact lenses': 0.00701781136904581,\n",
    " 'Does CM have difficulty seeing': 0.009348795322770193,\n",
    " 'Does CM have difficulty hearing': 0.003805923346137932}"
   ]
  },
  {
   "cell_type": "code",
   "execution_count": null,
   "id": "f61a268e-7408-4ea8-98f0-434064a2e575",
   "metadata": {},
   "outputs": [],
   "source": []
  },
  {
   "cell_type": "markdown",
   "id": "222e82ed-ac02-49d7-bb75-4e12de08556f",
   "metadata": {},
   "source": [
    "#### Data_10 rows 144:159"
   ]
  },
  {
   "cell_type": "code",
   "execution_count": null,
   "id": "8fa98f66-69de-4a9d-9dac-824a014c2e98",
   "metadata": {},
   "outputs": [],
   "source": [
    "Selecting 15 Best Predictors for the Model\n",
    "Selected Predictors :  ['Time CM goes to sleep on a school night', 'Time CM wakes up on a school day', 'Time CM wakes up when there is no school', 'During the last 4 weeks how long does going to sleep usually take', 'During the last 4 weeks how often did CM awaken during sleep', \"CM's perception of their weight\", 'Has CM ever exercised to lose weight', 'Has CM ever eaten less to lose weight', 'CM growth spurt', 'CM skin changes eg spots', 'WellbeingGrid: How happy is CM with school work', 'WellbeingGrid: How happy is CM with the way they look', 'WellbeingGrid: How happy is CM with family', 'WellbeingGrid: How happy is CM with friends', 'WellbeingGrid: How happy is CM with life as a whole']\n",
    "\n",
    "********************  Pseudo R-Squared of Complete Model :  ********************\n",
    "\n",
    "MacFadden's R-Squared : 0.3347532115405425 "
   ]
  },
  {
   "cell_type": "code",
   "execution_count": null,
   "id": "23955f4a-707b-4f58-bbee-ead9f17e6fbe",
   "metadata": {},
   "outputs": [],
   "source": [
    "{'Time CM goes to sleep on a school night': 0.011718509956552629,\n",
    " 'Time CM wakes up on a school day': 0.0022353325189286674,\n",
    " 'Time CM wakes up when there is no school': 0.0003996703390564003,\n",
    " 'During the last 4 weeks how long does going to sleep usually take': 0.020276847498090746,\n",
    " 'During the last 4 weeks how often did CM awaken during sleep': 0.03612268977329732,\n",
    " \"CM's perception of their weight\": 0.0071446211871928865,\n",
    " 'Has CM ever exercised to lose weight': 0.005183869417296287,\n",
    " 'Has CM ever eaten less to lose weight': 0.024812308463669084,\n",
    " 'CM growth spurt': 0.00019317517474442538,\n",
    " 'CM skin changes eg spots': 0.003938744827345502,\n",
    " 'WellbeingGrid: How happy is CM with school work': 0.020979894568218284,\n",
    " 'WellbeingGrid: How happy is CM with the way they look': 0.0641246350255936,\n",
    " 'WellbeingGrid: How happy is CM with family': 0.026932584882058543,\n",
    " 'WellbeingGrid: How happy is CM with friends': 0.017099392952158465,\n",
    " 'WellbeingGrid: How happy is CM with life as a whole': 0.09359093495633965}"
   ]
  },
  {
   "cell_type": "code",
   "execution_count": null,
   "id": "14815cb5-8b69-43c7-ae85-2d77a7ba63b5",
   "metadata": {},
   "outputs": [],
   "source": []
  },
  {
   "cell_type": "markdown",
   "id": "8647f229-a328-43c9-ac30-591524595f56",
   "metadata": {},
   "source": [
    "#### Data_11 rows 160:175"
   ]
  },
  {
   "cell_type": "code",
   "execution_count": null,
   "id": "d6679350-c67c-415b-a97d-e11ad9fde09f",
   "metadata": {},
   "outputs": [],
   "source": [
    "Selecting 15 Best Predictors for the Model\n",
    "Selected Predictors :  ['RosenbergGrid: I feel I have a number of good qualities', 'RosenbergGrid: I am able to do things as well as most other people', 'RosenbergGrid: I am a person of value', 'RosenbergGrid: I feel good about myself', 'In the past year has CM self-harmed', 'How willing is CM to take risks', 'How patient is CM', 'How much does CM trust others', 'CM Sex_2', 'Respondent s religion (A) [England]_1', 'Respondent s religion (A) [England]_2', 'Respondent s religion (A) [England]_3', 'Respondent s religion (A) [England]_4', 'Respondent s religion (A) [England]_5', 'Respondent s religion (A) [England]_6']\n",
    "\n",
    "********************  Pseudo R-Squared of Complete Model :  ********************\n",
    "\n",
    "MacFadden's R-Squared : 0.3644466936107382 "
   ]
  },
  {
   "cell_type": "code",
   "execution_count": null,
   "id": "abae30f0-61d8-468f-ad83-3829eec6c8f3",
   "metadata": {},
   "outputs": [],
   "source": [
    "{'RosenbergGrid: I feel I have a number of good qualities': 0.04143627149373984,\n",
    " 'RosenbergGrid: I am able to do things as well as most other people': 0.025111905088400378,\n",
    " 'RosenbergGrid: I am a person of value': 0.038542971313717735,\n",
    " 'RosenbergGrid: I feel good about myself': 0.10310577816389016,\n",
    " 'In the past year has CM self-harmed': 0.09302121922266085,\n",
    " 'How willing is CM to take risks': 0.006303790272816034,\n",
    " 'How patient is CM': 0.004015328627973903,\n",
    " 'How much does CM trust others': 0.03547020544156477,\n",
    " 'CM Sex_2': 0.015431452326717287,\n",
    " 'Respondent s religion (A) [England]_1': 0.0009694099393479873,\n",
    " 'Respondent s religion (A) [England]_2': 0.00021642393349142653,\n",
    " 'Respondent s religion (A) [England]_3': 3.9778487250115355e-05,\n",
    " 'Respondent s religion (A) [England]_4': 0.0002560112827754828,\n",
    " 'Respondent s religion (A) [England]_5': 0.00015900461688960843,\n",
    " 'Respondent s religion (A) [England]_6': 0.0003671433995026964}"
   ]
  },
  {
   "cell_type": "code",
   "execution_count": null,
   "id": "6440708f-1d15-43f5-b14e-bc0dcc52c05d",
   "metadata": {},
   "outputs": [],
   "source": []
  },
  {
   "cell_type": "markdown",
   "id": "ad5fa003-0ee1-4a64-b092-26ed9f62a6df",
   "metadata": {},
   "source": [
    "#### Data_12"
   ]
  },
  {
   "cell_type": "code",
   "execution_count": null,
   "id": "2f3923cc-b0c5-47bf-82af-2f57a887ac9a",
   "metadata": {},
   "outputs": [],
   "source": [
    "Selected Predictors :  ['Respondent s religion (A) [England]_8', 'Respondent s religion (A) [England]_9', 'Respondent s religion (A) [England]_10', 'Respondent s religion (A) [England]_11', 'Left/Right handed?_2', 'Left/Right handed?_3', 'What type of bread does CM normally eat_2', 'What type of bread does CM normally eat_3', 'What type of bread does CM normally eat_4', 'What type of bread does CM normally eat_5', 'What type of bread does CM normally eat_6']\n",
    "\n",
    "********************  Pseudo R-Squared of Complete Model :  ********************\n",
    "\n",
    "MacFadden's R-Squared : 0.0036603732743094586 \n",
    "\n",
    "/usr/local/lib/python3.10/dist-packages/statsmodels/base/model.py:607: ConvergenceWarning:\n",
    "\n",
    "Maximum Likelihood optimization failed to converge. Check mle_retvals\n",
    "\n"
   ]
  },
  {
   "cell_type": "code",
   "execution_count": null,
   "id": "4d7da9a9-8463-4bc5-bae2-d8599ec12173",
   "metadata": {},
   "outputs": [],
   "source": [
    "\n",
    "\n",
    "{'Respondent s religion (A) [England]_8': 0.00011627548153270261,\n",
    " 'Respondent s religion (A) [England]_9': 0.0007594581547699802,\n",
    " 'Respondent s religion (A) [England]_10': 0.00011177877683119255,\n",
    " 'Respondent s religion (A) [England]_11': 1.473058087869681e-05,\n",
    " 'Left/Right handed?_2': 4.58339739436939e-05,\n",
    " 'Left/Right handed?_3': 0.0007411204448872039,\n",
    " 'What type of bread does CM normally eat_2': 0.0012507625277126144,\n",
    " 'What type of bread does CM normally eat_3': 7.323014894887915e-05,\n",
    " 'What type of bread does CM normally eat_4': 0.00010679643775167669,\n",
    " 'What type of bread does CM normally eat_5': 0.00029524848819637207,\n",
    " 'What type of bread does CM normally eat_6': 0.00014513825885644618}"
   ]
  },
  {
   "cell_type": "code",
   "execution_count": 5,
   "id": "51ef88db-6b8c-4a63-91e7-a8f2d6e82460",
   "metadata": {},
   "outputs": [],
   "source": [
    "Data_1_pseudo = 0.0534855190442427\n",
    "Data_2_pseudo = 0.05848579386796604\n",
    "Data_3_pseudo = 0.06714403792885726\n",
    "Data_4_pseudo = 0.2083359479001783\n",
    "Data_5_pseudo = 0.06251871876518045\n",
    "Data_6_pseudo = 0.09691313625547193\n",
    "Data_7_pseudo = 0.2101271181299711\n",
    "Data_8_pseudo = 0.18253659701533254\n",
    "Data_9_pseudo = 0.08085711646753546\n",
    "Data_10_pseudo = 0.3347532115405425\n",
    "Data_11_pseudo = 0.3644466936107382\n",
    "Data_12_pseudo = 0.0036603732743094586\n"
   ]
  },
  {
   "cell_type": "code",
   "execution_count": 6,
   "id": "bc48b9e1-dd03-4bde-b262-f3ed368e3cd1",
   "metadata": {},
   "outputs": [],
   "source": [
    "# features to be removed\n",
    "\n",
    "rm_features = [\n",
    "'Respondent s religion (A) [England]_8',\n",
    "'Respondent s religion (A) [England]_9',\n",
    "'Respondent s religion (A) [England]_10',\n",
    "'Respondent s religion (A) [England]_11',\n",
    "'Left/Right handed?_2','Left/Right handed?_3',\n",
    "'What type of bread does CM normally eat_2',\n",
    "'What type of bread does CM normally eat_3',\n",
    "'What type of bread does CM normally eat_4',\n",
    "'What type of bread does CM normally eat_5',\n",
    "'What type of bread does CM normally eat_6',\n",
    "'Respondent s religion (A) [England]_1',\n",
    "'Respondent s religion (A) [England]_2',\n",
    "'Respondent s religion (A) [England]_3',\n",
    "'Respondent s religion (A) [England]_4',\n",
    "'Respondent s religion (A) [England]_5',\n",
    "'Respondent s religion (A) [England]_6',\n",
    "'Time CM wakes up when there is no school',\n",
    "'CM growth spurt',\n",
    "'Has CM ever entered someones home to steal or damage something',\n",
    "'ASBOgrid: CM Used or hit someone with a weapon?',\n",
    "'Has CM ever been arrested',\n",
    "'Past 12 months: has CM sent viruses to damage/infect other computers',\n",
    "'How often does CM drink artifically sweetened drinks',\n",
    "'How often does CM eat fast food','GamblinGrid: Placing a private bet for money (e.g. with friends)?',\n",
    "'GamblinGrid: Placing a bet @ betting shop, eg football or horseracing?',\n",
    "'What do you do if you are worried about something? (Tell another relative)',\n",
    "'What do you do if you are worried about something? (Tell a teacher)',\n",
    "'What do you do if you are worried about something? (Tell another adult)',\n",
    "'How often do you see any of your grandparents?',\n",
    "'How many of your close friends are from the same ethnic group as you?',\n",
    "'Languages used speaking with friends MC (A) [Gaelic]',\n",
    "'Languages used speaking with friends MC (A) [Urdu]',\n",
    "'Languages used speaking with friends MC (A) [Punjabi]',\n",
    "'Languages used speaking with friends MC (A) [Hindi]',\n",
    "'Languages used speaking with friends MC (A) [Bengali]',\n",
    "'Languages used speaking with friends MC (A) [Sylheti]',\n",
    "'Languages used speaking with friends MC (A) [Tamil]',\n",
    "'Languages used speaking with friends MC (A) [Turkish]',\n",
    "'Languages used speaking with friends MC (A) [Arabic]',\n",
    "'Languages used speaking with friends MC (A) [Other]',\n",
    "'Languages used speaking with friends MC (A) [Other African language]',\n",
    "'Who decided next year subjects (Someone else)',\n",
    "'Needs qualifications to get a job worth having',\n",
    "'How likely is it CM will remain in education at the end of year 11?',\n",
    "'How likely is it CM will go to university? (Scale 0-100%)',\n",
    "'Where CM gets spending money from MC (A) [Saving]',\n",
    "'Where CM gets spending money from MC (A) [Other earnings]',\n",
    "'MoralAttGrid: How important is it to you to be well liked?',\n",
    "'Who decided next year subjects (Parents)',\n",
    "'Who decided next year subjects (School/teachers)',\n",
    "'Has CM has any formal cycle training',\n",
    "'Do you allow unsupervised time outside home with frds (afternoon after school)',\n",
    "'Where CM gets spending money from MC (A) [Regular pocket money/allowance]',\n",
    "'Where CM gets spending money from MC (A) [Chores/babysitting]',\n",
    "'Where CM gets spending money from MC (A) [Working in the family business]',\n",
    "'Where CM gets spending money from MC (A) [Paid job]',\n",
    "'Where CM gets spending money from MC (A) [Parents given when CM needs]',\n",
    "'Where CM gets spending money from MC (A) [Never get any money to spend]',\n",
    "'Where CM gets spending money from MC (A) [Money from friends/relatives]',\n",
    "'Where CM gets spending money from MC (A) [Money frm spcl occasins BirthD/Xmas]',\n",
    "'Where CM gets spending money from MC (A) [Reward for good behaviour/grades]',\n",
    "'Where CM gets spending money from MC (A) [Money for school]',\n",
    "'ActivGrid: Go to the cinema?',\n",
    "'ActivGrid: Read for enjoyment (not for school)?',\n",
    "'ActivGrid: Go to youth clubs/scouts/girlguides or oth organised activities?',\n",
    "'ActivGrid: Go to museums/galleries, visit historic place/stately home?',\n",
    "'Hours per WEEKDAY spent playing electronic games',\n",
    "'Does CM have computer of their own']\n",
    "\n"
   ]
  },
  {
   "cell_type": "code",
   "execution_count": 9,
   "id": "9a81d958-f91d-403d-ab8b-7a1a07c6cbae",
   "metadata": {},
   "outputs": [],
   "source": [
    "import numpy as np \n",
    "import pandas as pd \n",
    "import pickle\n",
    "import os\n",
    "import pathlib\n",
    "\n",
    "import re"
   ]
  },
  {
   "cell_type": "code",
   "execution_count": 10,
   "id": "87a3f1b0-4da0-4248-9f71-45b1954bc9c0",
   "metadata": {},
   "outputs": [],
   "source": [
    "# Removing the first round of features after the first DA \n",
    "\n",
    "notebook_dir = pathlib.Path().resolve()\n",
    "filepath_X = os.path.join(notebook_dir,'./pipeline/datasets/X_processed_names')\n",
    "\n",
    "with open(filepath_X, 'rb') as file:\n",
    "    data = pickle.load(file)"
   ]
  },
  {
   "cell_type": "code",
   "execution_count": 12,
   "id": "198ecdda-11b6-40be-a386-259d403e7153",
   "metadata": {},
   "outputs": [],
   "source": [
    "data.drop(columns=rm_features, inplace=True)"
   ]
  },
  {
   "cell_type": "code",
   "execution_count": 13,
   "id": "b36ab06c-32f0-491a-a9c9-47d45a01fcfa",
   "metadata": {},
   "outputs": [
    {
     "data": {
      "text/plain": [
       "(11859, 117)"
      ]
     },
     "execution_count": 13,
     "metadata": {},
     "output_type": "execute_result"
    }
   ],
   "source": [
    "data.shape"
   ]
  },
  {
   "cell_type": "code",
   "execution_count": 15,
   "id": "a28ed1e5-e765-42fb-bab5-03b06747af16",
   "metadata": {},
   "outputs": [],
   "source": [
    "# Saving X_processed_names without the features from the first DA\n",
    "\n",
    "path = './pipeline/datasets/X_processed_names_1_DA.csv'\n",
    "\n",
    "data.to_csv(path)"
   ]
  },
  {
   "cell_type": "code",
   "execution_count": null,
   "id": "81a269c2-8364-4af3-a198-44d5e25ea4f8",
   "metadata": {},
   "outputs": [],
   "source": []
  }
 ],
 "metadata": {
  "kernelspec": {
   "display_name": "Python 3 (ipykernel)",
   "language": "python",
   "name": "python3"
  },
  "language_info": {
   "codemirror_mode": {
    "name": "ipython",
    "version": 3
   },
   "file_extension": ".py",
   "mimetype": "text/x-python",
   "name": "python",
   "nbconvert_exporter": "python",
   "pygments_lexer": "ipython3",
   "version": "3.10.6"
  }
 },
 "nbformat": 4,
 "nbformat_minor": 5
}
