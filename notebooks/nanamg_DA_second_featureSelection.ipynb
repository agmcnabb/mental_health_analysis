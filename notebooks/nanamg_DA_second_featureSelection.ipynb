{
 "cells": [
  {
   "cell_type": "markdown",
   "id": "de41ecd7-bf12-4078-8afb-a3f683a9e5d6",
   "metadata": {},
   "source": [
    "### Second sweep to remove features out of the first DA analysis"
   ]
  },
  {
   "cell_type": "markdown",
   "id": "f310c156-cd51-4926-85cf-655d6893b738",
   "metadata": {},
   "source": [
    "#### Data_1 rows 0:10"
   ]
  },
  {
   "cell_type": "code",
   "execution_count": null,
   "id": "adf049f3-b9ad-448f-aa6e-9b0a7397d103",
   "metadata": {},
   "outputs": [],
   "source": [
    "MacFadden's R-Squared : 0.07457525533288245"
   ]
  },
  {
   "cell_type": "code",
   "execution_count": null,
   "id": "fc7aa1fc-a042-44b3-929d-1ddc4efd2983",
   "metadata": {},
   "outputs": [],
   "source": [
    "{'CM Age last birthday': 0.000961335199601034,\n",
    " 'Height in centimeters': 0.001423419639131542,\n",
    " 'Weight in kilos': 0.004601613815929259,\n",
    " 'Body fat percentage': 0.021106144880456392,\n",
    " 'ActivGrid: Go to watch live sport?': 0.006437555561908436,\n",
    " 'ActivGrid: Sing in a choir or play in a band or orchestra?': 0.0020053867092320846,\n",
    " 'ActivGrid: Attend a religious service?': 0.002425712802098759,\n",
    " 'Days last week spent doing moderate to vigorous physical activity': 0.0037173465609474958,\n",
    " 'Hours per WEEKDAY spent watching TV or videos on computer': 0.003809919700628747,\n",
    " 'Does CM ever use the internet at home': 0.028086820462948702}"
   ]
  },
  {
   "cell_type": "code",
   "execution_count": null,
   "id": "97279edf-faa3-40ba-9e20-d9d6a9bf6b54",
   "metadata": {},
   "outputs": [],
   "source": []
  },
  {
   "cell_type": "markdown",
   "id": "5432ef08-8dde-4570-bc66-6575f819f418",
   "metadata": {},
   "source": [
    "#### Data_2 rows 11:21"
   ]
  },
  {
   "cell_type": "code",
   "execution_count": null,
   "id": "c8d913a2-d749-49ee-af87-906d8af3ae6d",
   "metadata": {},
   "outputs": [],
   "source": [
    "MacFadden's R-Squared : 0.04196656325504522"
   ]
  },
  {
   "cell_type": "code",
   "execution_count": null,
   "id": "1f66d94c-4682-4d5a-bdad-1b6d3b6d1fe2",
   "metadata": {},
   "outputs": [],
   "source": [
    "{'Area safety: safe for CM to walk/play etc within a mile/20 min from home': 0.007067377778142312,\n",
    " 'Do you allow unsupervised time outside home with frds (on weekends)': 0.00024018524012941117,\n",
    " 'Where CM gets spending money from MC (A) [From selling items]': 5.8328301122355886e-05,\n",
    " \"ConsumAttGrid: It bothers me if my friends have things I don't\": 0.007414334267423242,\n",
    " 'MoralAttGrid: How important is it to you to work hard?': 0.0034407922960310623,\n",
    " 'Wrong to start a fight': 0.003014151814312447,\n",
    " 'Wrong to write or spray paint on building/fence etc': 0.010054558872460682,\n",
    " 'Wrong to take things without paying': 0.004532409780595462,\n",
    " 'Wrong to download music/films/games without paying': 0.00595386383177964,\n",
    " 'AcademicSelfConceptGrid: I am good at English': 0.00019056107304860732}"
   ]
  },
  {
   "cell_type": "code",
   "execution_count": null,
   "id": "19dc078c-d6e7-4a88-973f-ba170816abbd",
   "metadata": {},
   "outputs": [],
   "source": []
  },
  {
   "cell_type": "markdown",
   "id": "80f0b3ea-99ab-4d2e-b045-34fddc4698ab",
   "metadata": {},
   "source": [
    "#### Data_3 rows 22:32"
   ]
  },
  {
   "cell_type": "code",
   "execution_count": null,
   "id": "eb73f567-ba0f-4efc-b2a9-24ce8d352681",
   "metadata": {},
   "outputs": [],
   "source": [
    "MacFadden's R-Squared : 0.19882624432205442 "
   ]
  },
  {
   "cell_type": "code",
   "execution_count": null,
   "id": "7ff3b5cf-c6ff-4162-9154-0accff7597b3",
   "metadata": {},
   "outputs": [],
   "source": [
    "{'AcademicSelfConceptGrid: I am good at Science': 0.0029896780984913765,\n",
    " 'AcademicSelfConceptGrid: I am good at PE': 0.011678034301979962,\n",
    " 'Who decided next year subjects (You, yourself)': 0.00013106675003525306,\n",
    " 'typical week term-time, how long cm spends doing homework?': 0.0012393048467422077,\n",
    " \"How often does anyone at home help with CM's homework\": 0.009068107384935896,\n",
    " 'Quiet area where CM is able to do homework': 0.004376474353025094,\n",
    " 'EducMotGrid: How often do you try your best at school?': 0.003990826116018533,\n",
    " 'EducMotGrid: How often do you find school interesting?': 0.00564991766181474,\n",
    " 'EducMotGrid: How often do you feel unhappy at school?': 0.11363011021143596,\n",
    " 'EducMotGrid: How often do you get tired at school?': 0.0460727245975754}"
   ]
  },
  {
   "cell_type": "code",
   "execution_count": null,
   "id": "46919442-beb2-4328-b253-26dad9e08aff",
   "metadata": {},
   "outputs": [],
   "source": []
  },
  {
   "cell_type": "markdown",
   "id": "23712b3c-cf53-4ec6-99b1-887f9f285af3",
   "metadata": {},
   "source": [
    "#### Data_4 rows 33:43"
   ]
  },
  {
   "cell_type": "code",
   "execution_count": null,
   "id": "fb116d63-4657-45f1-853a-8bd1d9a48ce1",
   "metadata": {},
   "outputs": [],
   "source": [
    "MacFadden's R-Squared : 0.1437488769950548 "
   ]
  },
  {
   "cell_type": "code",
   "execution_count": null,
   "id": "38807316-85d4-4863-a73b-62185d31b1ba",
   "metadata": {},
   "outputs": [],
   "source": [
    "{'EducMotGrid: How often difficult to keep mind on work at school? [NCDS, BCS]': 0.055539552907281,\n",
    " 'How often does CM misbehave in lessons': 0.006469464330352786,\n",
    " \"Has CM missed school without parents' permission\": 0.00925452562287559,\n",
    " 'Languages used speaking with friends MC (A) [English]': 0.0001966022337037008,\n",
    " 'Languages used speaking with friends MC (A) [Other European language]': 0.0018160608439804229,\n",
    " 'Languages used speaking with friends MC (A) [Other Asian language]': 0.0010957818554027349,\n",
    " 'How close is CM with mother': 0.027243676615014405,\n",
    " 'How close is CM with father': 0.0075242775518976745,\n",
    " 'How often does CM argue with mother': 0.025046899278079147,\n",
    " 'How often does CM argue with father': 0.009562035756467331}"
   ]
  },
  {
   "cell_type": "code",
   "execution_count": null,
   "id": "392e3d7a-b030-4f45-8fe2-b618b0599798",
   "metadata": {},
   "outputs": [],
   "source": []
  },
  {
   "cell_type": "markdown",
   "id": "49afb0a8-1b4d-46c7-b5ec-4be6fc9fc486",
   "metadata": {},
   "source": [
    "#### Data_5 rows 44:54"
   ]
  },
  {
   "cell_type": "code",
   "execution_count": null,
   "id": "58e2a06b-37e8-45f6-9b0f-3a688a105e2f",
   "metadata": {},
   "outputs": [],
   "source": [
    "MacFadden's R-Squared : 0.07580127715226503"
   ]
  },
  {
   "cell_type": "code",
   "execution_count": null,
   "id": "09168317-1c2d-466a-abbf-48336db1b7e7",
   "metadata": {},
   "outputs": [],
   "source": [
    "{'When CM goes out, how often do parents know who with?': 0.01059618257778873,\n",
    " 'When CM goes out, how often do parents know what CM does?': 0.021933605863321055,\n",
    " 'DisciplineGrid: Tell you off or shout at you?': 0.0013968134444332719,\n",
    " 'DisciplineGrid: Ground you, stop you going out or from seeing your friends?': 0.006336653124676609,\n",
    " 'DisciplineGrid: Punish you in some other way?': 0.007344482426866646,\n",
    " 'Does your natural father live with you?': 0.003284250739356763,\n",
    " 'Do you have any close friends? (friends = other young people)': 0.0048820571704097215,\n",
    " 'How many of your close friends go to the same school as you?': 0.0015113636285524119,\n",
    " 'How many of your close friends are boys?': 0.006941465767141788,\n",
    " 'How many of your close friends are girls?': 0.011574402409718031}"
   ]
  },
  {
   "cell_type": "code",
   "execution_count": null,
   "id": "213c2bf3-8aef-476a-ac9e-a4b6dfdccb9d",
   "metadata": {},
   "outputs": [],
   "source": []
  },
  {
   "cell_type": "markdown",
   "id": "ad53fceb-54a2-43af-bd9e-f3d303073e5b",
   "metadata": {},
   "source": [
    "#### Data_6 rows 55:65"
   ]
  },
  {
   "cell_type": "code",
   "execution_count": null,
   "id": "95cc3ded-d99c-44ce-81be-34578d78f9d2",
   "metadata": {},
   "outputs": [],
   "source": [
    "MacFadden's R-Squared : 0.20204506597086702"
   ]
  },
  {
   "cell_type": "code",
   "execution_count": null,
   "id": "3aeed1ea-7739-4ee2-9779-204d7a109142",
   "metadata": {},
   "outputs": [],
   "source": [
    "{'How many of your close friends get into a lot of trouble at school?': 0.005864352408552194,\n",
    " 'What do you do if you are worried about something? (Keep it to myself)': 0.035443703857588604,\n",
    " 'What do you do if you are worried about smthng? (Tell a (boy/girl) friend)': 0.004856107493375962,\n",
    " 'SocSupGrid: I have family and friends who help me feel safe, secure and happy.': 0.0443270665839273,\n",
    " 'SocSupGrid: There is someone I trust whom I would turn to if I had problems': 0.01961094622790944,\n",
    " 'Has CM ever been attracted to a male': 0.06902817355426152,\n",
    " '(last 12 months) has CM held hands with another young person?': 0.0049142877564127534,\n",
    " '(last 12 months) has CM kissed another young person?': 0.008028366181036957,\n",
    " '(last 12 months) has CM cuddled with another young person?': 0.005146381144580592,\n",
    " '(last 12 months) has CM had sexual intercourse with another YP?': 0.004825680763221706}"
   ]
  },
  {
   "cell_type": "code",
   "execution_count": null,
   "id": "0e763dca-0991-4c55-881e-f0e05e30acae",
   "metadata": {},
   "outputs": [],
   "source": []
  },
  {
   "cell_type": "markdown",
   "id": "0d3e64bd-d281-461e-8cbb-02a312118342",
   "metadata": {},
   "source": [
    "#### Data_7 rows 66:76"
   ]
  },
  {
   "cell_type": "code",
   "execution_count": null,
   "id": "99d0f96b-241e-4242-848a-2502b18dc92b",
   "metadata": {},
   "outputs": [],
   "source": [
    "MacFadden's R-Squared : 0.1773509951915876"
   ]
  },
  {
   "cell_type": "code",
   "execution_count": null,
   "id": "f0018c78-b3b9-4915-8fdb-23a29842a1ca",
   "metadata": {},
   "outputs": [],
   "source": [
    "{\"How often CM's friends smoke cigarettes\": 0.01306787753522674,\n",
    " 'Has CM ever had an alcoholic drink': 0.01217986532539005,\n",
    " \"How many of CM's friends drink alcohol\": 0.010295278900299649,\n",
    " 'DruGrid: Cannabis (also known as weed, marijuana, dope, hash or skunk)?': 0.0038429896147320736,\n",
    " \"Do CM's friends take any illegal drugs\": 0.006133003378466721,\n",
    " 'How often brothers or sisters hurt or pick on CM': 0.01016561212119025,\n",
    " 'How often CM hurts or picks on brothers or sisters': 0.00396740131837125,\n",
    " 'How often other children hurt or pick on CM': 0.05475237026079993,\n",
    " 'How often CM hurts or picks on other children': 0.006696798870574855,\n",
    " 'How often other children bullied CM online': 0.05624979786653607}"
   ]
  },
  {
   "cell_type": "code",
   "execution_count": null,
   "id": "12545a0c-822f-4001-9787-824855bae45e",
   "metadata": {},
   "outputs": [],
   "source": []
  },
  {
   "cell_type": "markdown",
   "id": "386ae682-c6c9-4f9e-8f49-457dc6c9c852",
   "metadata": {},
   "source": [
    "#### Data_8 rows 77:87"
   ]
  },
  {
   "cell_type": "code",
   "execution_count": null,
   "id": "bb38484f-bd22-4500-aaf1-1efad7a71e98",
   "metadata": {},
   "outputs": [],
   "source": [
    "MacFadden's R-Squared : 0.1152499236736001"
   ]
  },
  {
   "cell_type": "code",
   "execution_count": null,
   "id": "4d4e76f6-256a-41d8-b0fd-8bdcaf167c1d",
   "metadata": {},
   "outputs": [],
   "source": [
    "{'VictimisGrid: CM insulted, threatened, shouted at': 0.052474424596400546,\n",
    " 'VictimisGrid: been physically violent towards CM': 0.017574421401771706,\n",
    " 'VictimisGrid: hit or used a weapon against CM': 0.006196419016260225,\n",
    " 'VictimisGrid: stolen something from CM': 0.007275902880425918,\n",
    " 'VictimisGrid: sexually assaulted CM': 0.018157418032690904,\n",
    " 'Past month: freq of CM staying out (9pm+) without Parent knowing': 0.005319549807815062,\n",
    " 'ASBOgrid: CM Pushed or shoved/hit/slapped/punched someone?': 0.003494986427608715,\n",
    " 'ASBOgrid: CM stolen something from someone eg mobile phone, money': 0.0012648355089927954,\n",
    " 'Has CM been stopped or questioned by police': 0.0014727542753171132,\n",
    " 'Has CM ever been given a formal warning or caution from police': 0.0020192117263170967}"
   ]
  },
  {
   "cell_type": "code",
   "execution_count": null,
   "id": "f295d301-5c23-4437-a50f-52d5a5ad93bd",
   "metadata": {},
   "outputs": [],
   "source": []
  },
  {
   "cell_type": "markdown",
   "id": "fbd16e73-56e2-40ef-8309-f49ed09ac345",
   "metadata": {},
   "source": [
    "#### Data_9 rows 88:98"
   ]
  },
  {
   "cell_type": "code",
   "execution_count": null,
   "id": "0e0fd08a-557b-42ef-b660-b93ca62fa5b4",
   "metadata": {},
   "outputs": [],
   "source": [
    "\n",
    "MacFadden's R-Squared : 0.17472995005332848"
   ]
  },
  {
   "cell_type": "code",
   "execution_count": null,
   "id": "f84c20d5-3279-4d63-9425-ecee7ece8df0",
   "metadata": {},
   "outputs": [],
   "source": [
    "{\"CM's general level of health\": 0.02398784141987769,\n",
    " 'Does CM wear glasses or contact lenses': 0.004308641916520006,\n",
    " 'Does CM have difficulty seeing': 0.006354335594476628,\n",
    " 'Does CM have difficulty hearing': 0.0029541398075795923,\n",
    " 'Has CM been to a dentist in last 12 months': 0.0004273498146774257,\n",
    " 'Time CM goes to sleep on a school night': 0.021624843023621953,\n",
    " 'Time CM wakes up on a school day': 0.004668177424549969,\n",
    " 'During the last 4 weeks how long does going to sleep usually take': 0.032272936854537276,\n",
    " 'During the last 4 weeks how often did CM awaken during sleep': 0.06027409260467996,\n",
    " \"CM's perception of their weight\": 0.017857591592807965}"
   ]
  },
  {
   "cell_type": "code",
   "execution_count": null,
   "id": "492c1383-9124-4c1e-8b6b-08ea52cc3218",
   "metadata": {},
   "outputs": [],
   "source": []
  },
  {
   "cell_type": "markdown",
   "id": "6824b422-6ba7-473b-91be-581eb9cf5c6d",
   "metadata": {},
   "source": [
    "#### Data_10 rows 99:109"
   ]
  },
  {
   "cell_type": "code",
   "execution_count": null,
   "id": "baab599d-615f-4f0b-926c-11e3ad635b97",
   "metadata": {},
   "outputs": [],
   "source": [
    "MacFadden's R-Squared : 0.33902341494135846"
   ]
  },
  {
   "cell_type": "code",
   "execution_count": null,
   "id": "a390ef9c-1aa5-4efb-9680-39fd8f87a85d",
   "metadata": {},
   "outputs": [],
   "source": [
    "{'Has CM ever eaten less to lose weight': 0.025893233940011917,\n",
    " 'CM skin changes eg spots': 0.003942665775571028,\n",
    " 'WellbeingGrid: How happy is CM with school work': 0.018410922935670187,\n",
    " 'WellbeingGrid: How happy is CM with the way they look': 0.046123698031796216,\n",
    " 'WellbeingGrid: How happy is CM with family': 0.024760805981789168,\n",
    " 'WellbeingGrid: How happy is CM with friends': 0.014999659311146408,\n",
    " 'WellbeingGrid: How happy is CM with life as a whole': 0.07624380495330764,\n",
    " 'RosenbergGrid: On the whole, I am satisfied with myself': 0.06537319999053978,\n",
    " 'RosenbergGrid: I feel I have a number of good qualities': 0.03915789163086573,\n",
    " 'RosenbergGrid: I am able to do things as well as most other people': 0.024117532390660383}"
   ]
  },
  {
   "cell_type": "code",
   "execution_count": null,
   "id": "e7853437-631e-467e-98dd-a762b312ebeb",
   "metadata": {},
   "outputs": [],
   "source": []
  },
  {
   "cell_type": "markdown",
   "id": "56bfbbd9-1032-4f42-b94d-2451a5eb60c6",
   "metadata": {},
   "source": [
    "#### Data_11 rows 110:117"
   ]
  },
  {
   "cell_type": "code",
   "execution_count": null,
   "id": "55f9f794-e313-4f57-885e-5b167e2b0470",
   "metadata": {},
   "outputs": [],
   "source": [
    "MacFadden's R-Squared : 0.35711557568372376"
   ]
  },
  {
   "cell_type": "code",
   "execution_count": null,
   "id": "4967a621-a84e-4339-9049-b71b00fe4bb9",
   "metadata": {},
   "outputs": [],
   "source": [
    "{'RosenbergGrid: I feel good about myself': 0.16831059383314248,\n",
    " 'In the past year has CM self-harmed': 0.1107507012851633,\n",
    " 'How willing is CM to take risks': 0.005631693250314423,\n",
    " 'How patient is CM': 0.006162065302085666,\n",
    " 'How much does CM trust others': 0.046344486080707896,\n",
    " 'CM Sex_2': 0.019847594706090124,\n",
    " 'Respondent s religion (A) [England]_7': 6.844122621984184e-05}"
   ]
  },
  {
   "cell_type": "code",
   "execution_count": null,
   "id": "3073d351-2443-499c-8ac6-5baf3ac5b507",
   "metadata": {},
   "outputs": [],
   "source": []
  },
  {
   "cell_type": "code",
   "execution_count": 2,
   "id": "047a736a-0731-45fa-ad0e-40032aea7263",
   "metadata": {},
   "outputs": [],
   "source": [
    "# pseudo R-square of every batch\n",
    "\n",
    "Data_1 = 0.07457525533288245\n",
    "Data_2 = 0.04196656325504522\n",
    "Data_3 = 0.19882624432205442\n",
    "Data_4 = 0.1437488769950548\n",
    "Data_5 = 0.07580127715226503\n",
    "Data_6 = 0.20204506597086702\n",
    "Data_7 = 0.1773509951915876\n",
    "Data_8 = 0.1152499236736001\n",
    "Data_9 = 0.17472995005332848\n",
    "Data_10 = 0.33902341494135846\n",
    "Data_11 = 0.35711557568372376"
   ]
  },
  {
   "cell_type": "code",
   "execution_count": 3,
   "id": "298262a0-1b10-4cc5-8457-ccbbc02f8814",
   "metadata": {},
   "outputs": [],
   "source": [
    "rm_features_2 = [\n",
    "'How willing is CM to take risks',\n",
    "'How patient is CM',\n",
    "'CM skin changes eg spots',\n",
    "'Does CM wear glasses or contact lenses',\n",
    "'Does CM have difficulty seeing',\n",
    "'Does CM have difficulty hearing',\n",
    "'Has CM been to a dentist in last 12 months',\n",
    "'Time CM wakes up on a school day',\n",
    "'VictimisGrid: hit or used a weapon against CM',\n",
    "'VictimisGrid: stolen something from CM',\n",
    "'Past month: freq of CM staying out (9pm+) without Parent knowing',\n",
    "'ASBOgrid: CM Pushed or shoved/hit/slapped/punched someone?',\n",
    "'ASBOgrid: CM stolen something from someone eg mobile phone, money',\n",
    "'Has CM been stopped or questioned by police',\n",
    "'Has CM ever been given a formal warning or caution from police',\n",
    "'DruGrid: Cannabis (also known as weed, marijuana, dope, hash or skunk)?',\n",
    "\"Do CM's friends take any illegal drugs\",\n",
    "'How often CM hurts or picks on brothers or sisters',\n",
    "'How often CM hurts or picks on other children',\n",
    "'How many of your close friends get into a lot of trouble at school?',\n",
    "'What do you do if you are worried about smthng? (Tell a (boy/girl) friend)',\n",
    "'(last 12 months) has CM held hands with another young person?',\n",
    "'(last 12 months) has CM kissed another young person?',\n",
    "'(last 12 months) has CM cuddled with another young person?',\n",
    "'(last 12 months) has CM had sexual intercourse with another YP?',\n",
    "'DisciplineGrid: Tell you off or shout at you?',\n",
    "'DisciplineGrid: Ground you, stop you going out or from seeing your friends?',\n",
    "'DisciplineGrid: Punish you in some other way?',\n",
    "'Does your natural father live with you?',\n",
    "'Do you have any close friends? (friends = other young people)',\n",
    "'How many of your close friends go to the same school as you?',\n",
    "'How many of your close friends are boys?',\n",
    "'How often does CM misbehave in lessons',\n",
    "\"Has CM missed school without parents' permission\",\n",
    "'Languages used speaking with friends MC (A) [English]',\n",
    "'Languages used speaking with friends MC (A) [Other European language]',\n",
    "'Languages used speaking with friends MC (A) [Other Asian language]',\n",
    "'How close is CM with father',\n",
    "'How often does CM argue with father',\n",
    "'AcademicSelfConceptGrid: I am good at Science',\n",
    "'Who decided next year subjects (You, yourself)',\n",
    "'typical week term-time, how long cm spends doing homework?',\n",
    "\"How often does anyone at home help with CM's homework\",\n",
    "'Quiet area where CM is able to do homework',\n",
    "'EducMotGrid: How often do you try your best at school?',\n",
    "'EducMotGrid: How often do you find school interesting?',\n",
    "'Area safety: safe for CM to walk/play etc within a mile/20 min from home',\n",
    "'Do you allow unsupervised time outside home with frds (on weekends)',\n",
    "'Where CM gets spending money from MC (A) [From selling items]',\n",
    "\"ConsumAttGrid: It bothers me if my friends have things I don't\",\n",
    "'MoralAttGrid: How important is it to you to work hard?',\n",
    "'Wrong to start a fight',\n",
    "'Wrong to take things without paying',\n",
    "'Wrong to download music/films/games without paying',\n",
    "'AcademicSelfConceptGrid: I am good at English',\n",
    "'CM Age last birthday',\n",
    "'Height in centimeters',\n",
    "'Weight in kilos',\n",
    "'ActivGrid: Go to watch live sport?',\n",
    "'ActivGrid: Sing in a choir or play in a band or orchestra?',\n",
    "'ActivGrid: Attend a religious service?',\n",
    "'Days last week spent doing moderate to vigorous physical activity',\n",
    "'Hours per WEEKDAY spent watching TV or videos on computer',\n",
    "]"
   ]
  },
  {
   "cell_type": "code",
   "execution_count": 13,
   "id": "74a6bf97-1ed2-41bd-8c4d-72a1c6a57e7e",
   "metadata": {},
   "outputs": [],
   "source": [
    "df = pd.DataFrame(rm_features_2,columns=['removed_features'])\n",
    "filename = 'second_63_discarded_features.txt'\n",
    "df.to_csv(filename,index=False,sep='\\t')"
   ]
  },
  {
   "cell_type": "code",
   "execution_count": 5,
   "id": "aafbf132-5c17-495b-a8fc-39a016e97678",
   "metadata": {},
   "outputs": [],
   "source": [
    "import numpy as np \n",
    "import pandas as pd \n",
    "import pickle\n",
    "import os\n",
    "import pathlib\n",
    "\n",
    "import re"
   ]
  },
  {
   "cell_type": "code",
   "execution_count": 6,
   "id": "24334cb2-0405-45b7-9c9c-2a5fa3b0fcc5",
   "metadata": {},
   "outputs": [],
   "source": [
    "# Removing the second round of features after the second DA \n",
    "\n",
    "notebook_dir = pathlib.Path().resolve()\n",
    "filepath_X = os.path.join(notebook_dir,'./pipeline/datasets/X_processed_names_1_DA.csv')\n",
    "\n",
    "\n",
    "data = pd.read_csv(filepath_X)"
   ]
  },
  {
   "cell_type": "code",
   "execution_count": 8,
   "id": "9f82bf04-4dd2-4711-af5c-312217d01afb",
   "metadata": {},
   "outputs": [],
   "source": [
    "data.drop(columns=rm_features_2, inplace=True)"
   ]
  },
  {
   "cell_type": "code",
   "execution_count": 9,
   "id": "fef404d3-868a-4526-9b6b-682a50a271d7",
   "metadata": {},
   "outputs": [
    {
     "data": {
      "text/plain": [
       "(11859, 54)"
      ]
     },
     "execution_count": 9,
     "metadata": {},
     "output_type": "execute_result"
    }
   ],
   "source": [
    "data.shape"
   ]
  },
  {
   "cell_type": "code",
   "execution_count": 10,
   "id": "ef0d39c2-2afc-4282-9e53-df968f9cbe4a",
   "metadata": {},
   "outputs": [],
   "source": [
    "# Saving X_processed_names without the features from the second DA\n",
    "\n",
    "path = './pipeline/datasets/X_processed_names_2_DA.csv'\n",
    "\n",
    "data.to_csv(path, index=False)"
   ]
  },
  {
   "cell_type": "code",
   "execution_count": 11,
   "id": "70883a89-a0c5-4344-b79c-2fd2b5160a83",
   "metadata": {},
   "outputs": [
    {
     "data": {
      "text/plain": [
       "63"
      ]
     },
     "execution_count": 11,
     "metadata": {},
     "output_type": "execute_result"
    }
   ],
   "source": [
    "117 - 54"
   ]
  },
  {
   "cell_type": "code",
   "execution_count": null,
   "id": "0ca600c0-f670-4a68-8082-d30bb0efafec",
   "metadata": {},
   "outputs": [],
   "source": []
  }
 ],
 "metadata": {
  "kernelspec": {
   "display_name": "Python 3 (ipykernel)",
   "language": "python",
   "name": "python3"
  },
  "language_info": {
   "codemirror_mode": {
    "name": "ipython",
    "version": 3
   },
   "file_extension": ".py",
   "mimetype": "text/x-python",
   "name": "python",
   "nbconvert_exporter": "python",
   "pygments_lexer": "ipython3",
   "version": "3.10.6"
  }
 },
 "nbformat": 4,
 "nbformat_minor": 5
}
