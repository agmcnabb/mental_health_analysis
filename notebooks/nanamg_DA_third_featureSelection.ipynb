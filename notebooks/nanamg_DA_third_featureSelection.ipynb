{
 "cells": [
  {
   "cell_type": "markdown",
   "id": "c02a3b04-6101-46bb-8b47-5842269f84e6",
   "metadata": {},
   "source": [
    "### Third sweep to remove features out of the first DA analysis"
   ]
  },
  {
   "cell_type": "markdown",
   "id": "8f9387bc-e8ba-4a5a-9d02-df039afb83f8",
   "metadata": {},
   "source": [
    "#### Data_1 rows 0:10"
   ]
  },
  {
   "cell_type": "code",
   "execution_count": null,
   "id": "9638ad97-f994-413c-911b-f2af52da0481",
   "metadata": {},
   "outputs": [],
   "source": [
    "MacFadden's R-Squared : 0.23413174292468597 "
   ]
  },
  {
   "cell_type": "code",
   "execution_count": null,
   "id": "8550cfbf-d7e3-4865-859e-6bd4b4af8e97",
   "metadata": {},
   "outputs": [],
   "source": [
    "{'Body fat percentage': 0.014752484513147937,\n",
    " 'Does CM ever use the internet at home': 0.012182430291612206,\n",
    " 'Hours per week spent on social networking sites': 0.016514860852330945,\n",
    " 'Wrong to write or spray paint on building/fence etc': 0.005295333715561964,\n",
    " 'AcademicSelfConceptGrid: I am good at Maths': 0.0059166626223227225,\n",
    " 'AcademicSelfConceptGrid: I am good at PE': 0.009894083540054893,\n",
    " 'EducMotGrid: How often do you feel unhappy at school?': 0.0972194437354934,\n",
    " 'EducMotGrid: How often do you get tired at school?': 0.03172231840152477,\n",
    " 'EducMotGrid: How often do you feel school is a waste of time?': 0.010417470106069021,\n",
    " 'EducMotGrid: How often difficult to keep mind on work at school? [NCDS, BCS]': 0.030216655146568107}"
   ]
  },
  {
   "cell_type": "code",
   "execution_count": null,
   "id": "825cf669-adac-4707-8e42-36a3e9275895",
   "metadata": {},
   "outputs": [],
   "source": []
  },
  {
   "cell_type": "markdown",
   "id": "c1cec439-e309-46c1-86e4-934bbfa4eae6",
   "metadata": {},
   "source": [
    "#### Data_2 rows 11:21"
   ]
  },
  {
   "cell_type": "code",
   "execution_count": null,
   "id": "d48a9d96-eb39-4f4e-b279-0ac0ec0091c9",
   "metadata": {},
   "outputs": [],
   "source": [
    "MacFadden's R-Squared : 0.19879138262755225"
   ]
  },
  {
   "cell_type": "code",
   "execution_count": null,
   "id": "26aec0e9-1a8a-43f6-94e1-e61b4b5fda6e",
   "metadata": {},
   "outputs": [],
   "source": [
    "{'How often does CM argue with mother': 0.026860688089145213,\n",
    " 'When CM goes out, how often do parents know where?': 0.004792947840941473,\n",
    " 'When CM goes out, how often do parents know who with?': 0.004823979685922161,\n",
    " 'When CM goes out, how often do parents know what CM does?': 0.010465496726076582,\n",
    " 'How many of your close friends are girls?': 0.00876269926422099,\n",
    " 'How many of your close friends work hard at school?': 0.002610386917776226,\n",
    " 'What do you do if you are worried about something? (Keep it to myself)': 0.02623797985127798,\n",
    " 'SocSupGrid: I have family and friends who help me feel safe, secure and happy.': 0.0379776443373649,\n",
    " 'SocSupGrid: There is someone I trust whom I would turn to if I had problems': 0.01603480458890856,\n",
    " 'Has CM ever been attracted to a male': 0.060224755325918165}"
   ]
  },
  {
   "cell_type": "code",
   "execution_count": null,
   "id": "c34b5e1b-4949-48a2-a52b-53d44c3e953a",
   "metadata": {},
   "outputs": [],
   "source": []
  },
  {
   "cell_type": "markdown",
   "id": "d39e0661-4a25-4c5c-b798-aefd86006ce0",
   "metadata": {},
   "source": [
    "#### Data_3 rows 22:32"
   ]
  },
  {
   "cell_type": "code",
   "execution_count": null,
   "id": "3f7aa3d6-b8ee-430f-ae41-58a1c7984374",
   "metadata": {},
   "outputs": [],
   "source": [
    "MacFadden's R-Squared : 0.19110513901970194"
   ]
  },
  {
   "cell_type": "code",
   "execution_count": null,
   "id": "663abff4-305e-463f-9e8d-c049be233cde",
   "metadata": {},
   "outputs": [],
   "source": [
    "{\"How often CM's friends smoke cigarettes\": 0.01375544427381432,\n",
    " 'Has CM ever had an alcoholic drink': 0.01101426470655462,\n",
    " \"How many of CM's friends drink alcohol\": 0.009983100612136503,\n",
    " 'How often brothers or sisters hurt or pick on CM': 0.010237245867764791,\n",
    " 'How often other children hurt or pick on CM': 0.042516495112503695,\n",
    " 'How often other children bullied CM online': 0.044965499957581714,\n",
    " 'How often CM bullied other children online': 0.0075605865914196105,\n",
    " 'VictimisGrid: CM insulted, threatened, shouted at': 0.027370561706327852,\n",
    " 'VictimisGrid: been physically violent towards CM': 0.010858449876754932,\n",
    " 'VictimisGrid: sexually assaulted CM': 0.01284349031484391}"
   ]
  },
  {
   "cell_type": "code",
   "execution_count": null,
   "id": "d225dd5a-df5e-4847-ba4f-9a37fb633854",
   "metadata": {},
   "outputs": [],
   "source": []
  },
  {
   "cell_type": "markdown",
   "id": "1c04b8ad-269b-4254-a7f2-55b55f0ecfda",
   "metadata": {},
   "source": [
    "#### Data_4 rows 33:43"
   ]
  },
  {
   "cell_type": "code",
   "execution_count": null,
   "id": "353d1ef1-3a55-49a5-96bb-f9f24c05d061",
   "metadata": {},
   "outputs": [],
   "source": [
    "MacFadden's R-Squared : 0.2992895690509024"
   ]
  },
  {
   "cell_type": "code",
   "execution_count": null,
   "id": "bee98218-0663-45ed-affc-126343041c70",
   "metadata": {},
   "outputs": [],
   "source": [
    "{\"CM's general level of health\": 0.011938484163425198,\n",
    " 'Time CM goes to sleep on a school night': 0.012409889567183897,\n",
    " 'During the last 4 weeks how long does going to sleep usually take': 0.02343934374244928,\n",
    " 'During the last 4 weeks how often did CM awaken during sleep': 0.04305390585998865,\n",
    " \"CM's perception of their weight\": 0.007703871918762481,\n",
    " 'Has CM ever exercised to lose weight': 0.0057289588498544665,\n",
    " 'Has CM ever eaten less to lose weight': 0.027980861714318996,\n",
    " 'WellbeingGrid: How happy is CM with school work': 0.03024182922809245,\n",
    " 'WellbeingGrid: How happy is CM with the way they look': 0.09125794899896959,\n",
    " 'WellbeingGrid: How happy is CM with family': 0.045534475007857414}"
   ]
  },
  {
   "cell_type": "code",
   "execution_count": null,
   "id": "f7c21aa9-1692-48b0-b6c6-0acb0cb4bf08",
   "metadata": {},
   "outputs": [],
   "source": []
  },
  {
   "cell_type": "markdown",
   "id": "88c94af9-fbd4-427a-9189-33dc358c5e6d",
   "metadata": {},
   "source": [
    "#### Data_5 rows 44:54"
   ]
  },
  {
   "cell_type": "code",
   "execution_count": null,
   "id": "b4dfb553-1f1b-4d10-886d-33881a8d95d5",
   "metadata": {},
   "outputs": [],
   "source": [
    "MacFadden's R-Squared : 0.3953466769639091"
   ]
  },
  {
   "cell_type": "code",
   "execution_count": null,
   "id": "334dc988-82fd-485c-b58e-0c95aad6bbd6",
   "metadata": {},
   "outputs": [],
   "source": [
    "{'WellbeingGrid: How happy is CM with life as a whole': 0.08334716183368933,\n",
    " 'RosenbergGrid: On the whole, I am satisfied with myself': 0.049633556623200924,\n",
    " 'RosenbergGrid: I feel I have a number of good qualities': 0.029790383810114396,\n",
    " 'RosenbergGrid: I am able to do things as well as most other people': 0.018641601571702058,\n",
    " 'RosenbergGrid: I am a person of value': 0.02841074797698026,\n",
    " 'RosenbergGrid: I feel good about myself': 0.0701195400715568,\n",
    " 'In the past year has CM self-harmed': 0.07738399627955814,\n",
    " 'How much does CM trust others': 0.02636126687779421,\n",
    " 'CM Sex_2': 0.011626561179880993,\n",
    " 'Respondent s religion (A) [England]_7': 3.186073943201875e-05}"
   ]
  },
  {
   "cell_type": "code",
   "execution_count": 1,
   "id": "1b47976b-5cce-4569-ba20-75a0e2e1a685",
   "metadata": {},
   "outputs": [],
   "source": [
    "# pseudo R-square of every batch\n",
    "\n",
    "Data_1 = 0.23413174292468597\n",
    "Data_2 = 0.19879138262755225\n",
    "Data_3 = 0.19110513901970194\n",
    "Data_4 = 0.2992895690509024\n",
    "Data_5 = 0.3953466769639091\n"
   ]
  },
  {
   "cell_type": "code",
   "execution_count": null,
   "id": "d8a284b7-7629-4dee-b01c-355710469246",
   "metadata": {},
   "outputs": [],
   "source": [
    "\n",
    " "
   ]
  },
  {
   "cell_type": "code",
   "execution_count": 1,
   "id": "857f6104-c336-4fd3-bfbc-466f2f835159",
   "metadata": {},
   "outputs": [],
   "source": [
    "rm_features_3 = [\n",
    "'Respondent s religion (A) [England]_7',\n",
    "'Has CM ever exercised to lose weight',\n",
    "\"CM's perception of their weight\",\n",
    "'How often CM bullied other children online',\n",
    "\"How many of CM's friends drink alcohol\",\n",
    "'How many of your close friends are girls?',\n",
    "'How many of your close friends work hard at school?',\n",
    "'When CM goes out, how often do parents know where?',\n",
    "'When CM goes out, how often do parents know who with?',\n",
    "'Wrong to write or spray paint on building/fence etc',\n",
    "'AcademicSelfConceptGrid: I am good at Maths',\n",
    "'AcademicSelfConceptGrid: I am good at PE',\n",
    "'Body fat percentage',\n",
    "'Does CM ever use the internet at home',\n",
    "'Hours per week spent on social networking sites',\n",
    "'EducMotGrid: How often do you feel school is a waste of time?',\n",
    "'How often does CM argue with mother',\n",
    "'When CM goes out, how often do parents know what CM does?',\n",
    "'What do you do if you are worried about something? (Keep it to myself)',\n",
    "'SocSupGrid: There is someone I trust whom I would turn to if I had problems',\n",
    "\"How often CM's friends smoke cigarettes\",\n",
    "'Has CM ever had an alcoholic drink',\n",
    "'How often brothers or sisters hurt or pick on CM',\n",
    "'VictimisGrid: CM insulted, threatened, shouted at',\n",
    "'VictimisGrid: been physically violent towards CM',\n",
    "'VictimisGrid: sexually assaulted CM',\n",
    "\"CM's general level of health\",\n",
    "'Time CM goes to sleep on a school night',\n",
    "'During the last 4 weeks how long does going to sleep usually take',\n",
    "'Has CM ever eaten less to lose weight',\n",
    "'RosenbergGrid: I feel I have a number of good qualities',\n",
    "'RosenbergGrid: I am able to do things as well as most other people',\n",
    "'RosenbergGrid: I am a person of value',\n",
    "'How much does CM trust others',\n",
    "'CM Sex_2',\n",
    "'How close is CM with mother',\n",
    "'How often CM eats at least 2 portions of fruit',\n",
    "'How often CM smokes e-cigarettes',\n",
    "\n",
    "]"
   ]
  },
  {
   "cell_type": "code",
   "execution_count": 2,
   "id": "5af6d7cb-46ca-4679-9fc2-07956d6019a3",
   "metadata": {},
   "outputs": [],
   "source": [
    "keep_features = [\n",
    "\n",
    "'EducMotGrid: How often do you feel unhappy at school?',\n",
    "'WellbeingGrid: How happy is CM with the way they look',\n",
    "'WellbeingGrid: How happy is CM with life as a whole',\n",
    "'RosenbergGrid: I feel good about myself',\n",
    "'In the past year has CM self-harmed',\n",
    "'Has CM ever been attracted to a male',\n",
    "'WellbeingGrid: How happy is CM with family',\n",
    "'During the last 4 weeks how often did CM awaken during sleep',\n",
    "'RosenbergGrid: On the whole, I am satisfied with myself',\n",
    "'How often other children hurt or pick on CM', \n",
    "'How often other children bullied CM online',\n",
    "'WellbeingGrid: How happy is CM with school work',\n",
    "'WellbeingGrid: How happy is CM with friends',\n",
    "'SocSupGrid: I have family and friends who help me feel safe, secure and happy.',\n",
    "'EducMotGrid: How often difficult to keep mind on work at school? [NCDS, BCS]',\n",
    "'EducMotGrid: How often do you get tired at school?'\n",
    "    \n",
    "]"
   ]
  },
  {
   "cell_type": "code",
   "execution_count": 12,
   "id": "93acb67d-8d20-4459-b264-6f7ad58165d9",
   "metadata": {},
   "outputs": [],
   "source": [
    "df = pd.DataFrame(rm_features_3,columns=['removed_features'])\n",
    "filename = 'third_38_discarded_features.txt'\n",
    "df.to_csv(filename,index=False,sep='\\t')"
   ]
  },
  {
   "cell_type": "code",
   "execution_count": 3,
   "id": "2c9da26e-54e4-4a70-b851-0348c2341138",
   "metadata": {},
   "outputs": [],
   "source": [
    "import numpy as np \n",
    "import pandas as pd \n",
    "import pickle\n",
    "import os\n",
    "import pathlib\n",
    "\n",
    "import re"
   ]
  },
  {
   "cell_type": "code",
   "execution_count": 4,
   "id": "a19ae638-03cf-4eab-9499-60183f754767",
   "metadata": {},
   "outputs": [],
   "source": [
    "# Removing the third round of features after the second DA \n",
    "\n",
    "notebook_dir = pathlib.Path().resolve()\n",
    "filepath_X = os.path.join(notebook_dir,'./pipeline/datasets/X_processed_names_2_DA.csv')\n",
    "\n",
    "\n",
    "data = pd.read_csv(filepath_X)"
   ]
  },
  {
   "cell_type": "code",
   "execution_count": 5,
   "id": "219a2e5c-3494-4282-9b4f-1c3aef602b65",
   "metadata": {},
   "outputs": [
    {
     "data": {
      "text/plain": [
       "(11859, 54)"
      ]
     },
     "execution_count": 5,
     "metadata": {},
     "output_type": "execute_result"
    }
   ],
   "source": [
    "data.shape"
   ]
  },
  {
   "cell_type": "code",
   "execution_count": 6,
   "id": "838d794e-a19a-4fe3-8771-ad18ebba1c62",
   "metadata": {},
   "outputs": [],
   "source": [
    "data.drop(columns=rm_features_3, inplace=True)"
   ]
  },
  {
   "cell_type": "code",
   "execution_count": 7,
   "id": "1b4ee576-0522-4ab4-8922-4b3f974f387c",
   "metadata": {},
   "outputs": [
    {
     "data": {
      "text/plain": [
       "(11859, 16)"
      ]
     },
     "execution_count": 7,
     "metadata": {},
     "output_type": "execute_result"
    }
   ],
   "source": [
    "data.shape"
   ]
  },
  {
   "cell_type": "code",
   "execution_count": 13,
   "id": "957e41c9-327a-46c9-a772-31153b151a6e",
   "metadata": {},
   "outputs": [],
   "source": [
    "#data_columns = data.columns.tolist()"
   ]
  },
  {
   "cell_type": "code",
   "execution_count": 14,
   "id": "267e25d9-eef3-4180-a44f-88a88c8f1e15",
   "metadata": {},
   "outputs": [
    {
     "data": {
      "text/plain": [
       "{'How close is CM with mother',\n",
       " 'How often CM eats at least 2 portions of fruit',\n",
       " 'How often CM smokes e-cigarettes',\n",
       " 'WellbeingGrid: How happy is CM with friends'}"
      ]
     },
     "execution_count": 14,
     "metadata": {},
     "output_type": "execute_result"
    }
   ],
   "source": [
    "#differences = set(data_columns) ^ set(keep_features)\n",
    "#differences"
   ]
  },
  {
   "cell_type": "code",
   "execution_count": null,
   "id": "987faaca-4e12-4331-8dce-ffe0583bcd20",
   "metadata": {},
   "outputs": [],
   "source": []
  },
  {
   "cell_type": "code",
   "execution_count": null,
   "id": "4e2798c8-054d-4366-a6c5-ec84056c34f6",
   "metadata": {},
   "outputs": [],
   "source": []
  },
  {
   "cell_type": "code",
   "execution_count": 8,
   "id": "a4d66bcb-7a23-4976-9ec9-d3a8a67d988f",
   "metadata": {},
   "outputs": [],
   "source": [
    "# Saving X_processed_names without the features from the third DA\n",
    "\n",
    "path = './pipeline/datasets/X_processed_names_final_DA.csv'\n",
    "\n",
    "data.to_csv(path, index=False)"
   ]
  },
  {
   "cell_type": "code",
   "execution_count": 11,
   "id": "ae6d13b7-604e-4b5e-bf3e-e4b7eac5e0d4",
   "metadata": {},
   "outputs": [
    {
     "data": {
      "text/plain": [
       "38"
      ]
     },
     "execution_count": 11,
     "metadata": {},
     "output_type": "execute_result"
    }
   ],
   "source": [
    "54 - 16"
   ]
  },
  {
   "cell_type": "code",
   "execution_count": null,
   "id": "1ab838ac-4bac-4e42-a811-25656b294eb2",
   "metadata": {},
   "outputs": [],
   "source": []
  }
 ],
 "metadata": {
  "kernelspec": {
   "display_name": "Python 3 (ipykernel)",
   "language": "python",
   "name": "python3"
  },
  "language_info": {
   "codemirror_mode": {
    "name": "ipython",
    "version": 3
   },
   "file_extension": ".py",
   "mimetype": "text/x-python",
   "name": "python",
   "nbconvert_exporter": "python",
   "pygments_lexer": "ipython3",
   "version": "3.10.6"
  }
 },
 "nbformat": 4,
 "nbformat_minor": 5
}
