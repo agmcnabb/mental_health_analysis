{
 "cells": [
  {
   "cell_type": "markdown",
   "id": "60be0e6b-c2c4-48cd-b7c6-5d7871680833",
   "metadata": {},
   "source": [
    "## Loading data"
   ]
  },
  {
   "cell_type": "code",
   "execution_count": 2,
   "id": "95cb2cc3-09c5-40d7-ad8e-05c52ba8d2cd",
   "metadata": {},
   "outputs": [],
   "source": [
    "import pandas as pd\n",
    "import os\n",
    "import pathlib"
   ]
  },
  {
   "cell_type": "markdown",
   "id": "72302b19-51c7-49df-b1ac-c8e8ef368259",
   "metadata": {},
   "source": [
    "### Sweep 1"
   ]
  },
  {
   "cell_type": "markdown",
   "id": "543e6aab-d3a2-4617-b585-684560552f41",
   "metadata": {},
   "source": [
    "#### cm_interview"
   ]
  },
  {
   "cell_type": "code",
   "execution_count": 4,
   "id": "93c6e8a2-cfad-459e-b7bc-3a09c095d5b4",
   "metadata": {},
   "outputs": [],
   "source": [
    "# relative path to data_raw\n",
    "notebook_dir = pathlib.Path().resolve()"
   ]
  },
  {
   "cell_type": "code",
   "execution_count": null,
   "id": "8e4928a4-d9fd-4117-bc0c-b735fb71b2dd",
   "metadata": {},
   "outputs": [],
   "source": [
    "raw_data_path_interview_1 = os.path.join(notebook_dir,'../raw_data/sweep_1/UKDA-4683-tab/tab/mcs1_cm_interview.tab')\n",
    "data_i1 = pd.read_csv(raw_data_path_interview_1, sep='\\t')"
   ]
  },
  {
   "cell_type": "code",
   "execution_count": 29,
   "id": "696db9f1-134a-4321-b11f-e43ebe33dd91",
   "metadata": {},
   "outputs": [
    {
     "data": {
      "text/plain": [
       "(18786, 4)"
      ]
     },
     "metadata": {},
     "output_type": "display_data"
    },
    {
     "data": {
      "text/html": [
       "<div>\n",
       "<style scoped>\n",
       "    .dataframe tbody tr th:only-of-type {\n",
       "        vertical-align: middle;\n",
       "    }\n",
       "\n",
       "    .dataframe tbody tr th {\n",
       "        vertical-align: top;\n",
       "    }\n",
       "\n",
       "    .dataframe thead th {\n",
       "        text-align: right;\n",
       "    }\n",
       "</style>\n",
       "<table border=\"1\" class=\"dataframe\">\n",
       "  <thead>\n",
       "    <tr style=\"text-align: right;\">\n",
       "      <th></th>\n",
       "      <th>MCSID</th>\n",
       "      <th>ACNUM00</th>\n",
       "      <th>ACMCBCODE_22</th>\n",
       "      <th>ACFCBCODE_22</th>\n",
       "    </tr>\n",
       "  </thead>\n",
       "  <tbody>\n",
       "    <tr>\n",
       "      <th>0</th>\n",
       "      <td>M10001N</td>\n",
       "      <td>1</td>\n",
       "      <td>XW</td>\n",
       "      <td></td>\n",
       "    </tr>\n",
       "    <tr>\n",
       "      <th>1</th>\n",
       "      <td>M10002P</td>\n",
       "      <td>1</td>\n",
       "      <td></td>\n",
       "      <td></td>\n",
       "    </tr>\n",
       "    <tr>\n",
       "      <th>2</th>\n",
       "      <td>M10007U</td>\n",
       "      <td>1</td>\n",
       "      <td>XW</td>\n",
       "      <td></td>\n",
       "    </tr>\n",
       "    <tr>\n",
       "      <th>3</th>\n",
       "      <td>M10008V</td>\n",
       "      <td>1</td>\n",
       "      <td>XE</td>\n",
       "      <td></td>\n",
       "    </tr>\n",
       "    <tr>\n",
       "      <th>4</th>\n",
       "      <td>M10008V</td>\n",
       "      <td>2</td>\n",
       "      <td>XE</td>\n",
       "      <td></td>\n",
       "    </tr>\n",
       "  </tbody>\n",
       "</table>\n",
       "</div>"
      ],
      "text/plain": [
       "     MCSID  ACNUM00 ACMCBCODE_22 ACFCBCODE_22\n",
       "0  M10001N        1           XW             \n",
       "1  M10002P        1                          \n",
       "2  M10007U        1           XW             \n",
       "3  M10008V        1           XE             \n",
       "4  M10008V        2           XE             "
      ]
     },
     "execution_count": 29,
     "metadata": {},
     "output_type": "execute_result"
    }
   ],
   "source": [
    "display(data_i1.shape)\n",
    "data_i1.head()"
   ]
  },
  {
   "cell_type": "markdown",
   "id": "80be946d-c8af-447f-a87f-c09385ded8fd",
   "metadata": {},
   "source": [
    "### family_interview"
   ]
  },
  {
   "cell_type": "code",
   "execution_count": 30,
   "id": "fc03d3ae-4c82-4c59-81c8-066163d868bd",
   "metadata": {},
   "outputs": [],
   "source": [
    "raw_data_path_family_1 = os.path.join(notebook_dir,'../raw_data/sweep_1/UKDA-4683-tab/tab/mcs1_family_interview.tab')\n",
    "data_f1 = pd.read_csv(raw_data_path_family_1, sep='\\t')"
   ]
  },
  {
   "cell_type": "code",
   "execution_count": 31,
   "id": "7d41d424-856d-48b8-9cf2-9a6aaa9e366e",
   "metadata": {},
   "outputs": [
    {
     "data": {
      "text/plain": [
       "(18539, 23)"
      ]
     },
     "metadata": {},
     "output_type": "display_data"
    },
    {
     "data": {
      "text/html": [
       "<div>\n",
       "<style scoped>\n",
       "    .dataframe tbody tr th:only-of-type {\n",
       "        vertical-align: middle;\n",
       "    }\n",
       "\n",
       "    .dataframe tbody tr th {\n",
       "        vertical-align: top;\n",
       "    }\n",
       "\n",
       "    .dataframe thead th {\n",
       "        text-align: right;\n",
       "    }\n",
       "</style>\n",
       "<table border=\"1\" class=\"dataframe\">\n",
       "  <thead>\n",
       "    <tr style=\"text-align: right;\">\n",
       "      <th></th>\n",
       "      <th>MCSID</th>\n",
       "      <th>AHISEX00</th>\n",
       "      <th>AHREPR00</th>\n",
       "      <th>AHNOHH00</th>\n",
       "      <th>AHCNHH00</th>\n",
       "      <th>AHPNPX00</th>\n",
       "      <th>AHRESB00</th>\n",
       "      <th>AHLANG00</th>\n",
       "      <th>AHOLAM0A</th>\n",
       "      <th>AHOLAM0B</th>\n",
       "      <th>...</th>\n",
       "      <th>AHNIOM0B</th>\n",
       "      <th>AHNIOM0C</th>\n",
       "      <th>AHWELSA0</th>\n",
       "      <th>AHWELSB0</th>\n",
       "      <th>AHGAELA0</th>\n",
       "      <th>AHGAELB0</th>\n",
       "      <th>AHIRISA0</th>\n",
       "      <th>AHIRISB0</th>\n",
       "      <th>AHULSTA0</th>\n",
       "      <th>AHULSTB0</th>\n",
       "    </tr>\n",
       "  </thead>\n",
       "  <tbody>\n",
       "    <tr>\n",
       "      <th>0</th>\n",
       "      <td>M10001N</td>\n",
       "      <td>1</td>\n",
       "      <td>3</td>\n",
       "      <td>7</td>\n",
       "      <td>6</td>\n",
       "      <td>-1</td>\n",
       "      <td>-1</td>\n",
       "      <td>1</td>\n",
       "      <td>-1</td>\n",
       "      <td>-1</td>\n",
       "      <td>...</td>\n",
       "      <td>-1</td>\n",
       "      <td>-1</td>\n",
       "      <td>-1</td>\n",
       "      <td>-1</td>\n",
       "      <td>-1</td>\n",
       "      <td>-1</td>\n",
       "      <td>-1</td>\n",
       "      <td>-1</td>\n",
       "      <td>-1</td>\n",
       "      <td>-1</td>\n",
       "    </tr>\n",
       "    <tr>\n",
       "      <th>1</th>\n",
       "      <td>M10002P</td>\n",
       "      <td>2</td>\n",
       "      <td>3</td>\n",
       "      <td>4</td>\n",
       "      <td>3</td>\n",
       "      <td>-1</td>\n",
       "      <td>-1</td>\n",
       "      <td>1</td>\n",
       "      <td>-1</td>\n",
       "      <td>-1</td>\n",
       "      <td>...</td>\n",
       "      <td>-1</td>\n",
       "      <td>-1</td>\n",
       "      <td>-1</td>\n",
       "      <td>-1</td>\n",
       "      <td>-1</td>\n",
       "      <td>-1</td>\n",
       "      <td>-1</td>\n",
       "      <td>-1</td>\n",
       "      <td>-1</td>\n",
       "      <td>-1</td>\n",
       "    </tr>\n",
       "    <tr>\n",
       "      <th>2</th>\n",
       "      <td>M10007U</td>\n",
       "      <td>2</td>\n",
       "      <td>3</td>\n",
       "      <td>3</td>\n",
       "      <td>2</td>\n",
       "      <td>-1</td>\n",
       "      <td>-1</td>\n",
       "      <td>1</td>\n",
       "      <td>-1</td>\n",
       "      <td>-1</td>\n",
       "      <td>...</td>\n",
       "      <td>-1</td>\n",
       "      <td>-1</td>\n",
       "      <td>-1</td>\n",
       "      <td>-1</td>\n",
       "      <td>-1</td>\n",
       "      <td>-1</td>\n",
       "      <td>-1</td>\n",
       "      <td>-1</td>\n",
       "      <td>-1</td>\n",
       "      <td>-1</td>\n",
       "    </tr>\n",
       "    <tr>\n",
       "      <th>3</th>\n",
       "      <td>M10008V</td>\n",
       "      <td>1</td>\n",
       "      <td>3</td>\n",
       "      <td>5</td>\n",
       "      <td>3</td>\n",
       "      <td>-1</td>\n",
       "      <td>-1</td>\n",
       "      <td>1</td>\n",
       "      <td>-1</td>\n",
       "      <td>-1</td>\n",
       "      <td>...</td>\n",
       "      <td>-1</td>\n",
       "      <td>-1</td>\n",
       "      <td>-1</td>\n",
       "      <td>-1</td>\n",
       "      <td>-1</td>\n",
       "      <td>-1</td>\n",
       "      <td>-1</td>\n",
       "      <td>-1</td>\n",
       "      <td>-1</td>\n",
       "      <td>-1</td>\n",
       "    </tr>\n",
       "    <tr>\n",
       "      <th>4</th>\n",
       "      <td>M10011Q</td>\n",
       "      <td>2</td>\n",
       "      <td>3</td>\n",
       "      <td>4</td>\n",
       "      <td>3</td>\n",
       "      <td>-1</td>\n",
       "      <td>-1</td>\n",
       "      <td>2</td>\n",
       "      <td>3</td>\n",
       "      <td>-1</td>\n",
       "      <td>...</td>\n",
       "      <td>-1</td>\n",
       "      <td>-1</td>\n",
       "      <td>-1</td>\n",
       "      <td>-1</td>\n",
       "      <td>-1</td>\n",
       "      <td>-1</td>\n",
       "      <td>-1</td>\n",
       "      <td>-1</td>\n",
       "      <td>-1</td>\n",
       "      <td>-1</td>\n",
       "    </tr>\n",
       "  </tbody>\n",
       "</table>\n",
       "<p>5 rows × 23 columns</p>\n",
       "</div>"
      ],
      "text/plain": [
       "     MCSID  AHISEX00  AHREPR00  AHNOHH00  AHCNHH00  AHPNPX00  AHRESB00  \\\n",
       "0  M10001N         1         3         7         6        -1        -1   \n",
       "1  M10002P         2         3         4         3        -1        -1   \n",
       "2  M10007U         2         3         3         2        -1        -1   \n",
       "3  M10008V         1         3         5         3        -1        -1   \n",
       "4  M10011Q         2         3         4         3        -1        -1   \n",
       "\n",
       "   AHLANG00  AHOLAM0A  AHOLAM0B  ...  AHNIOM0B  AHNIOM0C  AHWELSA0  AHWELSB0  \\\n",
       "0         1        -1        -1  ...        -1        -1        -1        -1   \n",
       "1         1        -1        -1  ...        -1        -1        -1        -1   \n",
       "2         1        -1        -1  ...        -1        -1        -1        -1   \n",
       "3         1        -1        -1  ...        -1        -1        -1        -1   \n",
       "4         2         3        -1  ...        -1        -1        -1        -1   \n",
       "\n",
       "   AHGAELA0  AHGAELB0  AHIRISA0  AHIRISB0  AHULSTA0  AHULSTB0  \n",
       "0        -1        -1        -1        -1        -1        -1  \n",
       "1        -1        -1        -1        -1        -1        -1  \n",
       "2        -1        -1        -1        -1        -1        -1  \n",
       "3        -1        -1        -1        -1        -1        -1  \n",
       "4        -1        -1        -1        -1        -1        -1  \n",
       "\n",
       "[5 rows x 23 columns]"
      ]
     },
     "execution_count": 31,
     "metadata": {},
     "output_type": "execute_result"
    }
   ],
   "source": [
    "display(data_f1.shape)\n",
    "data_f1.head()"
   ]
  },
  {
   "cell_type": "markdown",
   "id": "4b651003-dbd7-48b9-bd3c-c49ab1213009",
   "metadata": {},
   "source": [
    "### hhgrid"
   ]
  },
  {
   "cell_type": "code",
   "execution_count": 6,
   "id": "17c8f03b-3f65-4c04-9775-5833348c03a4",
   "metadata": {
    "editable": true,
    "slideshow": {
     "slide_type": ""
    },
    "tags": []
   },
   "outputs": [],
   "source": [
    "raw_data_path_hhgrid1 = os.path.join(notebook_dir,'../raw_data/sweep_1/UKDA-4683-tab/tab/mcs1_hhgrid.tab')\n",
    "data_hhgrid1 = pd.read_csv(raw_data_path_hhgrid1, sep='\\t',low_memory=False)"
   ]
  },
  {
   "cell_type": "code",
   "execution_count": 8,
   "id": "95a748c7-a47e-4d70-8b87-bede2c56988a",
   "metadata": {
    "editable": true,
    "slideshow": {
     "slide_type": ""
    },
    "tags": []
   },
   "outputs": [
    {
     "data": {
      "text/plain": [
       "(74791, 33)"
      ]
     },
     "metadata": {},
     "output_type": "display_data"
    },
    {
     "data": {
      "text/html": [
       "<div>\n",
       "<style scoped>\n",
       "    .dataframe tbody tr th:only-of-type {\n",
       "        vertical-align: middle;\n",
       "    }\n",
       "\n",
       "    .dataframe tbody tr th {\n",
       "        vertical-align: top;\n",
       "    }\n",
       "\n",
       "    .dataframe thead th {\n",
       "        text-align: right;\n",
       "    }\n",
       "</style>\n",
       "<table border=\"1\" class=\"dataframe\">\n",
       "  <thead>\n",
       "    <tr style=\"text-align: right;\">\n",
       "      <th></th>\n",
       "      <th>MCSID</th>\n",
       "      <th>APNUM00</th>\n",
       "      <th>AELIG00</th>\n",
       "      <th>ARESP00</th>\n",
       "      <th>ACNUM00</th>\n",
       "      <th>AHINTM00</th>\n",
       "      <th>AHINTY00</th>\n",
       "      <th>AHCSEX00</th>\n",
       "      <th>AHCDBM00</th>\n",
       "      <th>AHCDBY00</th>\n",
       "      <th>...</th>\n",
       "      <th>AHPRELF0</th>\n",
       "      <th>AHPRELG0</th>\n",
       "      <th>AHPRELH0</th>\n",
       "      <th>AHPRELI0</th>\n",
       "      <th>AHPRELJ0</th>\n",
       "      <th>AHPRELK0</th>\n",
       "      <th>AHPJOB00</th>\n",
       "      <th>AHPTPC00</th>\n",
       "      <th>AHAWAY00</th>\n",
       "      <th>AHINCA00</th>\n",
       "    </tr>\n",
       "  </thead>\n",
       "  <tbody>\n",
       "    <tr>\n",
       "      <th>0</th>\n",
       "      <td>M10001N</td>\n",
       "      <td>1</td>\n",
       "      <td>1</td>\n",
       "      <td>1</td>\n",
       "      <td>0</td>\n",
       "      <td>1</td>\n",
       "      <td>2002</td>\n",
       "      <td>-1</td>\n",
       "      <td>-1</td>\n",
       "      <td>-1</td>\n",
       "      <td>...</td>\n",
       "      <td>7</td>\n",
       "      <td>-1</td>\n",
       "      <td>-1</td>\n",
       "      <td>-1</td>\n",
       "      <td>-1</td>\n",
       "      <td>-1</td>\n",
       "      <td>2</td>\n",
       "      <td>1</td>\n",
       "      <td>-1</td>\n",
       "      <td>-1</td>\n",
       "    </tr>\n",
       "    <tr>\n",
       "      <th>1</th>\n",
       "      <td>M10001N</td>\n",
       "      <td>2</td>\n",
       "      <td>2</td>\n",
       "      <td>2</td>\n",
       "      <td>0</td>\n",
       "      <td>1</td>\n",
       "      <td>2002</td>\n",
       "      <td>-1</td>\n",
       "      <td>-1</td>\n",
       "      <td>-1</td>\n",
       "      <td>...</td>\n",
       "      <td>7</td>\n",
       "      <td>-1</td>\n",
       "      <td>-1</td>\n",
       "      <td>-1</td>\n",
       "      <td>-1</td>\n",
       "      <td>-1</td>\n",
       "      <td>1</td>\n",
       "      <td>1</td>\n",
       "      <td>2</td>\n",
       "      <td>1</td>\n",
       "    </tr>\n",
       "    <tr>\n",
       "      <th>2</th>\n",
       "      <td>M10001N</td>\n",
       "      <td>3</td>\n",
       "      <td>4</td>\n",
       "      <td>4</td>\n",
       "      <td>0</td>\n",
       "      <td>1</td>\n",
       "      <td>2002</td>\n",
       "      <td>-1</td>\n",
       "      <td>-1</td>\n",
       "      <td>-1</td>\n",
       "      <td>...</td>\n",
       "      <td>11</td>\n",
       "      <td>-1</td>\n",
       "      <td>-1</td>\n",
       "      <td>-1</td>\n",
       "      <td>-1</td>\n",
       "      <td>-1</td>\n",
       "      <td>-1</td>\n",
       "      <td>1</td>\n",
       "      <td>-1</td>\n",
       "      <td>-1</td>\n",
       "    </tr>\n",
       "    <tr>\n",
       "      <th>3</th>\n",
       "      <td>M10001N</td>\n",
       "      <td>4</td>\n",
       "      <td>4</td>\n",
       "      <td>4</td>\n",
       "      <td>0</td>\n",
       "      <td>1</td>\n",
       "      <td>2002</td>\n",
       "      <td>-1</td>\n",
       "      <td>-1</td>\n",
       "      <td>-1</td>\n",
       "      <td>...</td>\n",
       "      <td>11</td>\n",
       "      <td>-1</td>\n",
       "      <td>-1</td>\n",
       "      <td>-1</td>\n",
       "      <td>-1</td>\n",
       "      <td>-1</td>\n",
       "      <td>-1</td>\n",
       "      <td>1</td>\n",
       "      <td>-1</td>\n",
       "      <td>-1</td>\n",
       "    </tr>\n",
       "    <tr>\n",
       "      <th>4</th>\n",
       "      <td>M10001N</td>\n",
       "      <td>5</td>\n",
       "      <td>4</td>\n",
       "      <td>4</td>\n",
       "      <td>0</td>\n",
       "      <td>1</td>\n",
       "      <td>2002</td>\n",
       "      <td>-1</td>\n",
       "      <td>-1</td>\n",
       "      <td>-1</td>\n",
       "      <td>...</td>\n",
       "      <td>11</td>\n",
       "      <td>-1</td>\n",
       "      <td>-1</td>\n",
       "      <td>-1</td>\n",
       "      <td>-1</td>\n",
       "      <td>-1</td>\n",
       "      <td>-1</td>\n",
       "      <td>1</td>\n",
       "      <td>-1</td>\n",
       "      <td>-1</td>\n",
       "    </tr>\n",
       "  </tbody>\n",
       "</table>\n",
       "<p>5 rows × 33 columns</p>\n",
       "</div>"
      ],
      "text/plain": [
       "     MCSID  APNUM00  AELIG00 ARESP00 ACNUM00 AHINTM00 AHINTY00 AHCSEX00  \\\n",
       "0  M10001N        1        1       1       0        1     2002       -1   \n",
       "1  M10001N        2        2       2       0        1     2002       -1   \n",
       "2  M10001N        3        4       4       0        1     2002       -1   \n",
       "3  M10001N        4        4       4       0        1     2002       -1   \n",
       "4  M10001N        5        4       4       0        1     2002       -1   \n",
       "\n",
       "  AHCDBM00 AHCDBY00  ... AHPRELF0 AHPRELG0 AHPRELH0 AHPRELI0 AHPRELJ0  \\\n",
       "0       -1       -1  ...        7       -1       -1       -1       -1   \n",
       "1       -1       -1  ...        7       -1       -1       -1       -1   \n",
       "2       -1       -1  ...       11       -1       -1       -1       -1   \n",
       "3       -1       -1  ...       11       -1       -1       -1       -1   \n",
       "4       -1       -1  ...       11       -1       -1       -1       -1   \n",
       "\n",
       "  AHPRELK0 AHPJOB00 AHPTPC00 AHAWAY00 AHINCA00  \n",
       "0       -1        2        1       -1       -1  \n",
       "1       -1        1        1        2        1  \n",
       "2       -1       -1        1       -1       -1  \n",
       "3       -1       -1        1       -1       -1  \n",
       "4       -1       -1        1       -1       -1  \n",
       "\n",
       "[5 rows x 33 columns]"
      ]
     },
     "execution_count": 8,
     "metadata": {},
     "output_type": "execute_result"
    }
   ],
   "source": [
    "display(data_hhgrid1.shape)\n",
    "data_hhgrid1.head()"
   ]
  },
  {
   "cell_type": "code",
   "execution_count": null,
   "id": "7329e6ca-eba6-4b24-b9c3-1748a37df0eb",
   "metadata": {},
   "outputs": [],
   "source": []
  },
  {
   "cell_type": "markdown",
   "id": "8c63cb96-6929-47dd-9d5a-748563c071a0",
   "metadata": {},
   "source": [
    "### parent_cm_interview"
   ]
  },
  {
   "cell_type": "code",
   "execution_count": 34,
   "id": "7ce21da1-6932-4393-9e3f-133ce3ab6278",
   "metadata": {},
   "outputs": [
    {
     "name": "stderr",
     "output_type": "stream",
     "text": [
      "/tmp/ipykernel_153270/1102755822.py:2: DtypeWarning: Columns (3,5,6,7,8,9,10,11,158,159,160,161,162,163,164,165,166,167,168,169,170,171,172,173,174) have mixed types. Specify dtype option on import or set low_memory=False.\n",
      "  data_parent_cm_interview1 = pd.read_csv(raw_data_path_parent_cm_interview1, sep='\\t')\n"
     ]
    }
   ],
   "source": [
    "raw_data_path_parent_cm_interview1 = os.path.join(notebook_dir,'../raw_data/sweep_1/UKDA-4683-tab/tab/mcs1_parent_cm_interview.tab')\n",
    "data_parent_cm_interview1 = pd.read_csv(raw_data_path_parent_cm_interview1, sep='\\t')"
   ]
  },
  {
   "cell_type": "code",
   "execution_count": null,
   "id": "36a6730c-0090-4505-8c14-a8209b48155f",
   "metadata": {},
   "outputs": [],
   "source": []
  },
  {
   "cell_type": "code",
   "execution_count": null,
   "id": "1bdd7490-94cc-4ca0-acc7-5f76a2e637b7",
   "metadata": {},
   "outputs": [],
   "source": []
  },
  {
   "cell_type": "code",
   "execution_count": null,
   "id": "0b861157-b5a1-4014-ae00-ca6ce7b25e7c",
   "metadata": {},
   "outputs": [],
   "source": []
  },
  {
   "cell_type": "markdown",
   "id": "8ca39a8d-eae0-424d-a6b1-81578cc65a51",
   "metadata": {},
   "source": [
    "### parent_interview"
   ]
  },
  {
   "cell_type": "code",
   "execution_count": null,
   "id": "65449175-a265-4f2a-80d8-fe3b0c03ad92",
   "metadata": {},
   "outputs": [],
   "source": []
  },
  {
   "cell_type": "code",
   "execution_count": null,
   "id": "457e0a6f-ecbd-4a54-a769-7e0c828eff28",
   "metadata": {},
   "outputs": [],
   "source": []
  },
  {
   "cell_type": "markdown",
   "id": "7b67e4a9-0e1d-4006-aae4-16790c119026",
   "metadata": {},
   "source": [
    "### proxy_parent_interview"
   ]
  },
  {
   "cell_type": "code",
   "execution_count": null,
   "id": "d58ab976-34ac-4c0b-99e5-478513f26447",
   "metadata": {},
   "outputs": [],
   "source": []
  },
  {
   "cell_type": "code",
   "execution_count": null,
   "id": "60601ec9-4abb-4e47-b307-9afbd9228f14",
   "metadata": {},
   "outputs": [],
   "source": []
  },
  {
   "cell_type": "code",
   "execution_count": null,
   "id": "c6e9a727-f671-470e-9968-f00397814fc3",
   "metadata": {},
   "outputs": [],
   "source": []
  }
 ],
 "metadata": {
  "kernelspec": {
   "display_name": "Python 3 (ipykernel)",
   "language": "python",
   "name": "python3"
  },
  "language_info": {
   "codemirror_mode": {
    "name": "ipython",
    "version": 3
   },
   "file_extension": ".py",
   "mimetype": "text/x-python",
   "name": "python",
   "nbconvert_exporter": "python",
   "pygments_lexer": "ipython3",
   "version": "3.10.6"
  }
 },
 "nbformat": 4,
 "nbformat_minor": 5
}
