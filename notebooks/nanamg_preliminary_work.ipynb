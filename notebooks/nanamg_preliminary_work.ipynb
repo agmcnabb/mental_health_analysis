{
 "cells": [
  {
   "cell_type": "code",
   "execution_count": 2,
   "id": "fe7c1d0f-1d19-4f1d-8640-e85d80fe5082",
   "metadata": {},
   "outputs": [],
   "source": [
    "import pandas as pd\n",
    "import os\n",
    "import pathlib\n",
    "import matplotlib.pyplot as plt\n",
    "\n",
    "import re"
   ]
  },
  {
   "cell_type": "code",
   "execution_count": null,
   "id": "146dfcd3-8c8f-428e-986a-77d4f8a60f8c",
   "metadata": {},
   "outputs": [],
   "source": []
  },
  {
   "cell_type": "code",
   "execution_count": null,
   "id": "c25cb2b5-ac1a-4201-96b2-de6fc18b56cd",
   "metadata": {},
   "outputs": [],
   "source": [
    "# relative path to data_raw\n",
    "notebook_dir = pathlib.Path().resolve()\n",
    "raw_features_path = os.path.join(notebook_dir,'../raw_data/accepted_features.csv')\n",
    "features = pd.read_csv(raw_features_path)"
   ]
  },
  {
   "cell_type": "code",
   "execution_count": null,
   "id": "12567c2d-1ff5-4a90-8dec-c0a6f12e8f97",
   "metadata": {
    "scrolled": true
   },
   "outputs": [],
   "source": [
    "features"
   ]
  },
  {
   "cell_type": "code",
   "execution_count": null,
   "id": "58648f7d-36fb-4a28-bc2a-94d57408afb9",
   "metadata": {},
   "outputs": [],
   "source": [
    "print(features['Variable name'].duplicated().sum())"
   ]
  },
  {
   "cell_type": "code",
   "execution_count": null,
   "id": "1ba6ba71-80d1-4f57-b3cc-2dbb18b092b4",
   "metadata": {},
   "outputs": [],
   "source": [
    "# Extracting variable name into a list t and variable label into a list z\n",
    "\n",
    "t = features['Variable name']\n",
    "z = features['Variable label']"
   ]
  },
  {
   "cell_type": "code",
   "execution_count": null,
   "id": "8367f9b3-3b6e-43a0-87b9-d85b1abc12ba",
   "metadata": {},
   "outputs": [],
   "source": [
    "t.drop_duplicates()"
   ]
  },
  {
   "cell_type": "code",
   "execution_count": null,
   "id": "09db9d6f-0240-4cdd-a83b-b550f43e94ef",
   "metadata": {},
   "outputs": [],
   "source": [
    "t.size"
   ]
  },
  {
   "cell_type": "code",
   "execution_count": null,
   "id": "c070c415-00aa-4c1f-89fe-2901108ef2a1",
   "metadata": {},
   "outputs": [],
   "source": [
    "z.shape"
   ]
  },
  {
   "cell_type": "code",
   "execution_count": null,
   "id": "5da7f976-c39f-4f8a-b50b-abd53d2dccda",
   "metadata": {},
   "outputs": [],
   "source": [
    "# Removing whitespaces in the list\n",
    "\n",
    "z = [gap.strip() for gap in z]"
   ]
  },
  {
   "cell_type": "code",
   "execution_count": null,
   "id": "7c117e25-a489-4129-b22a-5975a0cddc73",
   "metadata": {},
   "outputs": [],
   "source": [
    "print(features['Variable name'].duplicated().sum())"
   ]
  },
  {
   "cell_type": "code",
   "execution_count": null,
   "id": "218efb9b-1581-4fdb-9de7-b8c4208342ad",
   "metadata": {},
   "outputs": [],
   "source": [
    "# Including the data index in the parameter list \n",
    "t.loc[383] = 'MCSID'"
   ]
  },
  {
   "cell_type": "code",
   "execution_count": null,
   "id": "fe2677d1-6533-43fb-9d08-9b3c8f729776",
   "metadata": {},
   "outputs": [],
   "source": [
    "t.size"
   ]
  },
  {
   "cell_type": "code",
   "execution_count": null,
   "id": "0a19af62-61e2-45b4-b62b-573322d8f22c",
   "metadata": {},
   "outputs": [],
   "source": [
    "t_duplicate = t.drop_duplicates()\n",
    "t_duplicate"
   ]
  },
  {
   "cell_type": "code",
   "execution_count": null,
   "id": "464096b5-b9d7-49b1-9575-220a41048a2b",
   "metadata": {},
   "outputs": [],
   "source": [
    "raw_data_path = os.path.join(notebook_dir,'../raw_data/sweep_6/UKDA-8156-tab/tab/mcs6_cm_interview.tab')\n",
    "data = pd.read_csv(raw_data_path , sep='\\t', index_col = 'MCSID',usecols=t)"
   ]
  },
  {
   "cell_type": "code",
   "execution_count": null,
   "id": "c2928c0e-7957-4f94-9811-9ccf333052f1",
   "metadata": {},
   "outputs": [],
   "source": [
    "data"
   ]
  },
  {
   "cell_type": "code",
   "execution_count": null,
   "id": "3a417280-a5d1-4a38-b285-16114bd3504b",
   "metadata": {},
   "outputs": [],
   "source": [
    "# Changing parameters/columns names into the ones of list z\n",
    "new_names = dict(zip(t,z))\n",
    "data = data.rename(columns=new_names)"
   ]
  },
  {
   "cell_type": "code",
   "execution_count": null,
   "id": "c3353aa4-d364-4c43-80b5-eab1e0a62a85",
   "metadata": {},
   "outputs": [],
   "source": [
    "data.shape"
   ]
  },
  {
   "cell_type": "code",
   "execution_count": null,
   "id": "3ff20f15-2184-4454-8c05-fdd48d413f6f",
   "metadata": {},
   "outputs": [],
   "source": [
    "data"
   ]
  },
  {
   "cell_type": "code",
   "execution_count": null,
   "id": "ff7231b1-9f76-4451-93d6-19d6f4c35a7f",
   "metadata": {},
   "outputs": [],
   "source": [
    "data.iloc[0:10,194:202]"
   ]
  },
  {
   "cell_type": "code",
   "execution_count": null,
   "id": "463c6d52-fba1-4dfb-a9d8-8f84459de165",
   "metadata": {},
   "outputs": [],
   "source": [
    "pattern = re.compile(rf\"RosenbergGrid\", flags=re.IGNORECASE)\n",
    "matching_columns = [col for col in data.columns if pattern.search(col)]"
   ]
  },
  {
   "cell_type": "code",
   "execution_count": null,
   "id": "9fb9f447-a97c-4582-ac53-6bfe52131055",
   "metadata": {},
   "outputs": [],
   "source": [
    "matching_columns"
   ]
  },
  {
   "cell_type": "markdown",
   "id": "193b96e6-1f5f-43ef-9327-2a6d3a9a3b36",
   "metadata": {},
   "source": [
    "##### pacemaker needs to be removed"
   ]
  },
  {
   "cell_type": "code",
   "execution_count": null,
   "id": "740b66cc-e84d-4123-99ee-dfaf5a16591b",
   "metadata": {},
   "outputs": [],
   "source": [
    "data['Check CM has pacemaker'].value_counts()"
   ]
  },
  {
   "cell_type": "markdown",
   "id": "b381b721-0ed2-499f-94be-9c24de07d01a",
   "metadata": {},
   "source": [
    "##### IWR: Check Body Fat measurement needs to be removed"
   ]
  },
  {
   "cell_type": "code",
   "execution_count": null,
   "id": "bc277391-92ca-43e1-8182-031127f875ea",
   "metadata": {},
   "outputs": [],
   "source": [
    "data['IWR: Check Body Fat measurement'].value_counts()"
   ]
  },
  {
   "cell_type": "markdown",
   "id": "3e0ea3a2-2783-479e-bd1c-52301b6a220c",
   "metadata": {},
   "source": [
    "##### AcademicSelfConceptGrid: I am good at Welsh needs to be removed"
   ]
  },
  {
   "cell_type": "code",
   "execution_count": null,
   "id": "7aa98d06-6dea-49f6-b187-cb2f2e362e69",
   "metadata": {},
   "outputs": [],
   "source": [
    "data['AcademicSelfConceptGrid: I am good at Welsh'].value_counts()"
   ]
  },
  {
   "cell_type": "markdown",
   "id": "73bf1225-8ec5-4d0a-a01f-4eb219f0953e",
   "metadata": {},
   "source": [
    "##### (last 12 months) has another YP put his/her hands under CM's clothing? consider removing"
   ]
  },
  {
   "cell_type": "code",
   "execution_count": null,
   "id": "2f17d06d-2195-4df1-bd81-266be4b0d01a",
   "metadata": {},
   "outputs": [],
   "source": [
    "data[\"(last 12 months) has another YP put his/her hands under CM's clothing?\"].value_counts()"
   ]
  },
  {
   "cell_type": "markdown",
   "id": "9f6d7290-db78-405e-a972-04682ffa10f9",
   "metadata": {},
   "source": [
    "##### (last 12 months) has CM touched another YP's private parts? needs to be removed"
   ]
  },
  {
   "cell_type": "code",
   "execution_count": null,
   "id": "b34a8814-9535-4b69-bd27-e461c16c9e17",
   "metadata": {},
   "outputs": [],
   "source": [
    "data[\"(last 12 months) has CM touched another YP's private parts?\"].value_counts()"
   ]
  },
  {
   "cell_type": "markdown",
   "id": "969e0fcd-57cd-4e53-a26e-82bf781eda64",
   "metadata": {},
   "source": [
    "##### (last 12 months) has CM performed oral sex on another young person? needs to be removed"
   ]
  },
  {
   "cell_type": "code",
   "execution_count": null,
   "id": "4cd74dc9-1f9d-4397-85d7-2bfa8ca52545",
   "metadata": {
    "scrolled": true
   },
   "outputs": [],
   "source": [
    "data[\"(last 12 months) has CM performed oral sex on another young person?\"].value_counts()"
   ]
  },
  {
   "cell_type": "markdown",
   "id": "838238a6-7baf-45c3-914a-2349864b2f0c",
   "metadata": {},
   "source": [
    "##### Age CM first started drinking alcohol consider removing\n"
   ]
  },
  {
   "cell_type": "code",
   "execution_count": null,
   "id": "fa07e066-53c8-4530-92d3-1608be983a58",
   "metadata": {
    "scrolled": true
   },
   "outputs": [],
   "source": [
    "data[\"Age CM first started drinking alcohol\"].value_counts()"
   ]
  },
  {
   "cell_type": "markdown",
   "id": "7dab08a3-f426-4d64-ab97-1cff17edec96",
   "metadata": {},
   "source": [
    "##### Age CM first had 5 or more alcoholic drinks at a time needs to be removed"
   ]
  },
  {
   "cell_type": "code",
   "execution_count": null,
   "id": "ae4e242b-be75-43c8-9620-418bc29c84ad",
   "metadata": {
    "scrolled": true
   },
   "outputs": [],
   "source": [
    "data[\"Age CM first had 5 or more alcoholic drinks at a time\"].value_counts()"
   ]
  },
  {
   "cell_type": "markdown",
   "id": "3a26e4b7-ce5f-413f-ba38-799d87d48da3",
   "metadata": {},
   "source": [
    "##### Past 12 months: freq of CM wrote/spray painted somewhere they shouldn't needs to be removed"
   ]
  },
  {
   "cell_type": "code",
   "execution_count": null,
   "id": "c11ed288-2f31-4837-a6c3-4d41e0fd4346",
   "metadata": {
    "scrolled": true
   },
   "outputs": [],
   "source": [
    "data[\"Past 12 months: freq of CM wrote/spray painted somewhere they shouldn't\"].value_counts()"
   ]
  },
  {
   "cell_type": "markdown",
   "id": "bbdd7778-2202-442f-8aa9-2f6fb6ac563a",
   "metadata": {},
   "source": [
    "##### Past 12 months: freq of CM damaged something that didn't belong to them needs to be removed"
   ]
  },
  {
   "cell_type": "code",
   "execution_count": null,
   "id": "f24cfd61-6876-41de-bdeb-1a26a63f3a36",
   "metadata": {
    "scrolled": true
   },
   "outputs": [],
   "source": [
    "data[\"Past 12 months: freq of CM damaged something that didn't belong to them\"].value_counts()"
   ]
  },
  {
   "cell_type": "markdown",
   "id": "d2d53473-cb41-4290-a7e2-4c222ef5ecd9",
   "metadata": {},
   "source": [
    "##### How severe is CM's hearing problem needs to be removed"
   ]
  },
  {
   "cell_type": "code",
   "execution_count": null,
   "id": "a5b4aefd-02e8-4417-bd5c-9067649bbb50",
   "metadata": {
    "scrolled": true
   },
   "outputs": [],
   "source": [
    "data[\"How severe is CM's hearing problem\"].value_counts()"
   ]
  },
  {
   "cell_type": "markdown",
   "id": "2648541b-1db4-41ce-8b5f-e557d6fcee15",
   "metadata": {},
   "source": [
    "##### CM voice change maybe considering removing"
   ]
  },
  {
   "cell_type": "code",
   "execution_count": null,
   "id": "ef74a1f6-1362-4506-9ba1-4b4404e3cefc",
   "metadata": {
    "scrolled": true
   },
   "outputs": [],
   "source": [
    "data[\"CM voice change\"].value_counts()"
   ]
  },
  {
   "cell_type": "markdown",
   "id": "05a05262-06df-4305-9df0-2cf3cc7db940",
   "metadata": {},
   "source": [
    "##### Age started to menstruate maybe consider removing"
   ]
  },
  {
   "cell_type": "code",
   "execution_count": null,
   "id": "5eea7d98-551b-4404-a548-af19e62a6436",
   "metadata": {
    "scrolled": true
   },
   "outputs": [],
   "source": [
    "data[\"Age started to menstruate\"].value_counts()"
   ]
  },
  {
   "cell_type": "markdown",
   "id": "33636ca4-336d-420b-bdcd-f9a01f6ce8b5",
   "metadata": {},
   "source": [
    "##### Aspirations: what CM would like to be when grow up [SOC code] R5 [truncated at 3 chars] needs to be removed"
   ]
  },
  {
   "cell_type": "code",
   "execution_count": null,
   "id": "3bd9b3f2-2fc1-494e-b0fc-cedf6a060c1b",
   "metadata": {
    "scrolled": true
   },
   "outputs": [],
   "source": [
    "data[\"Aspirations: what CM would like to be when grow up [SOC code] R5 [truncated at 3 chars]\"].value_counts()"
   ]
  },
  {
   "cell_type": "markdown",
   "id": "fb34ad9e-3477-40d9-90cc-a1a5ddf36ef8",
   "metadata": {},
   "source": [
    "##### Aspirations: what CM would like to be when grow up [SOC code] R7 [truncated at 3 chars] needs to be removed"
   ]
  },
  {
   "cell_type": "code",
   "execution_count": null,
   "id": "ff226951-755f-40f4-96fd-8455e08db3f8",
   "metadata": {},
   "outputs": [],
   "source": [
    "data[\"Aspirations: what CM would like to be when grow up [SOC code] R7 [truncated at 3 chars]\"].value_counts()"
   ]
  },
  {
   "cell_type": "code",
   "execution_count": null,
   "id": "157c3815-b86b-43a5-a79e-890bbc277e3c",
   "metadata": {},
   "outputs": [],
   "source": [
    "remove_columns = [\"Aspirations: what CM would like to be when grow up [SOC code] R7 [truncated at 3 chars]\",\n",
    "                  \"Aspirations: what CM would like to be when grow up [SOC code] R5 [truncated at 3 chars]\",\n",
    "                  \"Age started to menstruate\",\n",
    "                  \"CM voice change\",\n",
    "                  \"How severe is CM's hearing problem\",\n",
    "                  \"Past 12 months: freq of CM damaged something that didn't belong to them\",\n",
    "                  \"Past 12 months: freq of CM wrote/spray painted somewhere they shouldn't\",\n",
    "                  \"Age CM first had 5 or more alcoholic drinks at a time\",\n",
    "                  \"Age CM first started drinking alcohol\",\n",
    "                  \"(last 12 months) has CM performed oral sex on another young person?\",\n",
    "                  \"(last 12 months) has CM touched another YP's private parts?\",\n",
    "                  \"(last 12 months) has another YP put his/her hands under CM's clothing?\",\n",
    "                  'AcademicSelfConceptGrid: I am good at Welsh',\n",
    "                  'IWR: Check Body Fat measurement',\n",
    "                  'Check CM has pacemaker'\n",
    "                 ]"
   ]
  },
  {
   "cell_type": "code",
   "execution_count": null,
   "id": "ea9f24dd-ca78-4ef9-8e1d-4750e4425387",
   "metadata": {},
   "outputs": [],
   "source": [
    "data_small = data.drop(remove_columns, axis=1, inplace=True)"
   ]
  },
  {
   "cell_type": "code",
   "execution_count": null,
   "id": "3adeeb75-4d28-4c8f-8a0c-249a68bcdb0f",
   "metadata": {},
   "outputs": [],
   "source": [
    "data_small.to_csv('data_small.csv', index=False)"
   ]
  },
  {
   "cell_type": "markdown",
   "id": "cccaabfe-1d08-4032-b1a1-c302fe5fb028",
   "metadata": {},
   "source": [
    "## Loading data_small from raw_data folder"
   ]
  },
  {
   "cell_type": "code",
   "execution_count": 3,
   "id": "4ca821f3-72eb-4fe0-99ad-982f66fcd674",
   "metadata": {},
   "outputs": [],
   "source": [
    "# relative path to data_raw\n",
    "notebook_dir = pathlib.Path().resolve()\n",
    "raw_features_path_small = os.path.join(notebook_dir,'../raw_data/data_small.csv')\n",
    "data_small = pd.read_csv(raw_features_path_small)"
   ]
  },
  {
   "cell_type": "code",
   "execution_count": 4,
   "id": "7cae2c85-06a6-46a8-baaf-d91f7fa95321",
   "metadata": {},
   "outputs": [
    {
     "data": {
      "text/plain": [
       "(11859, 187)"
      ]
     },
     "execution_count": 4,
     "metadata": {},
     "output_type": "execute_result"
    }
   ],
   "source": [
    "data_small.shape"
   ]
  },
  {
   "cell_type": "markdown",
   "id": "87a90e39-7a5b-4dec-bba4-c599f08c9464",
   "metadata": {},
   "source": [
    "#### Working on feature 100 onwards"
   ]
  },
  {
   "cell_type": "code",
   "execution_count": null,
   "id": "9f9bc1b3-4c09-4b1e-82d8-eb5022817767",
   "metadata": {},
   "outputs": [],
   "source": [
    "# Highest number means no one, lowest number means everyone\n",
    "numerical_list_highest_num_is_lowest_value = [\n",
    "    'How many of your close friends work hard at school?',\n",
    "    'How many of your close friends get into a lot of trouble at school?',\n",
    "    'How often brothers or sisters hurt or pick on CM',\n",
    "    'How often CM hurts or picks on brothers or sisters',\n",
    "    'How often other children hurt or pick on CM',\n",
    "    'How often CM hurts or picks on other children',\n",
    "    'How often other children bullied CM online',\n",
    "    'How often CM bullied other children online',\n",
    "    'How often does CM drink artifically sweetened drinks',\n",
    "    'How often does CM eat fast food',\n",
    "    \"CM's general level of health\",\n",
    "    'During the last 4 weeks how often did CM awaken during sleep'\n",
    "    \n",
    "]"
   ]
  },
  {
   "cell_type": "code",
   "execution_count": 139,
   "id": "ea03b010-a64d-4c4e-971a-5adfe72de7a6",
   "metadata": {},
   "outputs": [],
   "source": [
    "numerical_list_highest_num_is_highest_value = [\n",
    "    'How often CM smokes e-cigarettes',\n",
    "    \"How many of CM's friends drink alcohol\",\n",
    "    \"Do CM's friends take any illegal drugs\",\n",
    "    'Past month: freq of CM staying out (9pm+) without Parent knowing',\n",
    "    'How often CM eats at least 2 portions of fruit',\n",
    "    'Time CM goes to sleep on a school night',\n",
    "    'Time CM wakes up on a school day',\n",
    "    'Time CM wakes up when there is no school',\n",
    "    'During the last 4 weeks how long does going to sleep usually take',\n",
    "\n",
    "    \n",
    "]"
   ]
  },
  {
   "cell_type": "code",
   "execution_count": 138,
   "id": "9cd5dfed-d0b2-4436-9e4e-891f7ba4cae0",
   "metadata": {},
   "outputs": [],
   "source": [
    "categorical_no_idea = [\n",
    "    'What type of bread does CM normally eat',\n",
    "    \n",
    "]"
   ]
  },
  {
   "cell_type": "code",
   "execution_count": null,
   "id": "c41a6776-678a-4790-87b5-1ae078773296",
   "metadata": {},
   "outputs": [],
   "source": [
    "# 0 no, 1 yes\n",
    "categorical_list_binary_0 = [\n",
    "    'What do you do if you are worried about something?',\n",
    "    'What do you do if you are worried about smthng? (Tell a (boy/girl) friend)',\n",
    "    'What do you do if you are worried about something? (Tell another relative)',\n",
    "    'What do you do if you are worried about something? (Tell a teacher)',\n",
    "    'What do you do if you are worried about something? (Tell another adult)',\n",
    "    \n",
    "]"
   ]
  },
  {
   "cell_type": "code",
   "execution_count": null,
   "id": "cbd48788-c1a2-4008-a440-942aacfa84bd",
   "metadata": {},
   "outputs": [],
   "source": [
    "# 2 no, 1 yes\n",
    "categorical_list_binary_1 = [\n",
    "    'Has CM ever been attracted to a male,',\n",
    "    '(last 12 months) has CM held hands with another young person?',\n",
    "    '(last 12 months) has CM kissed another young person?',\n",
    "    '(last 12 months) has CM cuddled with another young person?',\n",
    "    '(last 12 months) has CM had sexual intercourse with another YP?',\n",
    "    'Has CM ever had an alcoholic drink',\n",
    "    'DruGrid: Cannabis (also known as weed, marijuana, dope, hash or skunk)?',\n",
    "    'GamblinGrid: Placing a private bet for money (e.g. with friends)?',\n",
    "    'GamblinGrid: Placing a bet @ betting shop, eg football or horseracing?',\n",
    "    'VictimisGrid: CM insulted, threatened, shouted at',\n",
    "    'VictimisGrid: been physically violent towards CM',\n",
    "    'VictimisGrid: hit or used a weapon against CM',\n",
    "    'VictimisGrid: stolen something from CM',\n",
    "    'VictimisGrid: sexually assaulted CM',\n",
    "    'Has CM ever entered someones home to steal or damage something',\n",
    "    'ASBOgrid: CM Pushed or shoved/hit/slapped/punched someone?',\n",
    "    'ASBOgrid: CM Used or hit someone with a weapon?',\n",
    "    'ASBOgrid: CM stolen something from someone eg mobile phone, money',\n",
    "    'Has CM been stopped or questioned by police',\n",
    "    'Has CM ever been given a formal warning or caution from police',\n",
    "    'Has CM ever been arrested',\n",
    "    'Past 12 months: has CM sent viruses to damage/infect other computers',\n",
    "    'Does CM wear glasses or contact lenses',\n",
    "    'Does CM have difficulty seeing',\n",
    "    'Does CM have difficulty hearing',\n",
    "    'Has CM been to a dentist in last 12 months',\n",
    "    \n",
    "    \n",
    "    \n",
    "    \n",
    "    \n",
    "    \n",
    "    \n",
    "    \n",
    "    \n",
    "    \n",
    "    \n",
    "]"
   ]
  },
  {
   "cell_type": "code",
   "execution_count": null,
   "id": "fd5e6b94-2b51-4897-b6e5-118d6fac1d05",
   "metadata": {},
   "outputs": [],
   "source": [
    "# lowest number is true, highest number is not true. \n",
    "\n",
    "categorical_list_highest_num_not_true = [\n",
    "    'SocSupGrid: I have family and friends who help me feel safe, secure and happy.',\n",
    "    'SocSupGrid: There is someone I trust whom I would turn to if I had problems'\n",
    "    \n",
    "\n",
    "\n",
    "\n",
    "    \n",
    "]"
   ]
  },
  {
   "cell_type": "code",
   "execution_count": null,
   "id": "3630abe4-88da-4b39-9787-76ba0e9c1e51",
   "metadata": {},
   "outputs": [],
   "source": [
    "removing_negative_9_8_1 = [\n",
    "    'How many of your close friends work hard at school?',\n",
    "    'How many of your close friends get into a lot of trouble at school?',\n",
    "    'What do you do if you are worried about something?',\n",
    "    'What do you do if you are worried about smthng? (Tell a (boy/girl) friend)',\n",
    "    'What do you do if you are worried about something? (Tell another relative)',\n",
    "    'What do you do if you are worried about something? (Tell a teacher)',\n",
    "    'What do you do if you are worried about something? (Tell another adult)',\n",
    "    'SocSupGrid: I have family and friends who help me feel safe, secure and happy.',\n",
    "    'SocSupGrid: There is someone I trust whom I would turn to if I had problems',\n",
    "    'Has CM ever been attracted to a male',\n",
    "    '(last 12 months) has CM held hands with another young person?',\n",
    "    '(last 12 months) has CM kissed another young person?',\n",
    "    '(last 12 months) has CM cuddled with another young person?',\n",
    "    '(last 12 months) has CM had sexual intercourse with another YP?',\n",
    "     'How often CM smokes e-cigarettes',\n",
    "     \"How often CM's friends smoke cigarettes\",\n",
    "     'Has CM ever had an alcoholic drink',\n",
    "    \"How many of CM's friends drink alcohol\",\n",
    "    'DruGrid: Cannabis (also known as weed, marijuana, dope, hash or skunk)?',\n",
    "    \"Do CM's friends take any illegal drugs\",\n",
    "    'GamblinGrid: Placing a private bet for money (e.g. with friends)?',\n",
    "     'GamblinGrid: Placing a bet @ betting shop, eg football or horseracing?',\n",
    "    'How often brothers or sisters hurt or pick on CM',\n",
    "    'How often CM hurts or picks on brothers or sisters',\n",
    "    'How often other children hurt or pick on CM',\n",
    "    'How often CM hurts or picks on other children',\n",
    "    'How often other children bullied CM online',\n",
    "    'How often CM bullied other children online',\n",
    "    'VictimisGrid: CM insulted, threatened, shouted at',\n",
    "    'VictimisGrid: been physically violent towards CM',\n",
    "    'VictimisGrid: hit or used a weapon against CM',\n",
    "    'VictimisGrid: stolen something from CM',\n",
    "    'VictimisGrid: sexually assaulted CM',\n",
    "    'Past month: freq of CM staying out (9pm+) without Parent knowing',\n",
    "    'Has CM ever entered someones home to steal or damage something',\n",
    "    'ASBOgrid: CM Pushed or shoved/hit/slapped/punched someone?',\n",
    "    'ASBOgrid: CM Used or hit someone with a weapon?',\n",
    "    'ASBOgrid: CM stolen something from someone eg mobile phone, money',\n",
    "    'Has CM been stopped or questioned by police',\n",
    "    'Has CM ever been given a formal warning or caution from police',\n",
    "    'Has CM ever been arrested',\n",
    "    'Past 12 months: has CM sent viruses to damage/infect other computers',\n",
    "    'How often CM eats at least 2 portions of fruit',\n",
    "    'What type of bread does CM normally eat',\n",
    "    'How often does CM drink artifically sweetened drinks',\n",
    "    'How often does CM eat fast food',\n",
    "    \"CM's general level of health\",\n",
    "    'Does CM wear glasses or contact lenses',\n",
    "    'Does CM have difficulty seeing',\n",
    "    'Does CM have difficulty hearing',\n",
    "    'Has CM been to a dentist in last 12 months',\n",
    "    'Time CM goes to sleep on a school night',\n",
    "    'Time CM wakes up on a school day',\n",
    "    'Time CM wakes up when there is no school',\n",
    "    'During the last 4 weeks how long does going to sleep usually take',\n",
    "    'During the last 4 weeks how often did CM awaken during sleep',\n",
    "    \n",
    "    \n",
    "\n",
    "\n",
    "\n",
    "    \n",
    "]"
   ]
  },
  {
   "cell_type": "code",
   "execution_count": null,
   "id": "84a1d2d8-483e-4be2-82be-afe77f6cf4cf",
   "metadata": {},
   "outputs": [],
   "source": [
    "consider_removing = [\n",
    "    'Has CM ever been attracted to a male',\n",
    "    # has CM ever been attracted to a female is missing\n",
    "]"
   ]
  },
  {
   "cell_type": "code",
   "execution_count": 147,
   "id": "314d7ac0-b9d1-44c9-89a6-6ba9dde868a9",
   "metadata": {},
   "outputs": [],
   "source": [
    "x = 155"
   ]
  },
  {
   "cell_type": "code",
   "execution_count": 148,
   "id": "2ee4f38e-3603-4aad-9b06-ab547c4b8806",
   "metadata": {},
   "outputs": [
    {
     "data": {
      "text/plain": [
       "0        5\n",
       "1        5\n",
       "2        3\n",
       "3        6\n",
       "4        6\n",
       "        ..\n",
       "11854    5\n",
       "11855    2\n",
       "11856    5\n",
       "11857    5\n",
       "11858    6\n",
       "Name: During the last 4 weeks how often did CM awaken during sleep, Length: 11859, dtype: int64"
      ]
     },
     "execution_count": 148,
     "metadata": {},
     "output_type": "execute_result"
    }
   ],
   "source": [
    "data_small.iloc[:, x]"
   ]
  },
  {
   "cell_type": "code",
   "execution_count": 149,
   "id": "386b2b75-4af8-42fc-a0bd-a61cabd072ea",
   "metadata": {},
   "outputs": [
    {
     "data": {
      "text/plain": [
       "array([ 5,  3,  6,  2,  4, -1,  1, -9, -8])"
      ]
     },
     "execution_count": 149,
     "metadata": {},
     "output_type": "execute_result"
    }
   ],
   "source": [
    "data_small.iloc[:, x].unique()"
   ]
  },
  {
   "cell_type": "code",
   "execution_count": 143,
   "id": "173ed61c-e37e-49c0-a750-49974356d686",
   "metadata": {},
   "outputs": [
    {
     "data": {
      "text/plain": [
       "<Axes: >"
      ]
     },
     "execution_count": 143,
     "metadata": {},
     "output_type": "execute_result"
    },
    {
     "data": {
      "image/png": "[encoded data removed]",
      "text/plain": [
       "<Figure size 640x480 with 1 Axes>"
      ]
     },
     "metadata": {},
     "output_type": "display_data"
    }
   ],
   "source": [
    "data_small.iloc[:, x].hist()"
   ]
  }
 ],
 "metadata": {
  "kernelspec": {
   "display_name": "Python 3 (ipykernel)",
   "language": "python",
   "name": "python3"
  },
  "language_info": {
   "codemirror_mode": {
    "name": "ipython",
    "version": 3
   },
   "file_extension": ".py",
   "mimetype": "text/x-python",
   "name": "python",
   "nbconvert_exporter": "python",
   "pygments_lexer": "ipython3",
   "version": "3.10.6"
  }
 },
 "nbformat": 4,
 "nbformat_minor": 5
}
