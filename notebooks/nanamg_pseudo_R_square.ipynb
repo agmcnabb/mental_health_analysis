{
 "cells": [
  {
   "cell_type": "markdown",
   "id": "464ca712-e1ce-43b1-b214-2b175e5ac3d5",
   "metadata": {},
   "source": [
    "# Pseudo R-Square"
   ]
  },
  {
   "cell_type": "markdown",
   "id": "0333dde8-619c-4cd1-bbcf-08dba9b1e73d",
   "metadata": {},
   "source": [
    "### Cox and Snell R-square"
   ]
  },
  {
   "cell_type": "markdown",
   "id": "9fd0506f-3528-48b0-b0b1-9a68e30a7be6",
   "metadata": {},
   "source": [
    "these pseudo- values lie in with values closer to 1 indicating better fit\n",
    "- DL McFadden stated that a pseudo-higher than 0.2 represents an excellent fit\n",
    "- Additionally, McFadden’s can be negative\n",
    "  \n",
    "these pseudo-values may be wildly different from one another\n",
    "\n",
    "these pseudo-values cannot be interpreted like OLS \n"
   ]
  },
  {
   "cell_type": "code",
   "execution_count": null,
   "id": "d8d26f5c-f6b9-4fb2-933b-78fe9eb27018",
   "metadata": {},
   "outputs": [],
   "source": []
  },
  {
   "cell_type": "code",
   "execution_count": null,
   "id": "8f481573-8b61-4672-80ec-87676d1e1a20",
   "metadata": {},
   "outputs": [],
   "source": []
  },
  {
   "cell_type": "markdown",
   "id": "4003de7b-c4d1-422b-9868-01c2330a1875",
   "metadata": {},
   "source": [
    "### Nagelkerke R-square"
   ]
  },
  {
   "cell_type": "code",
   "execution_count": null,
   "id": "4b172c9a-787f-49a6-8fb6-3fb73fda2070",
   "metadata": {},
   "outputs": [],
   "source": []
  },
  {
   "cell_type": "code",
   "execution_count": null,
   "id": "14f44f46-f7d9-4dd6-ad65-99af4f80ff89",
   "metadata": {},
   "outputs": [],
   "source": []
  },
  {
   "cell_type": "markdown",
   "id": "83cf8c79-e34f-444b-9751-aff7b6dc45fd",
   "metadata": {},
   "source": [
    "# AUC-ROC"
   ]
  },
  {
   "cell_type": "code",
   "execution_count": null,
   "id": "fc1d9892-43c8-4843-9625-5a7c8f1a6cb9",
   "metadata": {},
   "outputs": [],
   "source": []
  },
  {
   "cell_type": "code",
   "execution_count": null,
   "id": "e247fd7e-0526-4868-a9fe-b04f678c0244",
   "metadata": {},
   "outputs": [],
   "source": []
  },
  {
   "cell_type": "code",
   "execution_count": null,
   "id": "fb2d14da-1540-4d4b-a551-61e1d731da69",
   "metadata": {},
   "outputs": [],
   "source": []
  }
 ],
 "metadata": {
  "kernelspec": {
   "display_name": "Python 3 (ipykernel)",
   "language": "python",
   "name": "python3"
  },
  "language_info": {
   "codemirror_mode": {
    "name": "ipython",
    "version": 3
   },
   "file_extension": ".py",
   "mimetype": "text/x-python",
   "name": "python",
   "nbconvert_exporter": "python",
   "pygments_lexer": "ipython3",
   "version": "3.10.6"
  }
 },
 "nbformat": 4,
 "nbformat_minor": 5
}
