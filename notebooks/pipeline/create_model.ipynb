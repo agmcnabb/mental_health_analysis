{
 "cells": [
  {
   "cell_type": "markdown",
   "metadata": {},
   "source": [
    "This notebook takes a raw sweep 6 cm interview dataset as an input, and outputs a baseline logistic regression model."
   ]
  },
  {
   "cell_type": "code",
   "execution_count": 19,
   "metadata": {},
   "outputs": [],
   "source": [
    "import functions\n",
    "import features\n",
    "import pandas as pd\n",
    "import pickle\n",
    "from sklearn.linear_model import LogisticRegression\n",
    "from sklearn.model_selection import train_test_split\n",
    "from datetime import datetime"
   ]
  },
  {
   "cell_type": "code",
   "execution_count": 2,
   "metadata": {},
   "outputs": [],
   "source": [
    "# import raw data\n",
    "raw_data = pd.read_csv('raw_data.tab', sep='\\t')"
   ]
  },
  {
   "cell_type": "code",
   "execution_count": 3,
   "metadata": {},
   "outputs": [],
   "source": [
    "# run smfq processing (engineers a y, and removes smfq features)\n",
    "X, y = functions.add_smfq_label(raw_data)"
   ]
  },
  {
   "cell_type": "code",
   "execution_count": 4,
   "metadata": {},
   "outputs": [],
   "source": [
    "# process features\n",
    "X_processed = functions.feature_processor(X, features.features)"
   ]
  },
  {
   "cell_type": "code",
   "execution_count": 5,
   "metadata": {},
   "outputs": [],
   "source": [
    "# drop columns not found in the feature lists\n",
    "\n",
    "# build list of all features in all categories\n",
    "full_feature_list = []\n",
    "for cat in features.features:\n",
    "    full_feature_list.extend(features.features[cat])\n",
    "\n",
    "# convert feature names to codes\n",
    "full_code_list = [functions.get_variable_code(feature) for feature in full_feature_list]\n",
    "\n",
    "# build list of features that appear in the dataset but not in the categories\n",
    "features_to_drop = []\n",
    "for feature in X_processed:\n",
    "    if feature not in full_code_list:\n",
    "        features_to_drop.append(feature)\n",
    "\n",
    "# and remove them\n",
    "X_processed_dropped = X_processed.drop(columns=features_to_drop)"
   ]
  },
  {
   "cell_type": "code",
   "execution_count": 11,
   "metadata": {},
   "outputs": [],
   "source": [
    "# split data\n",
    "X_train, X_test, y_train, y_test = train_test_split(X_processed_dropped, y)"
   ]
  },
  {
   "cell_type": "code",
   "execution_count": 13,
   "metadata": {},
   "outputs": [],
   "source": [
    "# define a baseline model\n",
    "model_baseline = LogisticRegression()"
   ]
  },
  {
   "cell_type": "code",
   "execution_count": null,
   "metadata": {},
   "outputs": [],
   "source": [
    "# fit model to data\n",
    "model_baseline.fit(X_train, y_train)"
   ]
  },
  {
   "cell_type": "code",
   "execution_count": null,
   "metadata": {},
   "outputs": [],
   "source": [
    "# score baseline model\n",
    "model_baseline.score(X_test, y_test)"
   ]
  },
  {
   "cell_type": "code",
   "execution_count": null,
   "metadata": {},
   "outputs": [],
   "source": [
    "# optimize hyperparameters\n",
    "#### TBC"
   ]
  },
  {
   "cell_type": "code",
   "execution_count": 21,
   "metadata": {},
   "outputs": [],
   "source": [
    "# save the model\n",
    "datetime_string = datetime.now().strftime(\"%Y-%m-%d_%H-%M-%S\")\n",
    "file_name = f\"models/model_{datetime_string}.pickle\"\n",
    "\n",
    "with open(file_name, 'wb') as file:\n",
    "    pickle.dump(model_baseline, file)"
   ]
  }
 ],
 "metadata": {
  "kernelspec": {
   "display_name": "Python 3",
   "language": "python",
   "name": "python3"
  },
  "language_info": {
   "codemirror_mode": {
    "name": "ipython",
    "version": 3
   },
   "file_extension": ".py",
   "mimetype": "text/x-python",
   "name": "python",
   "nbconvert_exporter": "python",
   "pygments_lexer": "ipython3",
   "version": "3.10.6"
  }
 },
 "nbformat": 4,
 "nbformat_minor": 2
}
